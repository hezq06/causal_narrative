{
 "cells": [
  {
   "cell_type": "code",
   "execution_count": 1,
   "id": "1924847b",
   "metadata": {},
   "outputs": [],
   "source": [
    "%reload_ext autoreload\n",
    "%autoreload 2\n",
    "import matplotlib\n",
    "# matplotlib.use('TkAgg')\n",
    "# %matplotlib\n",
    "%config Completer.use_jedi = False"
   ]
  },
  {
   "cell_type": "code",
   "execution_count": 2,
   "id": "a7076887",
   "metadata": {},
   "outputs": [],
   "source": [
    "from causal_narrative.fmriutil import *\n",
    "from causal_narrative.datautil import *"
   ]
  },
  {
   "cell_type": "markdown",
   "id": "b8c8f550",
   "metadata": {},
   "source": [
    "## Cross Layer Causal"
   ]
  },
  {
   "cell_type": "code",
   "execution_count": null,
   "id": "e2f94a2e",
   "metadata": {},
   "outputs": [],
   "source": [
    "### Sampling causal relationship with noise\n",
    "### Set 10 to a larger number to enable suffitient sampling, which may tak more time "
   ]
  },
  {
   "cell_type": "code",
   "execution_count": 3,
   "id": "9a6a03d1",
   "metadata": {
    "scrolled": true
   },
   "outputs": [
    {
     "name": "stdout",
     "output_type": "stream",
     "text": [
      "Data load from  /work1/hezq17/causal_narrative/workspace/notebook/../../dataset/narratives/code/task_meta.json\n",
      "['21styear', 'black', 'bronx', 'forgot', 'lucy', 'merlin', 'milkyway', 'notthefallintact', 'notthefalllongscram', 'notthefallshortscram', 'pieman', 'piemanpni', 'prettymouth', 'schema', 'shapesphysical', 'shapessocial', 'sherlock', 'slumlordreach', 'tunnel']\n",
      "['notthefalllongscram', 'notthefallshortscram', 'schema']\n",
      "Task notthefalllongscram removed\n",
      "Task notthefallshortscram removed\n",
      "Task schema removed\n",
      "Data load from  /work1/hezq17/causal_narrative/workspace/notebook/../../dataset/narratives/code/scan_exclude.json\n"
     ]
    },
    {
     "name": "stderr",
     "output_type": "stream",
     "text": [
      "/tmp/ipykernel_1551411/4115684034.py:10: TqdmDeprecationWarning: This function will be removed in tqdm==5.0.0\n",
      "Please use `tqdm.notebook.tqdm` instead of `tqdm.tqdm_notebook`\n",
      "  for ii_trial in tqdm_notebook(range(10)):\n"
     ]
    },
    {
     "data": {
      "application/vnd.jupyter.widget-view+json": {
       "model_id": "17c836ee521945f5a2ae703439ddfeb8",
       "version_major": 2,
       "version_minor": 0
      },
      "text/plain": [
       "  0%|          | 0/10 [00:00<?, ?it/s]"
      ]
     },
     "metadata": {},
     "output_type": "display_data"
    },
    {
     "name": "stdout",
     "output_type": "stream",
     "text": [
      "Trial number: 0\n"
     ]
    },
    {
     "name": "stderr",
     "output_type": "stream",
     "text": [
      "/home/hezq17/anaconda3/envs/causal/lib/python3.8/site-packages/torch/_utils.py:831: UserWarning: TypedStorage is deprecated. It will be removed in the future and UntypedStorage will be the only storage class. This should only matter to you if you are using storages directly.  To access UntypedStorage directly, use tensor.untyped_storage() instead of tensor.storage()\n",
      "  return self.fget.__get__(instance, owner)()\n"
     ]
    },
    {
     "name": "stdout",
     "output_type": "stream",
     "text": [
      "Data load from  /work1/hezq17/causal_narrative/workspace/notebook/../../dataset/opts/21styear/opt_no_case_tokenization.pickle\n"
     ]
    },
    {
     "data": {
      "application/vnd.jupyter.widget-view+json": {
       "model_id": "005fb62d29484099973044dff6fac76b",
       "version_major": 2,
       "version_minor": 0
      },
      "text/plain": [
       "  0%|          | 0/11712 [00:00<?, ?it/s]"
      ]
     },
     "metadata": {},
     "output_type": "display_data"
    },
    {
     "name": "stdout",
     "output_type": "stream",
     "text": [
      "Data load from  /work1/hezq17/causal_narrative/workspace/notebook/../../dataset/opts/black/opt_no_case_tokenization.pickle\n"
     ]
    },
    {
     "data": {
      "application/vnd.jupyter.widget-view+json": {
       "model_id": "8f613ec09b8e4426a2d1bb5502d11f9e",
       "version_major": 2,
       "version_minor": 0
      },
      "text/plain": [
       "  0%|          | 0/1909 [00:00<?, ?it/s]"
      ]
     },
     "metadata": {},
     "output_type": "display_data"
    },
    {
     "name": "stdout",
     "output_type": "stream",
     "text": [
      "Data load from  /work1/hezq17/causal_narrative/workspace/notebook/../../dataset/opts/bronx/opt_no_case_tokenization.pickle\n"
     ]
    },
    {
     "data": {
      "application/vnd.jupyter.widget-view+json": {
       "model_id": "bd4627f43b89463fab6cbfffe5312890",
       "version_major": 2,
       "version_minor": 0
      },
      "text/plain": [
       "  0%|          | 0/1713 [00:00<?, ?it/s]"
      ]
     },
     "metadata": {},
     "output_type": "display_data"
    },
    {
     "name": "stdout",
     "output_type": "stream",
     "text": [
      "Data load from  /work1/hezq17/causal_narrative/workspace/notebook/../../dataset/opts/forgot/opt_no_case_tokenization.pickle\n"
     ]
    },
    {
     "data": {
      "application/vnd.jupyter.widget-view+json": {
       "model_id": "6468e601dc6f4912a4dd58dd80f007bc",
       "version_major": 2,
       "version_minor": 0
      },
      "text/plain": [
       "  0%|          | 0/2589 [00:00<?, ?it/s]"
      ]
     },
     "metadata": {},
     "output_type": "display_data"
    },
    {
     "name": "stdout",
     "output_type": "stream",
     "text": [
      "Data load from  /work1/hezq17/causal_narrative/workspace/notebook/../../dataset/opts/lucy/opt_no_case_tokenization.pickle\n"
     ]
    },
    {
     "data": {
      "application/vnd.jupyter.widget-view+json": {
       "model_id": "fb32d6a2da2c4d8cb768214cfd1eb00d",
       "version_major": 2,
       "version_minor": 0
      },
      "text/plain": [
       "  0%|          | 0/2118 [00:00<?, ?it/s]"
      ]
     },
     "metadata": {},
     "output_type": "display_data"
    },
    {
     "name": "stdout",
     "output_type": "stream",
     "text": [
      "Data load from  /work1/hezq17/causal_narrative/workspace/notebook/../../dataset/opts/merlin/opt_no_case_tokenization.pickle\n"
     ]
    },
    {
     "data": {
      "application/vnd.jupyter.widget-view+json": {
       "model_id": "452fed6d89ec44e99e14a96e4d748211",
       "version_major": 2,
       "version_minor": 0
      },
      "text/plain": [
       "  0%|          | 0/2986 [00:00<?, ?it/s]"
      ]
     },
     "metadata": {},
     "output_type": "display_data"
    },
    {
     "name": "stdout",
     "output_type": "stream",
     "text": [
      "Data load from  /work1/hezq17/causal_narrative/workspace/notebook/../../dataset/opts/milkyway/opt_no_case_tokenization.pickle\n"
     ]
    },
    {
     "data": {
      "application/vnd.jupyter.widget-view+json": {
       "model_id": "a326fe8556844b3e8f319c63a740f0da",
       "version_major": 2,
       "version_minor": 0
      },
      "text/plain": [
       "  0%|          | 0/1468 [00:00<?, ?it/s]"
      ]
     },
     "metadata": {},
     "output_type": "display_data"
    },
    {
     "name": "stdout",
     "output_type": "stream",
     "text": [
      "Data load from  /work1/hezq17/causal_narrative/workspace/notebook/../../dataset/opts/notthefallintact/opt_no_case_tokenization.pickle\n"
     ]
    },
    {
     "data": {
      "application/vnd.jupyter.widget-view+json": {
       "model_id": "cdf91054135b45cda1c430db1dcda557",
       "version_major": 2,
       "version_minor": 0
      },
      "text/plain": [
       "  0%|          | 0/2147 [00:00<?, ?it/s]"
      ]
     },
     "metadata": {},
     "output_type": "display_data"
    },
    {
     "name": "stdout",
     "output_type": "stream",
     "text": [
      "Data load from  /work1/hezq17/causal_narrative/workspace/notebook/../../dataset/opts/pieman/opt_no_case_tokenization.pickle\n"
     ]
    },
    {
     "data": {
      "application/vnd.jupyter.widget-view+json": {
       "model_id": "3e1ae78b9a4347a68ac3a4d880659f86",
       "version_major": 2,
       "version_minor": 0
      },
      "text/plain": [
       "  0%|          | 0/1223 [00:00<?, ?it/s]"
      ]
     },
     "metadata": {},
     "output_type": "display_data"
    },
    {
     "name": "stdout",
     "output_type": "stream",
     "text": [
      "Data load from  /work1/hezq17/causal_narrative/workspace/notebook/../../dataset/opts/piemanpni/opt_no_case_tokenization.pickle\n"
     ]
    },
    {
     "data": {
      "application/vnd.jupyter.widget-view+json": {
       "model_id": "afb7950ff6954ff6923abc1e954036f0",
       "version_major": 2,
       "version_minor": 0
      },
      "text/plain": [
       "  0%|          | 0/1285 [00:00<?, ?it/s]"
      ]
     },
     "metadata": {},
     "output_type": "display_data"
    },
    {
     "name": "stdout",
     "output_type": "stream",
     "text": [
      "Data load from  /work1/hezq17/causal_narrative/workspace/notebook/../../dataset/opts/prettymouth/opt_no_case_tokenization.pickle\n"
     ]
    },
    {
     "data": {
      "application/vnd.jupyter.widget-view+json": {
       "model_id": "579908f08df643a1935501af985dd71f",
       "version_major": 2,
       "version_minor": 0
      },
      "text/plain": [
       "  0%|          | 0/2823 [00:00<?, ?it/s]"
      ]
     },
     "metadata": {},
     "output_type": "display_data"
    },
    {
     "name": "stdout",
     "output_type": "stream",
     "text": [
      "Data load from  /work1/hezq17/causal_narrative/workspace/notebook/../../dataset/opts/shapesphysical/opt_no_case_tokenization.pickle\n"
     ]
    },
    {
     "data": {
      "application/vnd.jupyter.widget-view+json": {
       "model_id": "d0f7ae4fc5d147dfbef12aced1dcac9e",
       "version_major": 2,
       "version_minor": 0
      },
      "text/plain": [
       "  0%|          | 0/1142 [00:00<?, ?it/s]"
      ]
     },
     "metadata": {},
     "output_type": "display_data"
    },
    {
     "name": "stdout",
     "output_type": "stream",
     "text": [
      "Data load from  /work1/hezq17/causal_narrative/workspace/notebook/../../dataset/opts/shapessocial/opt_no_case_tokenization.pickle\n"
     ]
    },
    {
     "data": {
      "application/vnd.jupyter.widget-view+json": {
       "model_id": "20e9a58d47a9484baf5d3180e0f41879",
       "version_major": 2,
       "version_minor": 0
      },
      "text/plain": [
       "  0%|          | 0/1080 [00:00<?, ?it/s]"
      ]
     },
     "metadata": {},
     "output_type": "display_data"
    },
    {
     "name": "stdout",
     "output_type": "stream",
     "text": [
      "Data load from  /work1/hezq17/causal_narrative/workspace/notebook/../../dataset/opts/sherlock/opt_no_case_tokenization.pickle\n"
     ]
    },
    {
     "data": {
      "application/vnd.jupyter.widget-view+json": {
       "model_id": "2226702b93f34acc8497f5e2cf4fefaf",
       "version_major": 2,
       "version_minor": 0
      },
      "text/plain": [
       "  0%|          | 0/3678 [00:00<?, ?it/s]"
      ]
     },
     "metadata": {},
     "output_type": "display_data"
    },
    {
     "name": "stdout",
     "output_type": "stream",
     "text": [
      "Data load from  /work1/hezq17/causal_narrative/workspace/notebook/../../dataset/opts/slumlordreach/opt_no_case_tokenization.pickle\n"
     ]
    },
    {
     "data": {
      "application/vnd.jupyter.widget-view+json": {
       "model_id": "1dced7c93cde448584b5209085f5351e",
       "version_major": 2,
       "version_minor": 0
      },
      "text/plain": [
       "  0%|          | 0/6823 [00:00<?, ?it/s]"
      ]
     },
     "metadata": {},
     "output_type": "display_data"
    },
    {
     "name": "stdout",
     "output_type": "stream",
     "text": [
      "Data load from  /work1/hezq17/causal_narrative/workspace/notebook/../../dataset/opts/tunnel/opt_no_case_tokenization.pickle\n"
     ]
    },
    {
     "data": {
      "application/vnd.jupyter.widget-view+json": {
       "model_id": "fa536513b8fa41cc8720e6ee8e051aed",
       "version_major": 2,
       "version_minor": 0
      },
      "text/plain": [
       "  0%|          | 0/4780 [00:00<?, ?it/s]"
      ]
     },
     "metadata": {},
     "output_type": "display_data"
    },
    {
     "name": "stdout",
     "output_type": "stream",
     "text": [
      "Trial number: 1\n",
      "Data load from  /work1/hezq17/causal_narrative/workspace/notebook/../../dataset/opts/21styear/opt_no_case_tokenization.pickle\n"
     ]
    },
    {
     "data": {
      "application/vnd.jupyter.widget-view+json": {
       "model_id": "0fca75ace54f474797b4c75471d2dd62",
       "version_major": 2,
       "version_minor": 0
      },
      "text/plain": [
       "  0%|          | 0/11712 [00:00<?, ?it/s]"
      ]
     },
     "metadata": {},
     "output_type": "display_data"
    },
    {
     "name": "stdout",
     "output_type": "stream",
     "text": [
      "Data load from  /work1/hezq17/causal_narrative/workspace/notebook/../../dataset/opts/black/opt_no_case_tokenization.pickle\n"
     ]
    },
    {
     "data": {
      "application/vnd.jupyter.widget-view+json": {
       "model_id": "c4819e852aaf494a9b9522d9bbbb56dd",
       "version_major": 2,
       "version_minor": 0
      },
      "text/plain": [
       "  0%|          | 0/1909 [00:00<?, ?it/s]"
      ]
     },
     "metadata": {},
     "output_type": "display_data"
    },
    {
     "name": "stdout",
     "output_type": "stream",
     "text": [
      "Data load from  /work1/hezq17/causal_narrative/workspace/notebook/../../dataset/opts/bronx/opt_no_case_tokenization.pickle\n"
     ]
    },
    {
     "data": {
      "application/vnd.jupyter.widget-view+json": {
       "model_id": "4390efe340b144b19194131ab8f0d924",
       "version_major": 2,
       "version_minor": 0
      },
      "text/plain": [
       "  0%|          | 0/1713 [00:00<?, ?it/s]"
      ]
     },
     "metadata": {},
     "output_type": "display_data"
    },
    {
     "name": "stdout",
     "output_type": "stream",
     "text": [
      "Data load from  /work1/hezq17/causal_narrative/workspace/notebook/../../dataset/opts/forgot/opt_no_case_tokenization.pickle\n"
     ]
    },
    {
     "data": {
      "application/vnd.jupyter.widget-view+json": {
       "model_id": "474cd31a495e4d0e9a630e6dacc34f36",
       "version_major": 2,
       "version_minor": 0
      },
      "text/plain": [
       "  0%|          | 0/2589 [00:00<?, ?it/s]"
      ]
     },
     "metadata": {},
     "output_type": "display_data"
    },
    {
     "name": "stdout",
     "output_type": "stream",
     "text": [
      "Data load from  /work1/hezq17/causal_narrative/workspace/notebook/../../dataset/opts/lucy/opt_no_case_tokenization.pickle\n"
     ]
    },
    {
     "data": {
      "application/vnd.jupyter.widget-view+json": {
       "model_id": "f0584667730e4949ab207db3e2ecb7af",
       "version_major": 2,
       "version_minor": 0
      },
      "text/plain": [
       "  0%|          | 0/2118 [00:00<?, ?it/s]"
      ]
     },
     "metadata": {},
     "output_type": "display_data"
    },
    {
     "name": "stdout",
     "output_type": "stream",
     "text": [
      "Data load from  /work1/hezq17/causal_narrative/workspace/notebook/../../dataset/opts/merlin/opt_no_case_tokenization.pickle\n"
     ]
    },
    {
     "data": {
      "application/vnd.jupyter.widget-view+json": {
       "model_id": "3f866027999d438d879498d230b28fdc",
       "version_major": 2,
       "version_minor": 0
      },
      "text/plain": [
       "  0%|          | 0/2986 [00:00<?, ?it/s]"
      ]
     },
     "metadata": {},
     "output_type": "display_data"
    },
    {
     "name": "stdout",
     "output_type": "stream",
     "text": [
      "Data load from  /work1/hezq17/causal_narrative/workspace/notebook/../../dataset/opts/milkyway/opt_no_case_tokenization.pickle\n"
     ]
    },
    {
     "data": {
      "application/vnd.jupyter.widget-view+json": {
       "model_id": "ad354d0a15e348ccb32fca9d1a290c3b",
       "version_major": 2,
       "version_minor": 0
      },
      "text/plain": [
       "  0%|          | 0/1468 [00:00<?, ?it/s]"
      ]
     },
     "metadata": {},
     "output_type": "display_data"
    },
    {
     "name": "stdout",
     "output_type": "stream",
     "text": [
      "Data load from  /work1/hezq17/causal_narrative/workspace/notebook/../../dataset/opts/notthefallintact/opt_no_case_tokenization.pickle\n"
     ]
    },
    {
     "data": {
      "application/vnd.jupyter.widget-view+json": {
       "model_id": "433d0f3b8a79488b804a462b3b080b8f",
       "version_major": 2,
       "version_minor": 0
      },
      "text/plain": [
       "  0%|          | 0/2147 [00:00<?, ?it/s]"
      ]
     },
     "metadata": {},
     "output_type": "display_data"
    },
    {
     "name": "stdout",
     "output_type": "stream",
     "text": [
      "Data load from  /work1/hezq17/causal_narrative/workspace/notebook/../../dataset/opts/pieman/opt_no_case_tokenization.pickle\n"
     ]
    },
    {
     "data": {
      "application/vnd.jupyter.widget-view+json": {
       "model_id": "13ec9050ef16491495be1a9c3a73e5df",
       "version_major": 2,
       "version_minor": 0
      },
      "text/plain": [
       "  0%|          | 0/1223 [00:00<?, ?it/s]"
      ]
     },
     "metadata": {},
     "output_type": "display_data"
    },
    {
     "name": "stdout",
     "output_type": "stream",
     "text": [
      "Data load from  /work1/hezq17/causal_narrative/workspace/notebook/../../dataset/opts/piemanpni/opt_no_case_tokenization.pickle\n"
     ]
    },
    {
     "data": {
      "application/vnd.jupyter.widget-view+json": {
       "model_id": "7cfe9825fa7545a08421315b8217a2d2",
       "version_major": 2,
       "version_minor": 0
      },
      "text/plain": [
       "  0%|          | 0/1285 [00:00<?, ?it/s]"
      ]
     },
     "metadata": {},
     "output_type": "display_data"
    },
    {
     "name": "stdout",
     "output_type": "stream",
     "text": [
      "Data load from  /work1/hezq17/causal_narrative/workspace/notebook/../../dataset/opts/prettymouth/opt_no_case_tokenization.pickle\n"
     ]
    },
    {
     "data": {
      "application/vnd.jupyter.widget-view+json": {
       "model_id": "f595d5ff4319464b8dfbf5a9f1973b9e",
       "version_major": 2,
       "version_minor": 0
      },
      "text/plain": [
       "  0%|          | 0/2823 [00:00<?, ?it/s]"
      ]
     },
     "metadata": {},
     "output_type": "display_data"
    },
    {
     "name": "stdout",
     "output_type": "stream",
     "text": [
      "Data load from  /work1/hezq17/causal_narrative/workspace/notebook/../../dataset/opts/shapesphysical/opt_no_case_tokenization.pickle\n"
     ]
    },
    {
     "data": {
      "application/vnd.jupyter.widget-view+json": {
       "model_id": "3053d05096154d9fbbe9779af948d45a",
       "version_major": 2,
       "version_minor": 0
      },
      "text/plain": [
       "  0%|          | 0/1142 [00:00<?, ?it/s]"
      ]
     },
     "metadata": {},
     "output_type": "display_data"
    },
    {
     "name": "stdout",
     "output_type": "stream",
     "text": [
      "Data load from  /work1/hezq17/causal_narrative/workspace/notebook/../../dataset/opts/shapessocial/opt_no_case_tokenization.pickle\n"
     ]
    },
    {
     "data": {
      "application/vnd.jupyter.widget-view+json": {
       "model_id": "2befdd36411d4896a13811f43ee5fe3d",
       "version_major": 2,
       "version_minor": 0
      },
      "text/plain": [
       "  0%|          | 0/1080 [00:00<?, ?it/s]"
      ]
     },
     "metadata": {},
     "output_type": "display_data"
    },
    {
     "name": "stdout",
     "output_type": "stream",
     "text": [
      "Data load from  /work1/hezq17/causal_narrative/workspace/notebook/../../dataset/opts/sherlock/opt_no_case_tokenization.pickle\n"
     ]
    },
    {
     "data": {
      "application/vnd.jupyter.widget-view+json": {
       "model_id": "e65d74391b6649e4b05f398769557f9d",
       "version_major": 2,
       "version_minor": 0
      },
      "text/plain": [
       "  0%|          | 0/3678 [00:00<?, ?it/s]"
      ]
     },
     "metadata": {},
     "output_type": "display_data"
    },
    {
     "name": "stdout",
     "output_type": "stream",
     "text": [
      "Data load from  /work1/hezq17/causal_narrative/workspace/notebook/../../dataset/opts/slumlordreach/opt_no_case_tokenization.pickle\n"
     ]
    },
    {
     "data": {
      "application/vnd.jupyter.widget-view+json": {
       "model_id": "bda7f708a6c943d9b6a6d5e9366dccbb",
       "version_major": 2,
       "version_minor": 0
      },
      "text/plain": [
       "  0%|          | 0/6823 [00:00<?, ?it/s]"
      ]
     },
     "metadata": {},
     "output_type": "display_data"
    },
    {
     "name": "stdout",
     "output_type": "stream",
     "text": [
      "Data load from  /work1/hezq17/causal_narrative/workspace/notebook/../../dataset/opts/tunnel/opt_no_case_tokenization.pickle\n"
     ]
    },
    {
     "data": {
      "application/vnd.jupyter.widget-view+json": {
       "model_id": "68028641863840adabb3db704482751b",
       "version_major": 2,
       "version_minor": 0
      },
      "text/plain": [
       "  0%|          | 0/4780 [00:00<?, ?it/s]"
      ]
     },
     "metadata": {},
     "output_type": "display_data"
    },
    {
     "name": "stdout",
     "output_type": "stream",
     "text": [
      "Trial number: 2\n",
      "Data load from  /work1/hezq17/causal_narrative/workspace/notebook/../../dataset/opts/21styear/opt_no_case_tokenization.pickle\n"
     ]
    },
    {
     "data": {
      "application/vnd.jupyter.widget-view+json": {
       "model_id": "2eaf8c4c20b2423ca8bcf051ed6706c2",
       "version_major": 2,
       "version_minor": 0
      },
      "text/plain": [
       "  0%|          | 0/11712 [00:00<?, ?it/s]"
      ]
     },
     "metadata": {},
     "output_type": "display_data"
    },
    {
     "name": "stdout",
     "output_type": "stream",
     "text": [
      "Data load from  /work1/hezq17/causal_narrative/workspace/notebook/../../dataset/opts/black/opt_no_case_tokenization.pickle\n"
     ]
    },
    {
     "data": {
      "application/vnd.jupyter.widget-view+json": {
       "model_id": "0795de2b7e3f474f91f1f8e536006b44",
       "version_major": 2,
       "version_minor": 0
      },
      "text/plain": [
       "  0%|          | 0/1909 [00:00<?, ?it/s]"
      ]
     },
     "metadata": {},
     "output_type": "display_data"
    },
    {
     "name": "stdout",
     "output_type": "stream",
     "text": [
      "Data load from  /work1/hezq17/causal_narrative/workspace/notebook/../../dataset/opts/bronx/opt_no_case_tokenization.pickle\n"
     ]
    },
    {
     "data": {
      "application/vnd.jupyter.widget-view+json": {
       "model_id": "bdf4430e824c4ba19135a73b5887b16b",
       "version_major": 2,
       "version_minor": 0
      },
      "text/plain": [
       "  0%|          | 0/1713 [00:00<?, ?it/s]"
      ]
     },
     "metadata": {},
     "output_type": "display_data"
    },
    {
     "name": "stdout",
     "output_type": "stream",
     "text": [
      "Data load from  /work1/hezq17/causal_narrative/workspace/notebook/../../dataset/opts/forgot/opt_no_case_tokenization.pickle\n"
     ]
    },
    {
     "data": {
      "application/vnd.jupyter.widget-view+json": {
       "model_id": "87c0196b39c9466d83b61814f8883114",
       "version_major": 2,
       "version_minor": 0
      },
      "text/plain": [
       "  0%|          | 0/2589 [00:00<?, ?it/s]"
      ]
     },
     "metadata": {},
     "output_type": "display_data"
    },
    {
     "name": "stdout",
     "output_type": "stream",
     "text": [
      "Data load from  /work1/hezq17/causal_narrative/workspace/notebook/../../dataset/opts/lucy/opt_no_case_tokenization.pickle\n"
     ]
    },
    {
     "data": {
      "application/vnd.jupyter.widget-view+json": {
       "model_id": "7c1e189bef0342ffbf48cdc2e615344b",
       "version_major": 2,
       "version_minor": 0
      },
      "text/plain": [
       "  0%|          | 0/2118 [00:00<?, ?it/s]"
      ]
     },
     "metadata": {},
     "output_type": "display_data"
    },
    {
     "name": "stdout",
     "output_type": "stream",
     "text": [
      "Data load from  /work1/hezq17/causal_narrative/workspace/notebook/../../dataset/opts/merlin/opt_no_case_tokenization.pickle\n"
     ]
    },
    {
     "data": {
      "application/vnd.jupyter.widget-view+json": {
       "model_id": "0c16afdecbc44cf0bfe9ee1b0466428a",
       "version_major": 2,
       "version_minor": 0
      },
      "text/plain": [
       "  0%|          | 0/2986 [00:00<?, ?it/s]"
      ]
     },
     "metadata": {},
     "output_type": "display_data"
    },
    {
     "name": "stdout",
     "output_type": "stream",
     "text": [
      "Data load from  /work1/hezq17/causal_narrative/workspace/notebook/../../dataset/opts/milkyway/opt_no_case_tokenization.pickle\n"
     ]
    },
    {
     "data": {
      "application/vnd.jupyter.widget-view+json": {
       "model_id": "c3e1c48e78ee45e2852cd6dbc86901bf",
       "version_major": 2,
       "version_minor": 0
      },
      "text/plain": [
       "  0%|          | 0/1468 [00:00<?, ?it/s]"
      ]
     },
     "metadata": {},
     "output_type": "display_data"
    },
    {
     "name": "stdout",
     "output_type": "stream",
     "text": [
      "Data load from  /work1/hezq17/causal_narrative/workspace/notebook/../../dataset/opts/notthefallintact/opt_no_case_tokenization.pickle\n"
     ]
    },
    {
     "data": {
      "application/vnd.jupyter.widget-view+json": {
       "model_id": "79092d8d2e144882862089e2394e0f00",
       "version_major": 2,
       "version_minor": 0
      },
      "text/plain": [
       "  0%|          | 0/2147 [00:00<?, ?it/s]"
      ]
     },
     "metadata": {},
     "output_type": "display_data"
    },
    {
     "name": "stdout",
     "output_type": "stream",
     "text": [
      "Data load from  /work1/hezq17/causal_narrative/workspace/notebook/../../dataset/opts/pieman/opt_no_case_tokenization.pickle\n"
     ]
    },
    {
     "data": {
      "application/vnd.jupyter.widget-view+json": {
       "model_id": "5379a8b180334fb88af208e9ef6bf85a",
       "version_major": 2,
       "version_minor": 0
      },
      "text/plain": [
       "  0%|          | 0/1223 [00:00<?, ?it/s]"
      ]
     },
     "metadata": {},
     "output_type": "display_data"
    },
    {
     "name": "stdout",
     "output_type": "stream",
     "text": [
      "Data load from  /work1/hezq17/causal_narrative/workspace/notebook/../../dataset/opts/piemanpni/opt_no_case_tokenization.pickle\n"
     ]
    },
    {
     "data": {
      "application/vnd.jupyter.widget-view+json": {
       "model_id": "48a6165c58af4e2e9ef08cc4e2b577de",
       "version_major": 2,
       "version_minor": 0
      },
      "text/plain": [
       "  0%|          | 0/1285 [00:00<?, ?it/s]"
      ]
     },
     "metadata": {},
     "output_type": "display_data"
    },
    {
     "name": "stdout",
     "output_type": "stream",
     "text": [
      "Data load from  /work1/hezq17/causal_narrative/workspace/notebook/../../dataset/opts/prettymouth/opt_no_case_tokenization.pickle\n"
     ]
    },
    {
     "data": {
      "application/vnd.jupyter.widget-view+json": {
       "model_id": "bc029a111a8747e6be1fee82d2998ef9",
       "version_major": 2,
       "version_minor": 0
      },
      "text/plain": [
       "  0%|          | 0/2823 [00:00<?, ?it/s]"
      ]
     },
     "metadata": {},
     "output_type": "display_data"
    },
    {
     "name": "stdout",
     "output_type": "stream",
     "text": [
      "Data load from  /work1/hezq17/causal_narrative/workspace/notebook/../../dataset/opts/shapesphysical/opt_no_case_tokenization.pickle\n"
     ]
    },
    {
     "data": {
      "application/vnd.jupyter.widget-view+json": {
       "model_id": "391340dba253411eba2da51733365e45",
       "version_major": 2,
       "version_minor": 0
      },
      "text/plain": [
       "  0%|          | 0/1142 [00:00<?, ?it/s]"
      ]
     },
     "metadata": {},
     "output_type": "display_data"
    },
    {
     "name": "stdout",
     "output_type": "stream",
     "text": [
      "Data load from  /work1/hezq17/causal_narrative/workspace/notebook/../../dataset/opts/shapessocial/opt_no_case_tokenization.pickle\n"
     ]
    },
    {
     "data": {
      "application/vnd.jupyter.widget-view+json": {
       "model_id": "c200079547ed455da77dbfac47de5ce7",
       "version_major": 2,
       "version_minor": 0
      },
      "text/plain": [
       "  0%|          | 0/1080 [00:00<?, ?it/s]"
      ]
     },
     "metadata": {},
     "output_type": "display_data"
    },
    {
     "name": "stdout",
     "output_type": "stream",
     "text": [
      "Data load from  /work1/hezq17/causal_narrative/workspace/notebook/../../dataset/opts/sherlock/opt_no_case_tokenization.pickle\n"
     ]
    },
    {
     "data": {
      "application/vnd.jupyter.widget-view+json": {
       "model_id": "5fc497771abb4324a8442d7cd937c628",
       "version_major": 2,
       "version_minor": 0
      },
      "text/plain": [
       "  0%|          | 0/3678 [00:00<?, ?it/s]"
      ]
     },
     "metadata": {},
     "output_type": "display_data"
    },
    {
     "name": "stdout",
     "output_type": "stream",
     "text": [
      "Data load from  /work1/hezq17/causal_narrative/workspace/notebook/../../dataset/opts/slumlordreach/opt_no_case_tokenization.pickle\n"
     ]
    },
    {
     "data": {
      "application/vnd.jupyter.widget-view+json": {
       "model_id": "1269f88aca0c45f3900417772060d1b6",
       "version_major": 2,
       "version_minor": 0
      },
      "text/plain": [
       "  0%|          | 0/6823 [00:00<?, ?it/s]"
      ]
     },
     "metadata": {},
     "output_type": "display_data"
    },
    {
     "name": "stdout",
     "output_type": "stream",
     "text": [
      "Data load from  /work1/hezq17/causal_narrative/workspace/notebook/../../dataset/opts/tunnel/opt_no_case_tokenization.pickle\n"
     ]
    },
    {
     "data": {
      "application/vnd.jupyter.widget-view+json": {
       "model_id": "218d2ba51aa54002a129cbc266bd490a",
       "version_major": 2,
       "version_minor": 0
      },
      "text/plain": [
       "  0%|          | 0/4780 [00:00<?, ?it/s]"
      ]
     },
     "metadata": {},
     "output_type": "display_data"
    },
    {
     "name": "stdout",
     "output_type": "stream",
     "text": [
      "Trial number: 3\n",
      "Data load from  /work1/hezq17/causal_narrative/workspace/notebook/../../dataset/opts/21styear/opt_no_case_tokenization.pickle\n"
     ]
    },
    {
     "data": {
      "application/vnd.jupyter.widget-view+json": {
       "model_id": "eff7479723d74d5eb653a959d0fe82f4",
       "version_major": 2,
       "version_minor": 0
      },
      "text/plain": [
       "  0%|          | 0/11712 [00:00<?, ?it/s]"
      ]
     },
     "metadata": {},
     "output_type": "display_data"
    },
    {
     "name": "stdout",
     "output_type": "stream",
     "text": [
      "Data load from  /work1/hezq17/causal_narrative/workspace/notebook/../../dataset/opts/black/opt_no_case_tokenization.pickle\n"
     ]
    },
    {
     "data": {
      "application/vnd.jupyter.widget-view+json": {
       "model_id": "c91730e03d334206920bf70e8c557091",
       "version_major": 2,
       "version_minor": 0
      },
      "text/plain": [
       "  0%|          | 0/1909 [00:00<?, ?it/s]"
      ]
     },
     "metadata": {},
     "output_type": "display_data"
    },
    {
     "name": "stdout",
     "output_type": "stream",
     "text": [
      "Data load from  /work1/hezq17/causal_narrative/workspace/notebook/../../dataset/opts/bronx/opt_no_case_tokenization.pickle\n"
     ]
    },
    {
     "data": {
      "application/vnd.jupyter.widget-view+json": {
       "model_id": "56b7ee42a4774b549f1850219290c7e9",
       "version_major": 2,
       "version_minor": 0
      },
      "text/plain": [
       "  0%|          | 0/1713 [00:00<?, ?it/s]"
      ]
     },
     "metadata": {},
     "output_type": "display_data"
    },
    {
     "name": "stdout",
     "output_type": "stream",
     "text": [
      "Data load from  /work1/hezq17/causal_narrative/workspace/notebook/../../dataset/opts/forgot/opt_no_case_tokenization.pickle\n"
     ]
    },
    {
     "data": {
      "application/vnd.jupyter.widget-view+json": {
       "model_id": "35fa2b65e0d8405bb9bfe1e443a92a44",
       "version_major": 2,
       "version_minor": 0
      },
      "text/plain": [
       "  0%|          | 0/2589 [00:00<?, ?it/s]"
      ]
     },
     "metadata": {},
     "output_type": "display_data"
    },
    {
     "name": "stdout",
     "output_type": "stream",
     "text": [
      "Data load from  /work1/hezq17/causal_narrative/workspace/notebook/../../dataset/opts/lucy/opt_no_case_tokenization.pickle\n"
     ]
    },
    {
     "data": {
      "application/vnd.jupyter.widget-view+json": {
       "model_id": "1db58427afef481d87c27ae69bb653e7",
       "version_major": 2,
       "version_minor": 0
      },
      "text/plain": [
       "  0%|          | 0/2118 [00:00<?, ?it/s]"
      ]
     },
     "metadata": {},
     "output_type": "display_data"
    },
    {
     "name": "stdout",
     "output_type": "stream",
     "text": [
      "Data load from  /work1/hezq17/causal_narrative/workspace/notebook/../../dataset/opts/merlin/opt_no_case_tokenization.pickle\n"
     ]
    },
    {
     "data": {
      "application/vnd.jupyter.widget-view+json": {
       "model_id": "dbee7d5360d04e378797945d6ac4326e",
       "version_major": 2,
       "version_minor": 0
      },
      "text/plain": [
       "  0%|          | 0/2986 [00:00<?, ?it/s]"
      ]
     },
     "metadata": {},
     "output_type": "display_data"
    },
    {
     "name": "stdout",
     "output_type": "stream",
     "text": [
      "Data load from  /work1/hezq17/causal_narrative/workspace/notebook/../../dataset/opts/milkyway/opt_no_case_tokenization.pickle\n"
     ]
    },
    {
     "data": {
      "application/vnd.jupyter.widget-view+json": {
       "model_id": "2bb6ab8881174a56b5d64112422f8d2b",
       "version_major": 2,
       "version_minor": 0
      },
      "text/plain": [
       "  0%|          | 0/1468 [00:00<?, ?it/s]"
      ]
     },
     "metadata": {},
     "output_type": "display_data"
    },
    {
     "name": "stdout",
     "output_type": "stream",
     "text": [
      "Data load from  /work1/hezq17/causal_narrative/workspace/notebook/../../dataset/opts/notthefallintact/opt_no_case_tokenization.pickle\n"
     ]
    },
    {
     "data": {
      "application/vnd.jupyter.widget-view+json": {
       "model_id": "6b7692b40c404d10b481aedd893b3911",
       "version_major": 2,
       "version_minor": 0
      },
      "text/plain": [
       "  0%|          | 0/2147 [00:00<?, ?it/s]"
      ]
     },
     "metadata": {},
     "output_type": "display_data"
    },
    {
     "name": "stdout",
     "output_type": "stream",
     "text": [
      "Data load from  /work1/hezq17/causal_narrative/workspace/notebook/../../dataset/opts/pieman/opt_no_case_tokenization.pickle\n"
     ]
    },
    {
     "data": {
      "application/vnd.jupyter.widget-view+json": {
       "model_id": "54955f0707764518a8dcecb026cf27ff",
       "version_major": 2,
       "version_minor": 0
      },
      "text/plain": [
       "  0%|          | 0/1223 [00:00<?, ?it/s]"
      ]
     },
     "metadata": {},
     "output_type": "display_data"
    },
    {
     "name": "stdout",
     "output_type": "stream",
     "text": [
      "Data load from  /work1/hezq17/causal_narrative/workspace/notebook/../../dataset/opts/piemanpni/opt_no_case_tokenization.pickle\n"
     ]
    },
    {
     "data": {
      "application/vnd.jupyter.widget-view+json": {
       "model_id": "8e5d93d054904dfaa8fe295271822765",
       "version_major": 2,
       "version_minor": 0
      },
      "text/plain": [
       "  0%|          | 0/1285 [00:00<?, ?it/s]"
      ]
     },
     "metadata": {},
     "output_type": "display_data"
    },
    {
     "name": "stdout",
     "output_type": "stream",
     "text": [
      "Data load from  /work1/hezq17/causal_narrative/workspace/notebook/../../dataset/opts/prettymouth/opt_no_case_tokenization.pickle\n"
     ]
    },
    {
     "data": {
      "application/vnd.jupyter.widget-view+json": {
       "model_id": "f485cf1bae564e8ba28ec4f398679fc8",
       "version_major": 2,
       "version_minor": 0
      },
      "text/plain": [
       "  0%|          | 0/2823 [00:00<?, ?it/s]"
      ]
     },
     "metadata": {},
     "output_type": "display_data"
    },
    {
     "name": "stdout",
     "output_type": "stream",
     "text": [
      "Data load from  /work1/hezq17/causal_narrative/workspace/notebook/../../dataset/opts/shapesphysical/opt_no_case_tokenization.pickle\n"
     ]
    },
    {
     "data": {
      "application/vnd.jupyter.widget-view+json": {
       "model_id": "aae7ddcd2d5540809d54a0a5284f4411",
       "version_major": 2,
       "version_minor": 0
      },
      "text/plain": [
       "  0%|          | 0/1142 [00:00<?, ?it/s]"
      ]
     },
     "metadata": {},
     "output_type": "display_data"
    },
    {
     "name": "stdout",
     "output_type": "stream",
     "text": [
      "Data load from  /work1/hezq17/causal_narrative/workspace/notebook/../../dataset/opts/shapessocial/opt_no_case_tokenization.pickle\n"
     ]
    },
    {
     "data": {
      "application/vnd.jupyter.widget-view+json": {
       "model_id": "f11dd79dbdf1490b8e3f2a37a5ef77eb",
       "version_major": 2,
       "version_minor": 0
      },
      "text/plain": [
       "  0%|          | 0/1080 [00:00<?, ?it/s]"
      ]
     },
     "metadata": {},
     "output_type": "display_data"
    },
    {
     "name": "stdout",
     "output_type": "stream",
     "text": [
      "Data load from  /work1/hezq17/causal_narrative/workspace/notebook/../../dataset/opts/sherlock/opt_no_case_tokenization.pickle\n"
     ]
    },
    {
     "data": {
      "application/vnd.jupyter.widget-view+json": {
       "model_id": "e7d4933380b445a2a03a05510bd7e06e",
       "version_major": 2,
       "version_minor": 0
      },
      "text/plain": [
       "  0%|          | 0/3678 [00:00<?, ?it/s]"
      ]
     },
     "metadata": {},
     "output_type": "display_data"
    },
    {
     "name": "stdout",
     "output_type": "stream",
     "text": [
      "Data load from  /work1/hezq17/causal_narrative/workspace/notebook/../../dataset/opts/slumlordreach/opt_no_case_tokenization.pickle\n"
     ]
    },
    {
     "data": {
      "application/vnd.jupyter.widget-view+json": {
       "model_id": "805e4961a5324108877b867146f06ec0",
       "version_major": 2,
       "version_minor": 0
      },
      "text/plain": [
       "  0%|          | 0/6823 [00:00<?, ?it/s]"
      ]
     },
     "metadata": {},
     "output_type": "display_data"
    },
    {
     "name": "stdout",
     "output_type": "stream",
     "text": [
      "Data load from  /work1/hezq17/causal_narrative/workspace/notebook/../../dataset/opts/tunnel/opt_no_case_tokenization.pickle\n"
     ]
    },
    {
     "data": {
      "application/vnd.jupyter.widget-view+json": {
       "model_id": "f6e0ac463f334e8f9c28be7eccaeb635",
       "version_major": 2,
       "version_minor": 0
      },
      "text/plain": [
       "  0%|          | 0/4780 [00:00<?, ?it/s]"
      ]
     },
     "metadata": {},
     "output_type": "display_data"
    },
    {
     "name": "stdout",
     "output_type": "stream",
     "text": [
      "Trial number: 4\n",
      "Data load from  /work1/hezq17/causal_narrative/workspace/notebook/../../dataset/opts/21styear/opt_no_case_tokenization.pickle\n"
     ]
    },
    {
     "data": {
      "application/vnd.jupyter.widget-view+json": {
       "model_id": "a2219191548a4d4685eb8bac87e19e17",
       "version_major": 2,
       "version_minor": 0
      },
      "text/plain": [
       "  0%|          | 0/11712 [00:00<?, ?it/s]"
      ]
     },
     "metadata": {},
     "output_type": "display_data"
    },
    {
     "name": "stdout",
     "output_type": "stream",
     "text": [
      "Data load from  /work1/hezq17/causal_narrative/workspace/notebook/../../dataset/opts/black/opt_no_case_tokenization.pickle\n"
     ]
    },
    {
     "data": {
      "application/vnd.jupyter.widget-view+json": {
       "model_id": "370e26511c5d48dfacd455c7fc0df4c8",
       "version_major": 2,
       "version_minor": 0
      },
      "text/plain": [
       "  0%|          | 0/1909 [00:00<?, ?it/s]"
      ]
     },
     "metadata": {},
     "output_type": "display_data"
    },
    {
     "name": "stdout",
     "output_type": "stream",
     "text": [
      "Data load from  /work1/hezq17/causal_narrative/workspace/notebook/../../dataset/opts/bronx/opt_no_case_tokenization.pickle\n"
     ]
    },
    {
     "data": {
      "application/vnd.jupyter.widget-view+json": {
       "model_id": "2d546a31cce14437bbe4b7190f750a9c",
       "version_major": 2,
       "version_minor": 0
      },
      "text/plain": [
       "  0%|          | 0/1713 [00:00<?, ?it/s]"
      ]
     },
     "metadata": {},
     "output_type": "display_data"
    },
    {
     "name": "stdout",
     "output_type": "stream",
     "text": [
      "Data load from  /work1/hezq17/causal_narrative/workspace/notebook/../../dataset/opts/forgot/opt_no_case_tokenization.pickle\n"
     ]
    },
    {
     "data": {
      "application/vnd.jupyter.widget-view+json": {
       "model_id": "82adf4a5d15649718114b1b41cfd1268",
       "version_major": 2,
       "version_minor": 0
      },
      "text/plain": [
       "  0%|          | 0/2589 [00:00<?, ?it/s]"
      ]
     },
     "metadata": {},
     "output_type": "display_data"
    },
    {
     "name": "stdout",
     "output_type": "stream",
     "text": [
      "Data load from  /work1/hezq17/causal_narrative/workspace/notebook/../../dataset/opts/lucy/opt_no_case_tokenization.pickle\n"
     ]
    },
    {
     "data": {
      "application/vnd.jupyter.widget-view+json": {
       "model_id": "be807b3bf39c40fd9eb2fe3a7af1a7f7",
       "version_major": 2,
       "version_minor": 0
      },
      "text/plain": [
       "  0%|          | 0/2118 [00:00<?, ?it/s]"
      ]
     },
     "metadata": {},
     "output_type": "display_data"
    },
    {
     "name": "stdout",
     "output_type": "stream",
     "text": [
      "Data load from  /work1/hezq17/causal_narrative/workspace/notebook/../../dataset/opts/merlin/opt_no_case_tokenization.pickle\n"
     ]
    },
    {
     "data": {
      "application/vnd.jupyter.widget-view+json": {
       "model_id": "509f5d86094d493a889e72d4c7859c59",
       "version_major": 2,
       "version_minor": 0
      },
      "text/plain": [
       "  0%|          | 0/2986 [00:00<?, ?it/s]"
      ]
     },
     "metadata": {},
     "output_type": "display_data"
    },
    {
     "name": "stdout",
     "output_type": "stream",
     "text": [
      "Data load from  /work1/hezq17/causal_narrative/workspace/notebook/../../dataset/opts/milkyway/opt_no_case_tokenization.pickle\n"
     ]
    },
    {
     "data": {
      "application/vnd.jupyter.widget-view+json": {
       "model_id": "d723c073e2f348309d3a19fed529912b",
       "version_major": 2,
       "version_minor": 0
      },
      "text/plain": [
       "  0%|          | 0/1468 [00:00<?, ?it/s]"
      ]
     },
     "metadata": {},
     "output_type": "display_data"
    },
    {
     "name": "stdout",
     "output_type": "stream",
     "text": [
      "Data load from  /work1/hezq17/causal_narrative/workspace/notebook/../../dataset/opts/notthefallintact/opt_no_case_tokenization.pickle\n"
     ]
    },
    {
     "data": {
      "application/vnd.jupyter.widget-view+json": {
       "model_id": "c201e8fbccbc429b977ec9ef773ee17c",
       "version_major": 2,
       "version_minor": 0
      },
      "text/plain": [
       "  0%|          | 0/2147 [00:00<?, ?it/s]"
      ]
     },
     "metadata": {},
     "output_type": "display_data"
    },
    {
     "name": "stdout",
     "output_type": "stream",
     "text": [
      "Data load from  /work1/hezq17/causal_narrative/workspace/notebook/../../dataset/opts/pieman/opt_no_case_tokenization.pickle\n"
     ]
    },
    {
     "data": {
      "application/vnd.jupyter.widget-view+json": {
       "model_id": "776f99c297f84371a9bc65c0062a906d",
       "version_major": 2,
       "version_minor": 0
      },
      "text/plain": [
       "  0%|          | 0/1223 [00:00<?, ?it/s]"
      ]
     },
     "metadata": {},
     "output_type": "display_data"
    },
    {
     "name": "stdout",
     "output_type": "stream",
     "text": [
      "Data load from  /work1/hezq17/causal_narrative/workspace/notebook/../../dataset/opts/piemanpni/opt_no_case_tokenization.pickle\n"
     ]
    },
    {
     "data": {
      "application/vnd.jupyter.widget-view+json": {
       "model_id": "e6e38ea8c62440a2a7695011c9df0003",
       "version_major": 2,
       "version_minor": 0
      },
      "text/plain": [
       "  0%|          | 0/1285 [00:00<?, ?it/s]"
      ]
     },
     "metadata": {},
     "output_type": "display_data"
    },
    {
     "name": "stdout",
     "output_type": "stream",
     "text": [
      "Data load from  /work1/hezq17/causal_narrative/workspace/notebook/../../dataset/opts/prettymouth/opt_no_case_tokenization.pickle\n"
     ]
    },
    {
     "data": {
      "application/vnd.jupyter.widget-view+json": {
       "model_id": "04ef2fb061204f6b9e7e139e705b491d",
       "version_major": 2,
       "version_minor": 0
      },
      "text/plain": [
       "  0%|          | 0/2823 [00:00<?, ?it/s]"
      ]
     },
     "metadata": {},
     "output_type": "display_data"
    },
    {
     "name": "stdout",
     "output_type": "stream",
     "text": [
      "Data load from  /work1/hezq17/causal_narrative/workspace/notebook/../../dataset/opts/shapesphysical/opt_no_case_tokenization.pickle\n"
     ]
    },
    {
     "data": {
      "application/vnd.jupyter.widget-view+json": {
       "model_id": "a73e7a4bce8e4a35a2d38ad60abf0e38",
       "version_major": 2,
       "version_minor": 0
      },
      "text/plain": [
       "  0%|          | 0/1142 [00:00<?, ?it/s]"
      ]
     },
     "metadata": {},
     "output_type": "display_data"
    },
    {
     "name": "stdout",
     "output_type": "stream",
     "text": [
      "Data load from  /work1/hezq17/causal_narrative/workspace/notebook/../../dataset/opts/shapessocial/opt_no_case_tokenization.pickle\n"
     ]
    },
    {
     "data": {
      "application/vnd.jupyter.widget-view+json": {
       "model_id": "12816ebac8bc41048ded300a90c57b79",
       "version_major": 2,
       "version_minor": 0
      },
      "text/plain": [
       "  0%|          | 0/1080 [00:00<?, ?it/s]"
      ]
     },
     "metadata": {},
     "output_type": "display_data"
    },
    {
     "name": "stdout",
     "output_type": "stream",
     "text": [
      "Data load from  /work1/hezq17/causal_narrative/workspace/notebook/../../dataset/opts/sherlock/opt_no_case_tokenization.pickle\n"
     ]
    },
    {
     "data": {
      "application/vnd.jupyter.widget-view+json": {
       "model_id": "d00fb66bf23847968b455ecbdd354602",
       "version_major": 2,
       "version_minor": 0
      },
      "text/plain": [
       "  0%|          | 0/3678 [00:00<?, ?it/s]"
      ]
     },
     "metadata": {},
     "output_type": "display_data"
    },
    {
     "name": "stdout",
     "output_type": "stream",
     "text": [
      "Data load from  /work1/hezq17/causal_narrative/workspace/notebook/../../dataset/opts/slumlordreach/opt_no_case_tokenization.pickle\n"
     ]
    },
    {
     "data": {
      "application/vnd.jupyter.widget-view+json": {
       "model_id": "8af677b512c94d8595c60b205b539fac",
       "version_major": 2,
       "version_minor": 0
      },
      "text/plain": [
       "  0%|          | 0/6823 [00:00<?, ?it/s]"
      ]
     },
     "metadata": {},
     "output_type": "display_data"
    },
    {
     "name": "stdout",
     "output_type": "stream",
     "text": [
      "Data load from  /work1/hezq17/causal_narrative/workspace/notebook/../../dataset/opts/tunnel/opt_no_case_tokenization.pickle\n"
     ]
    },
    {
     "data": {
      "application/vnd.jupyter.widget-view+json": {
       "model_id": "2e3500027cd34d308437022d6b9c76ce",
       "version_major": 2,
       "version_minor": 0
      },
      "text/plain": [
       "  0%|          | 0/4780 [00:00<?, ?it/s]"
      ]
     },
     "metadata": {},
     "output_type": "display_data"
    },
    {
     "name": "stdout",
     "output_type": "stream",
     "text": [
      "Trial number: 5\n",
      "Data load from  /work1/hezq17/causal_narrative/workspace/notebook/../../dataset/opts/21styear/opt_no_case_tokenization.pickle\n"
     ]
    },
    {
     "data": {
      "application/vnd.jupyter.widget-view+json": {
       "model_id": "fc37783558884d11bab1fbc61fa12226",
       "version_major": 2,
       "version_minor": 0
      },
      "text/plain": [
       "  0%|          | 0/11712 [00:00<?, ?it/s]"
      ]
     },
     "metadata": {},
     "output_type": "display_data"
    },
    {
     "name": "stdout",
     "output_type": "stream",
     "text": [
      "Data load from  /work1/hezq17/causal_narrative/workspace/notebook/../../dataset/opts/black/opt_no_case_tokenization.pickle\n"
     ]
    },
    {
     "data": {
      "application/vnd.jupyter.widget-view+json": {
       "model_id": "e126d0af445d4f3b9cfa1fa35433ee95",
       "version_major": 2,
       "version_minor": 0
      },
      "text/plain": [
       "  0%|          | 0/1909 [00:00<?, ?it/s]"
      ]
     },
     "metadata": {},
     "output_type": "display_data"
    },
    {
     "name": "stdout",
     "output_type": "stream",
     "text": [
      "Data load from  /work1/hezq17/causal_narrative/workspace/notebook/../../dataset/opts/bronx/opt_no_case_tokenization.pickle\n"
     ]
    },
    {
     "data": {
      "application/vnd.jupyter.widget-view+json": {
       "model_id": "5d79f003529843808d3e137808efd690",
       "version_major": 2,
       "version_minor": 0
      },
      "text/plain": [
       "  0%|          | 0/1713 [00:00<?, ?it/s]"
      ]
     },
     "metadata": {},
     "output_type": "display_data"
    },
    {
     "name": "stdout",
     "output_type": "stream",
     "text": [
      "Data load from  /work1/hezq17/causal_narrative/workspace/notebook/../../dataset/opts/forgot/opt_no_case_tokenization.pickle\n"
     ]
    },
    {
     "data": {
      "application/vnd.jupyter.widget-view+json": {
       "model_id": "0b8fec709d74421fb00d6fa07e44cf1f",
       "version_major": 2,
       "version_minor": 0
      },
      "text/plain": [
       "  0%|          | 0/2589 [00:00<?, ?it/s]"
      ]
     },
     "metadata": {},
     "output_type": "display_data"
    },
    {
     "name": "stdout",
     "output_type": "stream",
     "text": [
      "Data load from  /work1/hezq17/causal_narrative/workspace/notebook/../../dataset/opts/lucy/opt_no_case_tokenization.pickle\n"
     ]
    },
    {
     "data": {
      "application/vnd.jupyter.widget-view+json": {
       "model_id": "1d6371eec29b4ed1bd0bff4ba5434f6d",
       "version_major": 2,
       "version_minor": 0
      },
      "text/plain": [
       "  0%|          | 0/2118 [00:00<?, ?it/s]"
      ]
     },
     "metadata": {},
     "output_type": "display_data"
    },
    {
     "name": "stdout",
     "output_type": "stream",
     "text": [
      "Data load from  /work1/hezq17/causal_narrative/workspace/notebook/../../dataset/opts/merlin/opt_no_case_tokenization.pickle\n"
     ]
    },
    {
     "data": {
      "application/vnd.jupyter.widget-view+json": {
       "model_id": "78afb5bb7efa47bf981cf356637c7e8f",
       "version_major": 2,
       "version_minor": 0
      },
      "text/plain": [
       "  0%|          | 0/2986 [00:00<?, ?it/s]"
      ]
     },
     "metadata": {},
     "output_type": "display_data"
    },
    {
     "name": "stdout",
     "output_type": "stream",
     "text": [
      "Data load from  /work1/hezq17/causal_narrative/workspace/notebook/../../dataset/opts/milkyway/opt_no_case_tokenization.pickle\n"
     ]
    },
    {
     "data": {
      "application/vnd.jupyter.widget-view+json": {
       "model_id": "0e71b6712cac4ff99cd74789d1d8c03c",
       "version_major": 2,
       "version_minor": 0
      },
      "text/plain": [
       "  0%|          | 0/1468 [00:00<?, ?it/s]"
      ]
     },
     "metadata": {},
     "output_type": "display_data"
    },
    {
     "name": "stdout",
     "output_type": "stream",
     "text": [
      "Data load from  /work1/hezq17/causal_narrative/workspace/notebook/../../dataset/opts/notthefallintact/opt_no_case_tokenization.pickle\n"
     ]
    },
    {
     "data": {
      "application/vnd.jupyter.widget-view+json": {
       "model_id": "5db067aad07a4f3eadeb7501a40ebc1b",
       "version_major": 2,
       "version_minor": 0
      },
      "text/plain": [
       "  0%|          | 0/2147 [00:00<?, ?it/s]"
      ]
     },
     "metadata": {},
     "output_type": "display_data"
    },
    {
     "name": "stdout",
     "output_type": "stream",
     "text": [
      "Data load from  /work1/hezq17/causal_narrative/workspace/notebook/../../dataset/opts/pieman/opt_no_case_tokenization.pickle\n"
     ]
    },
    {
     "data": {
      "application/vnd.jupyter.widget-view+json": {
       "model_id": "8e787b39732c4758816f08393dd62f84",
       "version_major": 2,
       "version_minor": 0
      },
      "text/plain": [
       "  0%|          | 0/1223 [00:00<?, ?it/s]"
      ]
     },
     "metadata": {},
     "output_type": "display_data"
    },
    {
     "name": "stdout",
     "output_type": "stream",
     "text": [
      "Data load from  /work1/hezq17/causal_narrative/workspace/notebook/../../dataset/opts/piemanpni/opt_no_case_tokenization.pickle\n"
     ]
    },
    {
     "data": {
      "application/vnd.jupyter.widget-view+json": {
       "model_id": "6ec58a315e574b1ab87607c3c12b6c2a",
       "version_major": 2,
       "version_minor": 0
      },
      "text/plain": [
       "  0%|          | 0/1285 [00:00<?, ?it/s]"
      ]
     },
     "metadata": {},
     "output_type": "display_data"
    },
    {
     "name": "stdout",
     "output_type": "stream",
     "text": [
      "Data load from  /work1/hezq17/causal_narrative/workspace/notebook/../../dataset/opts/prettymouth/opt_no_case_tokenization.pickle\n"
     ]
    },
    {
     "data": {
      "application/vnd.jupyter.widget-view+json": {
       "model_id": "ed47c979e15c4fd3b48ac4b0c90660ea",
       "version_major": 2,
       "version_minor": 0
      },
      "text/plain": [
       "  0%|          | 0/2823 [00:00<?, ?it/s]"
      ]
     },
     "metadata": {},
     "output_type": "display_data"
    },
    {
     "name": "stdout",
     "output_type": "stream",
     "text": [
      "Data load from  /work1/hezq17/causal_narrative/workspace/notebook/../../dataset/opts/shapesphysical/opt_no_case_tokenization.pickle\n"
     ]
    },
    {
     "data": {
      "application/vnd.jupyter.widget-view+json": {
       "model_id": "57ab0902093042ff96453a2a6b54d1f4",
       "version_major": 2,
       "version_minor": 0
      },
      "text/plain": [
       "  0%|          | 0/1142 [00:00<?, ?it/s]"
      ]
     },
     "metadata": {},
     "output_type": "display_data"
    },
    {
     "name": "stdout",
     "output_type": "stream",
     "text": [
      "Data load from  /work1/hezq17/causal_narrative/workspace/notebook/../../dataset/opts/shapessocial/opt_no_case_tokenization.pickle\n"
     ]
    },
    {
     "data": {
      "application/vnd.jupyter.widget-view+json": {
       "model_id": "38fd1acf1336450a9ad57ba9285a43e9",
       "version_major": 2,
       "version_minor": 0
      },
      "text/plain": [
       "  0%|          | 0/1080 [00:00<?, ?it/s]"
      ]
     },
     "metadata": {},
     "output_type": "display_data"
    },
    {
     "name": "stdout",
     "output_type": "stream",
     "text": [
      "Data load from  /work1/hezq17/causal_narrative/workspace/notebook/../../dataset/opts/sherlock/opt_no_case_tokenization.pickle\n"
     ]
    },
    {
     "data": {
      "application/vnd.jupyter.widget-view+json": {
       "model_id": "3fffeb2742214066a711e8c84ee189ac",
       "version_major": 2,
       "version_minor": 0
      },
      "text/plain": [
       "  0%|          | 0/3678 [00:00<?, ?it/s]"
      ]
     },
     "metadata": {},
     "output_type": "display_data"
    },
    {
     "name": "stdout",
     "output_type": "stream",
     "text": [
      "Data load from  /work1/hezq17/causal_narrative/workspace/notebook/../../dataset/opts/slumlordreach/opt_no_case_tokenization.pickle\n"
     ]
    },
    {
     "data": {
      "application/vnd.jupyter.widget-view+json": {
       "model_id": "385e11c61400489583a944cf85e69e7b",
       "version_major": 2,
       "version_minor": 0
      },
      "text/plain": [
       "  0%|          | 0/6823 [00:00<?, ?it/s]"
      ]
     },
     "metadata": {},
     "output_type": "display_data"
    },
    {
     "name": "stdout",
     "output_type": "stream",
     "text": [
      "Data load from  /work1/hezq17/causal_narrative/workspace/notebook/../../dataset/opts/tunnel/opt_no_case_tokenization.pickle\n"
     ]
    },
    {
     "data": {
      "application/vnd.jupyter.widget-view+json": {
       "model_id": "9b3cd6bc39ac47e99ae6aed7bab542a7",
       "version_major": 2,
       "version_minor": 0
      },
      "text/plain": [
       "  0%|          | 0/4780 [00:00<?, ?it/s]"
      ]
     },
     "metadata": {},
     "output_type": "display_data"
    },
    {
     "name": "stdout",
     "output_type": "stream",
     "text": [
      "Trial number: 6\n",
      "Data load from  /work1/hezq17/causal_narrative/workspace/notebook/../../dataset/opts/21styear/opt_no_case_tokenization.pickle\n"
     ]
    },
    {
     "data": {
      "application/vnd.jupyter.widget-view+json": {
       "model_id": "790d357551f14844849449c6fad43968",
       "version_major": 2,
       "version_minor": 0
      },
      "text/plain": [
       "  0%|          | 0/11712 [00:00<?, ?it/s]"
      ]
     },
     "metadata": {},
     "output_type": "display_data"
    },
    {
     "name": "stdout",
     "output_type": "stream",
     "text": [
      "Data load from  /work1/hezq17/causal_narrative/workspace/notebook/../../dataset/opts/black/opt_no_case_tokenization.pickle\n"
     ]
    },
    {
     "data": {
      "application/vnd.jupyter.widget-view+json": {
       "model_id": "50932423d38649f0bb7ca4e91e7b9483",
       "version_major": 2,
       "version_minor": 0
      },
      "text/plain": [
       "  0%|          | 0/1909 [00:00<?, ?it/s]"
      ]
     },
     "metadata": {},
     "output_type": "display_data"
    },
    {
     "name": "stdout",
     "output_type": "stream",
     "text": [
      "Data load from  /work1/hezq17/causal_narrative/workspace/notebook/../../dataset/opts/bronx/opt_no_case_tokenization.pickle\n"
     ]
    },
    {
     "data": {
      "application/vnd.jupyter.widget-view+json": {
       "model_id": "80dc77cac1f544399153f6f16c36fe14",
       "version_major": 2,
       "version_minor": 0
      },
      "text/plain": [
       "  0%|          | 0/1713 [00:00<?, ?it/s]"
      ]
     },
     "metadata": {},
     "output_type": "display_data"
    },
    {
     "name": "stdout",
     "output_type": "stream",
     "text": [
      "Data load from  /work1/hezq17/causal_narrative/workspace/notebook/../../dataset/opts/forgot/opt_no_case_tokenization.pickle\n"
     ]
    },
    {
     "data": {
      "application/vnd.jupyter.widget-view+json": {
       "model_id": "9ab5b5cd9e2f428a8b573c4b6649cac6",
       "version_major": 2,
       "version_minor": 0
      },
      "text/plain": [
       "  0%|          | 0/2589 [00:00<?, ?it/s]"
      ]
     },
     "metadata": {},
     "output_type": "display_data"
    },
    {
     "name": "stdout",
     "output_type": "stream",
     "text": [
      "Data load from  /work1/hezq17/causal_narrative/workspace/notebook/../../dataset/opts/lucy/opt_no_case_tokenization.pickle\n"
     ]
    },
    {
     "data": {
      "application/vnd.jupyter.widget-view+json": {
       "model_id": "4845592fc5204286ab2defb1601fc915",
       "version_major": 2,
       "version_minor": 0
      },
      "text/plain": [
       "  0%|          | 0/2118 [00:00<?, ?it/s]"
      ]
     },
     "metadata": {},
     "output_type": "display_data"
    },
    {
     "name": "stdout",
     "output_type": "stream",
     "text": [
      "Data load from  /work1/hezq17/causal_narrative/workspace/notebook/../../dataset/opts/merlin/opt_no_case_tokenization.pickle\n"
     ]
    },
    {
     "data": {
      "application/vnd.jupyter.widget-view+json": {
       "model_id": "543db66c9d3541ba83f02218e7790f12",
       "version_major": 2,
       "version_minor": 0
      },
      "text/plain": [
       "  0%|          | 0/2986 [00:00<?, ?it/s]"
      ]
     },
     "metadata": {},
     "output_type": "display_data"
    },
    {
     "name": "stdout",
     "output_type": "stream",
     "text": [
      "Data load from  /work1/hezq17/causal_narrative/workspace/notebook/../../dataset/opts/milkyway/opt_no_case_tokenization.pickle\n"
     ]
    },
    {
     "data": {
      "application/vnd.jupyter.widget-view+json": {
       "model_id": "f355b28e12584dd4a7fc628ebdfc73dc",
       "version_major": 2,
       "version_minor": 0
      },
      "text/plain": [
       "  0%|          | 0/1468 [00:00<?, ?it/s]"
      ]
     },
     "metadata": {},
     "output_type": "display_data"
    },
    {
     "name": "stdout",
     "output_type": "stream",
     "text": [
      "Data load from  /work1/hezq17/causal_narrative/workspace/notebook/../../dataset/opts/notthefallintact/opt_no_case_tokenization.pickle\n"
     ]
    },
    {
     "data": {
      "application/vnd.jupyter.widget-view+json": {
       "model_id": "b12d4008a2a1495888af20916c6c5b45",
       "version_major": 2,
       "version_minor": 0
      },
      "text/plain": [
       "  0%|          | 0/2147 [00:00<?, ?it/s]"
      ]
     },
     "metadata": {},
     "output_type": "display_data"
    },
    {
     "name": "stdout",
     "output_type": "stream",
     "text": [
      "Data load from  /work1/hezq17/causal_narrative/workspace/notebook/../../dataset/opts/pieman/opt_no_case_tokenization.pickle\n"
     ]
    },
    {
     "data": {
      "application/vnd.jupyter.widget-view+json": {
       "model_id": "53001c6295364156a4220593d8f4e134",
       "version_major": 2,
       "version_minor": 0
      },
      "text/plain": [
       "  0%|          | 0/1223 [00:00<?, ?it/s]"
      ]
     },
     "metadata": {},
     "output_type": "display_data"
    },
    {
     "name": "stdout",
     "output_type": "stream",
     "text": [
      "Data load from  /work1/hezq17/causal_narrative/workspace/notebook/../../dataset/opts/piemanpni/opt_no_case_tokenization.pickle\n"
     ]
    },
    {
     "data": {
      "application/vnd.jupyter.widget-view+json": {
       "model_id": "cc322267b1cd46358a4121e9a0856f61",
       "version_major": 2,
       "version_minor": 0
      },
      "text/plain": [
       "  0%|          | 0/1285 [00:00<?, ?it/s]"
      ]
     },
     "metadata": {},
     "output_type": "display_data"
    },
    {
     "name": "stdout",
     "output_type": "stream",
     "text": [
      "Data load from  /work1/hezq17/causal_narrative/workspace/notebook/../../dataset/opts/prettymouth/opt_no_case_tokenization.pickle\n"
     ]
    },
    {
     "data": {
      "application/vnd.jupyter.widget-view+json": {
       "model_id": "e35b1c582283421ba8e318000a07a56e",
       "version_major": 2,
       "version_minor": 0
      },
      "text/plain": [
       "  0%|          | 0/2823 [00:00<?, ?it/s]"
      ]
     },
     "metadata": {},
     "output_type": "display_data"
    },
    {
     "name": "stdout",
     "output_type": "stream",
     "text": [
      "Data load from  /work1/hezq17/causal_narrative/workspace/notebook/../../dataset/opts/shapesphysical/opt_no_case_tokenization.pickle\n"
     ]
    },
    {
     "data": {
      "application/vnd.jupyter.widget-view+json": {
       "model_id": "21e238cd07a94d90913ea7889eaa64b1",
       "version_major": 2,
       "version_minor": 0
      },
      "text/plain": [
       "  0%|          | 0/1142 [00:00<?, ?it/s]"
      ]
     },
     "metadata": {},
     "output_type": "display_data"
    },
    {
     "name": "stdout",
     "output_type": "stream",
     "text": [
      "Data load from  /work1/hezq17/causal_narrative/workspace/notebook/../../dataset/opts/shapessocial/opt_no_case_tokenization.pickle\n"
     ]
    },
    {
     "data": {
      "application/vnd.jupyter.widget-view+json": {
       "model_id": "77abe6a50c4947dd93d56a31441cbfe9",
       "version_major": 2,
       "version_minor": 0
      },
      "text/plain": [
       "  0%|          | 0/1080 [00:00<?, ?it/s]"
      ]
     },
     "metadata": {},
     "output_type": "display_data"
    },
    {
     "name": "stdout",
     "output_type": "stream",
     "text": [
      "Data load from  /work1/hezq17/causal_narrative/workspace/notebook/../../dataset/opts/sherlock/opt_no_case_tokenization.pickle\n"
     ]
    },
    {
     "data": {
      "application/vnd.jupyter.widget-view+json": {
       "model_id": "8788ddba533f48549d7260fac03d5ba8",
       "version_major": 2,
       "version_minor": 0
      },
      "text/plain": [
       "  0%|          | 0/3678 [00:00<?, ?it/s]"
      ]
     },
     "metadata": {},
     "output_type": "display_data"
    },
    {
     "name": "stdout",
     "output_type": "stream",
     "text": [
      "Data load from  /work1/hezq17/causal_narrative/workspace/notebook/../../dataset/opts/slumlordreach/opt_no_case_tokenization.pickle\n"
     ]
    },
    {
     "data": {
      "application/vnd.jupyter.widget-view+json": {
       "model_id": "ece51d446c8c48359b000d09974522d9",
       "version_major": 2,
       "version_minor": 0
      },
      "text/plain": [
       "  0%|          | 0/6823 [00:00<?, ?it/s]"
      ]
     },
     "metadata": {},
     "output_type": "display_data"
    },
    {
     "name": "stdout",
     "output_type": "stream",
     "text": [
      "Data load from  /work1/hezq17/causal_narrative/workspace/notebook/../../dataset/opts/tunnel/opt_no_case_tokenization.pickle\n"
     ]
    },
    {
     "data": {
      "application/vnd.jupyter.widget-view+json": {
       "model_id": "bed958f1f67c44ae9e6cdfba6dd2a599",
       "version_major": 2,
       "version_minor": 0
      },
      "text/plain": [
       "  0%|          | 0/4780 [00:00<?, ?it/s]"
      ]
     },
     "metadata": {},
     "output_type": "display_data"
    },
    {
     "name": "stdout",
     "output_type": "stream",
     "text": [
      "Trial number: 7\n",
      "Data load from  /work1/hezq17/causal_narrative/workspace/notebook/../../dataset/opts/21styear/opt_no_case_tokenization.pickle\n"
     ]
    },
    {
     "data": {
      "application/vnd.jupyter.widget-view+json": {
       "model_id": "59c62c2ccc0543ca8f36efe29435623e",
       "version_major": 2,
       "version_minor": 0
      },
      "text/plain": [
       "  0%|          | 0/11712 [00:00<?, ?it/s]"
      ]
     },
     "metadata": {},
     "output_type": "display_data"
    },
    {
     "name": "stdout",
     "output_type": "stream",
     "text": [
      "Data load from  /work1/hezq17/causal_narrative/workspace/notebook/../../dataset/opts/black/opt_no_case_tokenization.pickle\n"
     ]
    },
    {
     "data": {
      "application/vnd.jupyter.widget-view+json": {
       "model_id": "6f6c6c4a30b146de8c33af0a1959ab44",
       "version_major": 2,
       "version_minor": 0
      },
      "text/plain": [
       "  0%|          | 0/1909 [00:00<?, ?it/s]"
      ]
     },
     "metadata": {},
     "output_type": "display_data"
    },
    {
     "name": "stdout",
     "output_type": "stream",
     "text": [
      "Data load from  /work1/hezq17/causal_narrative/workspace/notebook/../../dataset/opts/bronx/opt_no_case_tokenization.pickle\n"
     ]
    },
    {
     "data": {
      "application/vnd.jupyter.widget-view+json": {
       "model_id": "db93917d6d35492d830f2ee17558cf05",
       "version_major": 2,
       "version_minor": 0
      },
      "text/plain": [
       "  0%|          | 0/1713 [00:00<?, ?it/s]"
      ]
     },
     "metadata": {},
     "output_type": "display_data"
    },
    {
     "name": "stdout",
     "output_type": "stream",
     "text": [
      "Data load from  /work1/hezq17/causal_narrative/workspace/notebook/../../dataset/opts/forgot/opt_no_case_tokenization.pickle\n"
     ]
    },
    {
     "data": {
      "application/vnd.jupyter.widget-view+json": {
       "model_id": "a5a845f853464e7988b50a9779326987",
       "version_major": 2,
       "version_minor": 0
      },
      "text/plain": [
       "  0%|          | 0/2589 [00:00<?, ?it/s]"
      ]
     },
     "metadata": {},
     "output_type": "display_data"
    },
    {
     "name": "stdout",
     "output_type": "stream",
     "text": [
      "Data load from  /work1/hezq17/causal_narrative/workspace/notebook/../../dataset/opts/lucy/opt_no_case_tokenization.pickle\n"
     ]
    },
    {
     "data": {
      "application/vnd.jupyter.widget-view+json": {
       "model_id": "82933401cee9478e960bcb39780478be",
       "version_major": 2,
       "version_minor": 0
      },
      "text/plain": [
       "  0%|          | 0/2118 [00:00<?, ?it/s]"
      ]
     },
     "metadata": {},
     "output_type": "display_data"
    },
    {
     "name": "stdout",
     "output_type": "stream",
     "text": [
      "Data load from  /work1/hezq17/causal_narrative/workspace/notebook/../../dataset/opts/merlin/opt_no_case_tokenization.pickle\n"
     ]
    },
    {
     "data": {
      "application/vnd.jupyter.widget-view+json": {
       "model_id": "67bb8b3b8b6c4aac9f8086d0fa10f913",
       "version_major": 2,
       "version_minor": 0
      },
      "text/plain": [
       "  0%|          | 0/2986 [00:00<?, ?it/s]"
      ]
     },
     "metadata": {},
     "output_type": "display_data"
    },
    {
     "name": "stdout",
     "output_type": "stream",
     "text": [
      "Data load from  /work1/hezq17/causal_narrative/workspace/notebook/../../dataset/opts/milkyway/opt_no_case_tokenization.pickle\n"
     ]
    },
    {
     "data": {
      "application/vnd.jupyter.widget-view+json": {
       "model_id": "bdac2d7e7202447ea2079ce8113f1a76",
       "version_major": 2,
       "version_minor": 0
      },
      "text/plain": [
       "  0%|          | 0/1468 [00:00<?, ?it/s]"
      ]
     },
     "metadata": {},
     "output_type": "display_data"
    },
    {
     "name": "stdout",
     "output_type": "stream",
     "text": [
      "Data load from  /work1/hezq17/causal_narrative/workspace/notebook/../../dataset/opts/notthefallintact/opt_no_case_tokenization.pickle\n"
     ]
    },
    {
     "data": {
      "application/vnd.jupyter.widget-view+json": {
       "model_id": "18dc86a58a3a44c7a7e908a1738f33a5",
       "version_major": 2,
       "version_minor": 0
      },
      "text/plain": [
       "  0%|          | 0/2147 [00:00<?, ?it/s]"
      ]
     },
     "metadata": {},
     "output_type": "display_data"
    },
    {
     "name": "stdout",
     "output_type": "stream",
     "text": [
      "Data load from  /work1/hezq17/causal_narrative/workspace/notebook/../../dataset/opts/pieman/opt_no_case_tokenization.pickle\n"
     ]
    },
    {
     "data": {
      "application/vnd.jupyter.widget-view+json": {
       "model_id": "f98d1ea6f3c74f708af804548eebe33d",
       "version_major": 2,
       "version_minor": 0
      },
      "text/plain": [
       "  0%|          | 0/1223 [00:00<?, ?it/s]"
      ]
     },
     "metadata": {},
     "output_type": "display_data"
    },
    {
     "name": "stdout",
     "output_type": "stream",
     "text": [
      "Data load from  /work1/hezq17/causal_narrative/workspace/notebook/../../dataset/opts/piemanpni/opt_no_case_tokenization.pickle\n"
     ]
    },
    {
     "data": {
      "application/vnd.jupyter.widget-view+json": {
       "model_id": "4a959aa58d284f24b97b1aa114b9b29d",
       "version_major": 2,
       "version_minor": 0
      },
      "text/plain": [
       "  0%|          | 0/1285 [00:00<?, ?it/s]"
      ]
     },
     "metadata": {},
     "output_type": "display_data"
    },
    {
     "name": "stdout",
     "output_type": "stream",
     "text": [
      "Data load from  /work1/hezq17/causal_narrative/workspace/notebook/../../dataset/opts/prettymouth/opt_no_case_tokenization.pickle\n"
     ]
    },
    {
     "data": {
      "application/vnd.jupyter.widget-view+json": {
       "model_id": "75524535551c4d829af7d43459ffbc21",
       "version_major": 2,
       "version_minor": 0
      },
      "text/plain": [
       "  0%|          | 0/2823 [00:00<?, ?it/s]"
      ]
     },
     "metadata": {},
     "output_type": "display_data"
    },
    {
     "name": "stdout",
     "output_type": "stream",
     "text": [
      "Data load from  /work1/hezq17/causal_narrative/workspace/notebook/../../dataset/opts/shapesphysical/opt_no_case_tokenization.pickle\n"
     ]
    },
    {
     "data": {
      "application/vnd.jupyter.widget-view+json": {
       "model_id": "58aa938901a74ed4832f99acdb85f385",
       "version_major": 2,
       "version_minor": 0
      },
      "text/plain": [
       "  0%|          | 0/1142 [00:00<?, ?it/s]"
      ]
     },
     "metadata": {},
     "output_type": "display_data"
    },
    {
     "name": "stdout",
     "output_type": "stream",
     "text": [
      "Data load from  /work1/hezq17/causal_narrative/workspace/notebook/../../dataset/opts/shapessocial/opt_no_case_tokenization.pickle\n"
     ]
    },
    {
     "data": {
      "application/vnd.jupyter.widget-view+json": {
       "model_id": "c43518e679434b96ad22db4647281e6f",
       "version_major": 2,
       "version_minor": 0
      },
      "text/plain": [
       "  0%|          | 0/1080 [00:00<?, ?it/s]"
      ]
     },
     "metadata": {},
     "output_type": "display_data"
    },
    {
     "name": "stdout",
     "output_type": "stream",
     "text": [
      "Data load from  /work1/hezq17/causal_narrative/workspace/notebook/../../dataset/opts/sherlock/opt_no_case_tokenization.pickle\n"
     ]
    },
    {
     "data": {
      "application/vnd.jupyter.widget-view+json": {
       "model_id": "6a3bd096bc1b48428cfd91c511d04ec3",
       "version_major": 2,
       "version_minor": 0
      },
      "text/plain": [
       "  0%|          | 0/3678 [00:00<?, ?it/s]"
      ]
     },
     "metadata": {},
     "output_type": "display_data"
    },
    {
     "name": "stdout",
     "output_type": "stream",
     "text": [
      "Data load from  /work1/hezq17/causal_narrative/workspace/notebook/../../dataset/opts/slumlordreach/opt_no_case_tokenization.pickle\n"
     ]
    },
    {
     "data": {
      "application/vnd.jupyter.widget-view+json": {
       "model_id": "c186384ad5bb4e5aa6c3c17f6c424795",
       "version_major": 2,
       "version_minor": 0
      },
      "text/plain": [
       "  0%|          | 0/6823 [00:00<?, ?it/s]"
      ]
     },
     "metadata": {},
     "output_type": "display_data"
    },
    {
     "name": "stdout",
     "output_type": "stream",
     "text": [
      "Data load from  /work1/hezq17/causal_narrative/workspace/notebook/../../dataset/opts/tunnel/opt_no_case_tokenization.pickle\n"
     ]
    },
    {
     "data": {
      "application/vnd.jupyter.widget-view+json": {
       "model_id": "ef8ba9ac75e941ccb35cb28033db96cf",
       "version_major": 2,
       "version_minor": 0
      },
      "text/plain": [
       "  0%|          | 0/4780 [00:00<?, ?it/s]"
      ]
     },
     "metadata": {},
     "output_type": "display_data"
    },
    {
     "name": "stdout",
     "output_type": "stream",
     "text": [
      "Trial number: 8\n",
      "Data load from  /work1/hezq17/causal_narrative/workspace/notebook/../../dataset/opts/21styear/opt_no_case_tokenization.pickle\n"
     ]
    },
    {
     "data": {
      "application/vnd.jupyter.widget-view+json": {
       "model_id": "51a2be6fe8a84c1182b3c1e4ae8fa669",
       "version_major": 2,
       "version_minor": 0
      },
      "text/plain": [
       "  0%|          | 0/11712 [00:00<?, ?it/s]"
      ]
     },
     "metadata": {},
     "output_type": "display_data"
    },
    {
     "name": "stdout",
     "output_type": "stream",
     "text": [
      "Data load from  /work1/hezq17/causal_narrative/workspace/notebook/../../dataset/opts/black/opt_no_case_tokenization.pickle\n"
     ]
    },
    {
     "data": {
      "application/vnd.jupyter.widget-view+json": {
       "model_id": "dcd68a3453824ef3bf56d11ff73c6328",
       "version_major": 2,
       "version_minor": 0
      },
      "text/plain": [
       "  0%|          | 0/1909 [00:00<?, ?it/s]"
      ]
     },
     "metadata": {},
     "output_type": "display_data"
    },
    {
     "name": "stdout",
     "output_type": "stream",
     "text": [
      "Data load from  /work1/hezq17/causal_narrative/workspace/notebook/../../dataset/opts/bronx/opt_no_case_tokenization.pickle\n"
     ]
    },
    {
     "data": {
      "application/vnd.jupyter.widget-view+json": {
       "model_id": "e0f5103f382341a3aea7e428d2410638",
       "version_major": 2,
       "version_minor": 0
      },
      "text/plain": [
       "  0%|          | 0/1713 [00:00<?, ?it/s]"
      ]
     },
     "metadata": {},
     "output_type": "display_data"
    },
    {
     "name": "stdout",
     "output_type": "stream",
     "text": [
      "Data load from  /work1/hezq17/causal_narrative/workspace/notebook/../../dataset/opts/forgot/opt_no_case_tokenization.pickle\n"
     ]
    },
    {
     "data": {
      "application/vnd.jupyter.widget-view+json": {
       "model_id": "fbb43641da1947f398bf594123391808",
       "version_major": 2,
       "version_minor": 0
      },
      "text/plain": [
       "  0%|          | 0/2589 [00:00<?, ?it/s]"
      ]
     },
     "metadata": {},
     "output_type": "display_data"
    },
    {
     "name": "stdout",
     "output_type": "stream",
     "text": [
      "Data load from  /work1/hezq17/causal_narrative/workspace/notebook/../../dataset/opts/lucy/opt_no_case_tokenization.pickle\n"
     ]
    },
    {
     "data": {
      "application/vnd.jupyter.widget-view+json": {
       "model_id": "3dc5c6dcbceb4b0aba61ccc4d015d44f",
       "version_major": 2,
       "version_minor": 0
      },
      "text/plain": [
       "  0%|          | 0/2118 [00:00<?, ?it/s]"
      ]
     },
     "metadata": {},
     "output_type": "display_data"
    },
    {
     "name": "stdout",
     "output_type": "stream",
     "text": [
      "Data load from  /work1/hezq17/causal_narrative/workspace/notebook/../../dataset/opts/merlin/opt_no_case_tokenization.pickle\n"
     ]
    },
    {
     "data": {
      "application/vnd.jupyter.widget-view+json": {
       "model_id": "eb89a2440e3947a0b38b21c12c787488",
       "version_major": 2,
       "version_minor": 0
      },
      "text/plain": [
       "  0%|          | 0/2986 [00:00<?, ?it/s]"
      ]
     },
     "metadata": {},
     "output_type": "display_data"
    },
    {
     "name": "stdout",
     "output_type": "stream",
     "text": [
      "Data load from  /work1/hezq17/causal_narrative/workspace/notebook/../../dataset/opts/milkyway/opt_no_case_tokenization.pickle\n"
     ]
    },
    {
     "data": {
      "application/vnd.jupyter.widget-view+json": {
       "model_id": "554f3284c8f4433da890aaa40da4d4ca",
       "version_major": 2,
       "version_minor": 0
      },
      "text/plain": [
       "  0%|          | 0/1468 [00:00<?, ?it/s]"
      ]
     },
     "metadata": {},
     "output_type": "display_data"
    },
    {
     "name": "stdout",
     "output_type": "stream",
     "text": [
      "Data load from  /work1/hezq17/causal_narrative/workspace/notebook/../../dataset/opts/notthefallintact/opt_no_case_tokenization.pickle\n"
     ]
    },
    {
     "data": {
      "application/vnd.jupyter.widget-view+json": {
       "model_id": "41bad641c17e4342bc4b54e5793ca51a",
       "version_major": 2,
       "version_minor": 0
      },
      "text/plain": [
       "  0%|          | 0/2147 [00:00<?, ?it/s]"
      ]
     },
     "metadata": {},
     "output_type": "display_data"
    },
    {
     "name": "stdout",
     "output_type": "stream",
     "text": [
      "Data load from  /work1/hezq17/causal_narrative/workspace/notebook/../../dataset/opts/pieman/opt_no_case_tokenization.pickle\n"
     ]
    },
    {
     "data": {
      "application/vnd.jupyter.widget-view+json": {
       "model_id": "6f82e1a0f29145c0acd05635414e8a82",
       "version_major": 2,
       "version_minor": 0
      },
      "text/plain": [
       "  0%|          | 0/1223 [00:00<?, ?it/s]"
      ]
     },
     "metadata": {},
     "output_type": "display_data"
    },
    {
     "name": "stdout",
     "output_type": "stream",
     "text": [
      "Data load from  /work1/hezq17/causal_narrative/workspace/notebook/../../dataset/opts/piemanpni/opt_no_case_tokenization.pickle\n"
     ]
    },
    {
     "data": {
      "application/vnd.jupyter.widget-view+json": {
       "model_id": "6a5bb52f458545e0a7afc55d60fc2de9",
       "version_major": 2,
       "version_minor": 0
      },
      "text/plain": [
       "  0%|          | 0/1285 [00:00<?, ?it/s]"
      ]
     },
     "metadata": {},
     "output_type": "display_data"
    },
    {
     "name": "stdout",
     "output_type": "stream",
     "text": [
      "Data load from  /work1/hezq17/causal_narrative/workspace/notebook/../../dataset/opts/prettymouth/opt_no_case_tokenization.pickle\n"
     ]
    },
    {
     "data": {
      "application/vnd.jupyter.widget-view+json": {
       "model_id": "1a3adab87e1c48a693256bd0ba017942",
       "version_major": 2,
       "version_minor": 0
      },
      "text/plain": [
       "  0%|          | 0/2823 [00:00<?, ?it/s]"
      ]
     },
     "metadata": {},
     "output_type": "display_data"
    },
    {
     "name": "stdout",
     "output_type": "stream",
     "text": [
      "Data load from  /work1/hezq17/causal_narrative/workspace/notebook/../../dataset/opts/shapesphysical/opt_no_case_tokenization.pickle\n"
     ]
    },
    {
     "data": {
      "application/vnd.jupyter.widget-view+json": {
       "model_id": "19492a8e50324fd5ac31bb060fb19cc9",
       "version_major": 2,
       "version_minor": 0
      },
      "text/plain": [
       "  0%|          | 0/1142 [00:00<?, ?it/s]"
      ]
     },
     "metadata": {},
     "output_type": "display_data"
    },
    {
     "name": "stdout",
     "output_type": "stream",
     "text": [
      "Data load from  /work1/hezq17/causal_narrative/workspace/notebook/../../dataset/opts/shapessocial/opt_no_case_tokenization.pickle\n"
     ]
    },
    {
     "data": {
      "application/vnd.jupyter.widget-view+json": {
       "model_id": "f8fbe717210344b186a31ef1d33daa5f",
       "version_major": 2,
       "version_minor": 0
      },
      "text/plain": [
       "  0%|          | 0/1080 [00:00<?, ?it/s]"
      ]
     },
     "metadata": {},
     "output_type": "display_data"
    },
    {
     "name": "stdout",
     "output_type": "stream",
     "text": [
      "Data load from  /work1/hezq17/causal_narrative/workspace/notebook/../../dataset/opts/sherlock/opt_no_case_tokenization.pickle\n"
     ]
    },
    {
     "data": {
      "application/vnd.jupyter.widget-view+json": {
       "model_id": "d98d62b7d232440892ee733828110140",
       "version_major": 2,
       "version_minor": 0
      },
      "text/plain": [
       "  0%|          | 0/3678 [00:00<?, ?it/s]"
      ]
     },
     "metadata": {},
     "output_type": "display_data"
    },
    {
     "name": "stdout",
     "output_type": "stream",
     "text": [
      "Data load from  /work1/hezq17/causal_narrative/workspace/notebook/../../dataset/opts/slumlordreach/opt_no_case_tokenization.pickle\n"
     ]
    },
    {
     "data": {
      "application/vnd.jupyter.widget-view+json": {
       "model_id": "0863196499974b0f9fcc7120a1a0b6dd",
       "version_major": 2,
       "version_minor": 0
      },
      "text/plain": [
       "  0%|          | 0/6823 [00:00<?, ?it/s]"
      ]
     },
     "metadata": {},
     "output_type": "display_data"
    },
    {
     "name": "stdout",
     "output_type": "stream",
     "text": [
      "Data load from  /work1/hezq17/causal_narrative/workspace/notebook/../../dataset/opts/tunnel/opt_no_case_tokenization.pickle\n"
     ]
    },
    {
     "data": {
      "application/vnd.jupyter.widget-view+json": {
       "model_id": "51f85df8ef09493c9bd9c603d8f09b34",
       "version_major": 2,
       "version_minor": 0
      },
      "text/plain": [
       "  0%|          | 0/4780 [00:00<?, ?it/s]"
      ]
     },
     "metadata": {},
     "output_type": "display_data"
    },
    {
     "name": "stdout",
     "output_type": "stream",
     "text": [
      "Trial number: 9\n",
      "Data load from  /work1/hezq17/causal_narrative/workspace/notebook/../../dataset/opts/21styear/opt_no_case_tokenization.pickle\n"
     ]
    },
    {
     "data": {
      "application/vnd.jupyter.widget-view+json": {
       "model_id": "007c9c43f13a47ba8f52e0579cca7bcd",
       "version_major": 2,
       "version_minor": 0
      },
      "text/plain": [
       "  0%|          | 0/11712 [00:00<?, ?it/s]"
      ]
     },
     "metadata": {},
     "output_type": "display_data"
    },
    {
     "name": "stdout",
     "output_type": "stream",
     "text": [
      "Data load from  /work1/hezq17/causal_narrative/workspace/notebook/../../dataset/opts/black/opt_no_case_tokenization.pickle\n"
     ]
    },
    {
     "data": {
      "application/vnd.jupyter.widget-view+json": {
       "model_id": "7f3ef6ba8b5348f38c41ddb7539c5f19",
       "version_major": 2,
       "version_minor": 0
      },
      "text/plain": [
       "  0%|          | 0/1909 [00:00<?, ?it/s]"
      ]
     },
     "metadata": {},
     "output_type": "display_data"
    },
    {
     "name": "stdout",
     "output_type": "stream",
     "text": [
      "Data load from  /work1/hezq17/causal_narrative/workspace/notebook/../../dataset/opts/bronx/opt_no_case_tokenization.pickle\n"
     ]
    },
    {
     "data": {
      "application/vnd.jupyter.widget-view+json": {
       "model_id": "cfbc35999d724370b0d28444f3702aac",
       "version_major": 2,
       "version_minor": 0
      },
      "text/plain": [
       "  0%|          | 0/1713 [00:00<?, ?it/s]"
      ]
     },
     "metadata": {},
     "output_type": "display_data"
    },
    {
     "name": "stdout",
     "output_type": "stream",
     "text": [
      "Data load from  /work1/hezq17/causal_narrative/workspace/notebook/../../dataset/opts/forgot/opt_no_case_tokenization.pickle\n"
     ]
    },
    {
     "data": {
      "application/vnd.jupyter.widget-view+json": {
       "model_id": "056e1d37099f49468792d356bb3ded4a",
       "version_major": 2,
       "version_minor": 0
      },
      "text/plain": [
       "  0%|          | 0/2589 [00:00<?, ?it/s]"
      ]
     },
     "metadata": {},
     "output_type": "display_data"
    },
    {
     "name": "stdout",
     "output_type": "stream",
     "text": [
      "Data load from  /work1/hezq17/causal_narrative/workspace/notebook/../../dataset/opts/lucy/opt_no_case_tokenization.pickle\n"
     ]
    },
    {
     "data": {
      "application/vnd.jupyter.widget-view+json": {
       "model_id": "b82b529a669344e6bddc13d34f35925a",
       "version_major": 2,
       "version_minor": 0
      },
      "text/plain": [
       "  0%|          | 0/2118 [00:00<?, ?it/s]"
      ]
     },
     "metadata": {},
     "output_type": "display_data"
    },
    {
     "name": "stdout",
     "output_type": "stream",
     "text": [
      "Data load from  /work1/hezq17/causal_narrative/workspace/notebook/../../dataset/opts/merlin/opt_no_case_tokenization.pickle\n"
     ]
    },
    {
     "data": {
      "application/vnd.jupyter.widget-view+json": {
       "model_id": "d93bdd2e19fb4f9898ac0f5e808a43a4",
       "version_major": 2,
       "version_minor": 0
      },
      "text/plain": [
       "  0%|          | 0/2986 [00:00<?, ?it/s]"
      ]
     },
     "metadata": {},
     "output_type": "display_data"
    },
    {
     "name": "stdout",
     "output_type": "stream",
     "text": [
      "Data load from  /work1/hezq17/causal_narrative/workspace/notebook/../../dataset/opts/milkyway/opt_no_case_tokenization.pickle\n"
     ]
    },
    {
     "data": {
      "application/vnd.jupyter.widget-view+json": {
       "model_id": "19a7a4dba8a242e4a8fa48c7bf03f7f4",
       "version_major": 2,
       "version_minor": 0
      },
      "text/plain": [
       "  0%|          | 0/1468 [00:00<?, ?it/s]"
      ]
     },
     "metadata": {},
     "output_type": "display_data"
    },
    {
     "name": "stdout",
     "output_type": "stream",
     "text": [
      "Data load from  /work1/hezq17/causal_narrative/workspace/notebook/../../dataset/opts/notthefallintact/opt_no_case_tokenization.pickle\n"
     ]
    },
    {
     "data": {
      "application/vnd.jupyter.widget-view+json": {
       "model_id": "1c9cb7761c504117ab659aa39b87d8fd",
       "version_major": 2,
       "version_minor": 0
      },
      "text/plain": [
       "  0%|          | 0/2147 [00:00<?, ?it/s]"
      ]
     },
     "metadata": {},
     "output_type": "display_data"
    },
    {
     "name": "stdout",
     "output_type": "stream",
     "text": [
      "Data load from  /work1/hezq17/causal_narrative/workspace/notebook/../../dataset/opts/pieman/opt_no_case_tokenization.pickle\n"
     ]
    },
    {
     "data": {
      "application/vnd.jupyter.widget-view+json": {
       "model_id": "1388022192ae4cf7831bc2230e09cc61",
       "version_major": 2,
       "version_minor": 0
      },
      "text/plain": [
       "  0%|          | 0/1223 [00:00<?, ?it/s]"
      ]
     },
     "metadata": {},
     "output_type": "display_data"
    },
    {
     "name": "stdout",
     "output_type": "stream",
     "text": [
      "Data load from  /work1/hezq17/causal_narrative/workspace/notebook/../../dataset/opts/piemanpni/opt_no_case_tokenization.pickle\n"
     ]
    },
    {
     "data": {
      "application/vnd.jupyter.widget-view+json": {
       "model_id": "5ad9d2e953704c369582838a17347825",
       "version_major": 2,
       "version_minor": 0
      },
      "text/plain": [
       "  0%|          | 0/1285 [00:00<?, ?it/s]"
      ]
     },
     "metadata": {},
     "output_type": "display_data"
    },
    {
     "name": "stdout",
     "output_type": "stream",
     "text": [
      "Data load from  /work1/hezq17/causal_narrative/workspace/notebook/../../dataset/opts/prettymouth/opt_no_case_tokenization.pickle\n"
     ]
    },
    {
     "data": {
      "application/vnd.jupyter.widget-view+json": {
       "model_id": "30465f77e4704505a4200c87a491f15d",
       "version_major": 2,
       "version_minor": 0
      },
      "text/plain": [
       "  0%|          | 0/2823 [00:00<?, ?it/s]"
      ]
     },
     "metadata": {},
     "output_type": "display_data"
    },
    {
     "name": "stdout",
     "output_type": "stream",
     "text": [
      "Data load from  /work1/hezq17/causal_narrative/workspace/notebook/../../dataset/opts/shapesphysical/opt_no_case_tokenization.pickle\n"
     ]
    },
    {
     "data": {
      "application/vnd.jupyter.widget-view+json": {
       "model_id": "62c45cd3d1454757b78b1d249c4e9ead",
       "version_major": 2,
       "version_minor": 0
      },
      "text/plain": [
       "  0%|          | 0/1142 [00:00<?, ?it/s]"
      ]
     },
     "metadata": {},
     "output_type": "display_data"
    },
    {
     "name": "stdout",
     "output_type": "stream",
     "text": [
      "Data load from  /work1/hezq17/causal_narrative/workspace/notebook/../../dataset/opts/shapessocial/opt_no_case_tokenization.pickle\n"
     ]
    },
    {
     "data": {
      "application/vnd.jupyter.widget-view+json": {
       "model_id": "6af7e21aaddb4832af4145ad97729005",
       "version_major": 2,
       "version_minor": 0
      },
      "text/plain": [
       "  0%|          | 0/1080 [00:00<?, ?it/s]"
      ]
     },
     "metadata": {},
     "output_type": "display_data"
    },
    {
     "name": "stdout",
     "output_type": "stream",
     "text": [
      "Data load from  /work1/hezq17/causal_narrative/workspace/notebook/../../dataset/opts/sherlock/opt_no_case_tokenization.pickle\n"
     ]
    },
    {
     "data": {
      "application/vnd.jupyter.widget-view+json": {
       "model_id": "454dcee6af564993a9a062f26dd2e1eb",
       "version_major": 2,
       "version_minor": 0
      },
      "text/plain": [
       "  0%|          | 0/3678 [00:00<?, ?it/s]"
      ]
     },
     "metadata": {},
     "output_type": "display_data"
    },
    {
     "name": "stdout",
     "output_type": "stream",
     "text": [
      "Data load from  /work1/hezq17/causal_narrative/workspace/notebook/../../dataset/opts/slumlordreach/opt_no_case_tokenization.pickle\n"
     ]
    },
    {
     "data": {
      "application/vnd.jupyter.widget-view+json": {
       "model_id": "db2c0c989d764f38bd32675c6e453ea7",
       "version_major": 2,
       "version_minor": 0
      },
      "text/plain": [
       "  0%|          | 0/6823 [00:00<?, ?it/s]"
      ]
     },
     "metadata": {},
     "output_type": "display_data"
    },
    {
     "name": "stdout",
     "output_type": "stream",
     "text": [
      "Data load from  /work1/hezq17/causal_narrative/workspace/notebook/../../dataset/opts/tunnel/opt_no_case_tokenization.pickle\n"
     ]
    },
    {
     "data": {
      "application/vnd.jupyter.widget-view+json": {
       "model_id": "4d64fcb2ad7743b0b71d13073ffd0fd9",
       "version_major": 2,
       "version_minor": 0
      },
      "text/plain": [
       "  0%|          | 0/4780 [00:00<?, ?it/s]"
      ]
     },
     "metadata": {},
     "output_type": "display_data"
    }
   ],
   "source": [
    "insert_layer=3\n",
    "check_layer=8\n",
    "model_type=\"opt-125m\"\n",
    "# model_type=\"opt-350m\"\n",
    "# model_type=\"gpt2\"\n",
    "\n",
    "fu = FmriUtil()\n",
    "ndp = NarrativeDataPreprocess()\n",
    "resdict_l = []\n",
    "for ii_trial in tqdm_notebook(range(10)):\n",
    "    print(\"Trial number:\",ii_trial)\n",
    "    resdict={}\n",
    "    for task in ndp.tasks:\n",
    "        gptcodeall, gptcodeall_noise, noise_paral = fu.opt_encode_causalstudy(task=task, insert_layer=insert_layer, model_type=model_type)\n",
    "        resdict[task]=gptcodeall[check_layer,:,:], gptcodeall_noise[check_layer,:,:], noise_paral\n",
    "    resdict_l.append(resdict)"
   ]
  },
  {
   "cell_type": "code",
   "execution_count": 4,
   "id": "735601d7",
   "metadata": {},
   "outputs": [
    {
     "name": "stdout",
     "output_type": "stream",
     "text": [
      "Data saved to  resdict_l.data\n"
     ]
    }
   ],
   "source": [
    "save_data(resdict_l,\"resdict_l.data\")"
   ]
  },
  {
   "cell_type": "code",
   "execution_count": 8,
   "id": "1f0a55a3",
   "metadata": {
    "scrolled": true
   },
   "outputs": [
    {
     "name": "stdout",
     "output_type": "stream",
     "text": [
      "Data load from  /work1/hezq17/causal_narrative/workspace/notebook/../../dataset/narratives/code/task_meta.json\n",
      "['21styear', 'black', 'bronx', 'forgot', 'lucy', 'merlin', 'milkyway', 'notthefallintact', 'notthefalllongscram', 'notthefallshortscram', 'pieman', 'piemanpni', 'prettymouth', 'schema', 'shapesphysical', 'shapessocial', 'sherlock', 'slumlordreach', 'tunnel']\n",
      "['notthefalllongscram', 'notthefallshortscram', 'schema']\n",
      "Task notthefalllongscram removed\n",
      "Task notthefallshortscram removed\n",
      "Task schema removed\n",
      "Data load from  /work1/hezq17/causal_narrative/workspace/notebook/../../dataset/narratives/code/scan_exclude.json\n",
      "Data load from  ../../dataset/opts/21styear/opt_no_case_alignmat.pickle\n",
      "Data load from  ../../dataset/opts/21styear/opt_encode_opt-125m_no_case_w128.data\n",
      "Data load from  ../../dataset/opts/black/opt_no_case_alignmat.pickle\n",
      "Data load from  ../../dataset/opts/black/opt_encode_opt-125m_no_case_w128.data\n",
      "Data load from  ../../dataset/opts/bronx/opt_no_case_alignmat.pickle\n",
      "Data load from  ../../dataset/opts/bronx/opt_encode_opt-125m_no_case_w128.data\n",
      "Data load from  ../../dataset/opts/forgot/opt_no_case_alignmat.pickle\n",
      "Data load from  ../../dataset/opts/forgot/opt_encode_opt-125m_no_case_w128.data\n",
      "Data load from  ../../dataset/opts/lucy/opt_no_case_alignmat.pickle\n",
      "Data load from  ../../dataset/opts/lucy/opt_encode_opt-125m_no_case_w128.data\n",
      "Data load from  ../../dataset/opts/merlin/opt_no_case_alignmat.pickle\n",
      "Data load from  ../../dataset/opts/merlin/opt_encode_opt-125m_no_case_w128.data\n",
      "Data load from  ../../dataset/opts/milkyway/opt_no_case_alignmat.pickle\n",
      "Data load from  ../../dataset/opts/milkyway/opt_encode_opt-125m_no_case_w128.data\n",
      "Data load from  ../../dataset/opts/notthefallintact/opt_no_case_alignmat.pickle\n",
      "Data load from  ../../dataset/opts/notthefallintact/opt_encode_opt-125m_no_case_w128.data\n",
      "Data load from  ../../dataset/opts/pieman/opt_no_case_alignmat.pickle\n",
      "Data load from  ../../dataset/opts/pieman/opt_encode_opt-125m_no_case_w128.data\n",
      "Data load from  ../../dataset/opts/piemanpni/opt_no_case_alignmat.pickle\n",
      "Data load from  ../../dataset/opts/piemanpni/opt_encode_opt-125m_no_case_w128.data\n",
      "Data load from  ../../dataset/opts/prettymouth/opt_no_case_alignmat.pickle\n",
      "Data load from  ../../dataset/opts/prettymouth/opt_encode_opt-125m_no_case_w128.data\n",
      "Data load from  ../../dataset/opts/shapesphysical/opt_no_case_alignmat.pickle\n",
      "Data load from  ../../dataset/opts/shapesphysical/opt_encode_opt-125m_no_case_w128.data\n",
      "Data load from  ../../dataset/opts/shapessocial/opt_no_case_alignmat.pickle\n",
      "Data load from  ../../dataset/opts/shapessocial/opt_encode_opt-125m_no_case_w128.data\n",
      "Data load from  ../../dataset/opts/sherlock/opt_no_case_alignmat.pickle\n",
      "Data load from  ../../dataset/opts/sherlock/opt_encode_opt-125m_no_case_w128.data\n",
      "Data load from  ../../dataset/opts/slumlordreach/opt_no_case_alignmat.pickle\n",
      "Data load from  ../../dataset/opts/slumlordreach/opt_encode_opt-125m_no_case_w128.data\n",
      "Data load from  ../../dataset/opts/tunnel/opt_no_case_alignmat.pickle\n",
      "Data load from  ../../dataset/opts/tunnel/opt_encode_opt-125m_no_case_w128.data\n"
     ]
    }
   ],
   "source": [
    "ndp = NarrativeDataPreprocess()\n",
    "data_home = \"../../dataset/opts\"\n",
    "opt_model = \"opt-125m_no_case\"\n",
    "# opt_model = \"opt-350m\"\n",
    "# opt_model = \"gpt2\"\n",
    "window = 128\n",
    "layer=insert_layer\n",
    "featurel = []\n",
    "for task in ndp.tasks:\n",
    "    mat = load_data(os.path.join(data_home, \"%s/opt_no_case_alignmat.pickle\" % task))\n",
    "    feature_all = load_data(\n",
    "        os.path.join(data_home, \"%s/opt_encode_%s_w%s.data\" % (task, opt_model, window)))\n",
    "#     mat = load_data(os.path.join(data_home, \"%s/opt_alignmat.pickle\" % task))\n",
    "#     mat = load_data(os.path.join(data_home, \"%s/gpt2_alignmat.pickle\" % task))\n",
    "#     feature_all = load_data(\n",
    "#         os.path.join(data_home, \"%s/opt_encode_%s_w%s.data\" % (task, opt_model, window)))\n",
    "    feature = feature_all[layer, :, :].type(torch.FloatTensor).numpy()\n",
    "    featurel.append(feature)\n",
    "feature_all3 = np.concatenate(featurel, axis=0)"
   ]
  },
  {
   "cell_type": "code",
   "execution_count": 9,
   "id": "f8b8ce77",
   "metadata": {},
   "outputs": [
    {
     "name": "stdout",
     "output_type": "stream",
     "text": [
      "Project original data\n"
     ]
    }
   ],
   "source": [
    "feature_pca3, pM3, V3 = pca_proj(feature_all3.T, 20)\n",
    "feature_pca3 = feature_pca3.T"
   ]
  },
  {
   "cell_type": "code",
   "execution_count": 11,
   "id": "17d5eab6",
   "metadata": {
    "scrolled": true
   },
   "outputs": [
    {
     "name": "stdout",
     "output_type": "stream",
     "text": [
      "Data load from  ../../dataset/opts/21styear/opt_no_case_alignmat.pickle\n",
      "Data load from  ../../dataset/opts/21styear/opt_encode_opt-125m_no_case_w128.data\n",
      "Data load from  ../../dataset/opts/black/opt_no_case_alignmat.pickle\n",
      "Data load from  ../../dataset/opts/black/opt_encode_opt-125m_no_case_w128.data\n",
      "Data load from  ../../dataset/opts/bronx/opt_no_case_alignmat.pickle\n",
      "Data load from  ../../dataset/opts/bronx/opt_encode_opt-125m_no_case_w128.data\n",
      "Data load from  ../../dataset/opts/forgot/opt_no_case_alignmat.pickle\n",
      "Data load from  ../../dataset/opts/forgot/opt_encode_opt-125m_no_case_w128.data\n",
      "Data load from  ../../dataset/opts/lucy/opt_no_case_alignmat.pickle\n",
      "Data load from  ../../dataset/opts/lucy/opt_encode_opt-125m_no_case_w128.data\n",
      "Data load from  ../../dataset/opts/merlin/opt_no_case_alignmat.pickle\n",
      "Data load from  ../../dataset/opts/merlin/opt_encode_opt-125m_no_case_w128.data\n",
      "Data load from  ../../dataset/opts/milkyway/opt_no_case_alignmat.pickle\n",
      "Data load from  ../../dataset/opts/milkyway/opt_encode_opt-125m_no_case_w128.data\n",
      "Data load from  ../../dataset/opts/notthefallintact/opt_no_case_alignmat.pickle\n",
      "Data load from  ../../dataset/opts/notthefallintact/opt_encode_opt-125m_no_case_w128.data\n",
      "Data load from  ../../dataset/opts/pieman/opt_no_case_alignmat.pickle\n",
      "Data load from  ../../dataset/opts/pieman/opt_encode_opt-125m_no_case_w128.data\n",
      "Data load from  ../../dataset/opts/piemanpni/opt_no_case_alignmat.pickle\n",
      "Data load from  ../../dataset/opts/piemanpni/opt_encode_opt-125m_no_case_w128.data\n",
      "Data load from  ../../dataset/opts/prettymouth/opt_no_case_alignmat.pickle\n",
      "Data load from  ../../dataset/opts/prettymouth/opt_encode_opt-125m_no_case_w128.data\n",
      "Data load from  ../../dataset/opts/shapesphysical/opt_no_case_alignmat.pickle\n",
      "Data load from  ../../dataset/opts/shapesphysical/opt_encode_opt-125m_no_case_w128.data\n",
      "Data load from  ../../dataset/opts/shapessocial/opt_no_case_alignmat.pickle\n",
      "Data load from  ../../dataset/opts/shapessocial/opt_encode_opt-125m_no_case_w128.data\n",
      "Data load from  ../../dataset/opts/sherlock/opt_no_case_alignmat.pickle\n",
      "Data load from  ../../dataset/opts/sherlock/opt_encode_opt-125m_no_case_w128.data\n",
      "Data load from  ../../dataset/opts/slumlordreach/opt_no_case_alignmat.pickle\n",
      "Data load from  ../../dataset/opts/slumlordreach/opt_encode_opt-125m_no_case_w128.data\n",
      "Data load from  ../../dataset/opts/tunnel/opt_no_case_alignmat.pickle\n",
      "Data load from  ../../dataset/opts/tunnel/opt_encode_opt-125m_no_case_w128.data\n"
     ]
    }
   ],
   "source": [
    "layer=check_layer\n",
    "featurel = []\n",
    "for task in ndp.tasks:\n",
    "    mat = load_data(os.path.join(data_home, \"%s/opt_no_case_alignmat.pickle\" % task))\n",
    "    feature_all = load_data(\n",
    "        os.path.join(data_home, \"%s/opt_encode_%s_w%s.data\" % (task, opt_model, window)))\n",
    "#     mat = load_data(os.path.join(data_home, \"%s/opt_alignmat.pickle\" % task))\n",
    "#     mat = load_data(os.path.join(data_home, \"%s/gpt2_alignmat.pickle\" % task))\n",
    "#     feature_all = load_data(\n",
    "#         os.path.join(data_home, \"%s/opt_encode_%s_w%s.data\" % (task, opt_model, window)))\n",
    "    feature = feature_all[layer, :, :].type(torch.FloatTensor).numpy()\n",
    "    featurel.append(feature)\n",
    "feature_all8 = np.concatenate(featurel, axis=0)"
   ]
  },
  {
   "cell_type": "code",
   "execution_count": 12,
   "id": "5cd23c87",
   "metadata": {},
   "outputs": [
    {
     "name": "stdout",
     "output_type": "stream",
     "text": [
      "Project original data\n"
     ]
    }
   ],
   "source": [
    "feature_pca8, pM8, V8 = pca_proj(feature_all8.T, 20)\n",
    "feature_pca8 = feature_pca8.T"
   ]
  },
  {
   "cell_type": "code",
   "execution_count": 13,
   "id": "01004815",
   "metadata": {},
   "outputs": [],
   "source": [
    "gptcodeall_l = []\n",
    "gptcodeall_noise_l = []\n",
    "noise_all_l = []\n",
    "for resdict in resdict_l:\n",
    "    for key in resdict.keys():\n",
    "        gptcodeall, gptcodeall_noise, noise_paral = resdict[key]\n",
    "        noise_all = []\n",
    "        for para in noise_paral:\n",
    "            noise_all.append(para['add_noise'].numpy())\n",
    "        noise_all=np.array(noise_all)\n",
    "        gptcodeall_l.append(gptcodeall.numpy())\n",
    "        gptcodeall_noise_l.append(gptcodeall_noise.numpy())\n",
    "        noise_all_l.append(noise_all)\n",
    "gptcodeall_l = np.concatenate(gptcodeall_l,axis=0)\n",
    "gptcodeall_noise_l = np.concatenate(gptcodeall_noise_l,axis=0)\n",
    "noise_all_l = np.concatenate(noise_all_l,axis=0)"
   ]
  },
  {
   "cell_type": "code",
   "execution_count": 14,
   "id": "397f65a6",
   "metadata": {},
   "outputs": [],
   "source": [
    "gptcodeall_pca = gptcodeall_l.dot(pM8.T)\n",
    "gptcodeall_noise_pca = gptcodeall_noise_l.dot(pM8.T)\n",
    "diff_pca = gptcodeall_noise_pca-gptcodeall_pca\n",
    "\n",
    "noise_pca = noise_all_l.dot(pM3.T)"
   ]
  },
  {
   "cell_type": "code",
   "execution_count": 15,
   "id": "cd2cf5f8",
   "metadata": {},
   "outputs": [
    {
     "name": "stdout",
     "output_type": "stream",
     "text": [
      "Transformation Matrix: \n",
      "[[-6.87980831e-01  1.98139586e-02  1.91092107e-03  2.06571855e-02\n",
      "  -4.98811528e-03  3.48880771e-03  5.69905341e-03 -1.89064979e-03\n",
      "   1.20766636e-03  1.24962535e-02 -1.00737270e-02  4.02870169e-03\n",
      "   5.93680749e-03 -5.05469879e-03  6.05988083e-03  1.44223403e-03\n",
      "   1.17155518e-02  6.02679269e-04  1.04030063e-02  8.24582705e-04]\n",
      " [ 1.67509526e-01 -6.13431692e-01 -4.08789180e-02  3.16556841e-02\n",
      "  -1.55582968e-02  7.96030182e-03  3.41758691e-02 -1.59635916e-02\n",
      "  -1.70892980e-02  2.10444983e-02  1.47483759e-02  8.33875127e-03\n",
      "   3.35976583e-05  4.99981409e-03  1.48152625e-02  2.24677986e-03\n",
      "  -1.68449222e-03  7.03261327e-03 -1.81486466e-04 -1.80257577e-02]\n",
      " [ 2.35686392e-01  1.40527368e-01 -4.18375544e-02  2.94381469e-01\n",
      "  -4.79647964e-02 -1.23828650e-02  3.28835472e-02  2.62360517e-02\n",
      "   1.36732804e-02  2.53771786e-02 -1.64815784e-02  1.03953741e-02\n",
      "  -1.66242309e-02  1.14918491e-02  5.69007825e-03 -1.44078498e-04\n",
      "   4.66104364e-03  1.02774361e-02  4.37203841e-03  6.04446465e-03]\n",
      " [-4.93923910e-02 -2.65473336e-01  2.43569791e-01 -2.84150206e-02\n",
      "  -1.31607711e-01  3.25038731e-02 -2.14040298e-02  4.10220027e-02\n",
      "  -4.40624282e-02 -2.47457642e-02 -4.19146158e-02 -3.66404206e-02\n",
      "  -4.58862305e-05 -1.20070418e-02 -8.46931338e-03  1.97460540e-02\n",
      "  -1.40810153e-02 -1.75985750e-02 -2.40842942e-02 -1.52052967e-02]\n",
      " [ 1.73050016e-01  1.24437064e-01 -1.07355438e-01 -3.34079862e-02\n",
      "  -2.29849994e-01  9.26381499e-02  6.55147433e-02 -7.49893859e-02\n",
      "  -1.50212139e-01  8.58642384e-02 -2.67494563e-02 -3.55478236e-03\n",
      "  -3.71337868e-02  5.76590076e-02  7.67941261e-03  1.75469611e-02\n",
      "   1.00562386e-02 -1.09209260e-02 -2.14661825e-02 -1.52517613e-02]\n",
      " [-3.87974456e-02  6.95875436e-02  6.04969263e-02 -8.72406811e-02\n",
      "  -1.81623995e-01  2.29952279e-02 -7.43041234e-03 -1.12408809e-01\n",
      "   3.94747443e-02  8.66211131e-02  1.04821086e-01  6.01742491e-02\n",
      "  -1.63007732e-02  8.82218182e-02  9.93202850e-02 -1.54849747e-02\n",
      "  -1.59768444e-02  4.39970419e-02 -2.74340697e-02 -3.16766500e-02]\n",
      " [ 3.34999897e-02  1.20600440e-01 -6.76800087e-02 -8.38747341e-03\n",
      "   5.66799752e-02  1.87093273e-01 -2.16986351e-02  3.81757738e-04\n",
      "   4.49976064e-02  1.31612532e-02  3.28594856e-02 -2.85127368e-02\n",
      "  -3.27872485e-02 -6.24261945e-02 -2.63925772e-02  8.63094348e-03\n",
      "  -8.04532040e-03  1.12324092e-03  5.88579569e-04 -3.51494318e-03]\n",
      " [ 2.94272155e-01 -1.29506573e-01 -2.82365531e-02  2.59861778e-02\n",
      "  -1.51346833e-01 -5.89736563e-04 -1.91498443e-01  1.30751476e-01\n",
      "   2.21561966e-03  2.09094249e-02  3.15015428e-02 -5.07460795e-02\n",
      "  -4.32685856e-03  3.40478634e-03  2.66388096e-02  8.12531263e-03\n",
      "  -7.62119843e-03 -2.66925450e-02 -1.46339033e-02  2.82318494e-03]\n",
      " [ 2.54005581e-01  2.33419351e-02  1.28048226e-01  1.87810734e-02\n",
      "   8.37047547e-02  1.40090212e-01 -6.30410239e-02  2.18756385e-02\n",
      "   5.89784496e-02  1.85954317e-01 -1.09587312e-01 -4.05584322e-03\n",
      "   1.14739873e-01  6.29960522e-02  5.91936558e-02  1.33816535e-02\n",
      "   2.49720681e-02  2.65092347e-02  2.41122693e-02 -2.88512520e-02]\n",
      " [ 6.81834668e-02  1.17330216e-01 -3.88824940e-02  2.00215168e-02\n",
      "   5.71648777e-02  1.49150103e-01 -2.62731826e-03  4.74762246e-02\n",
      "  -1.72546625e-01 -4.14801240e-02  5.40218242e-02  2.91818269e-02\n",
      "  -3.33276279e-02  9.87617224e-02  7.00542629e-02 -6.17106073e-02\n",
      "  -4.50952873e-02  1.60388574e-02  5.23176230e-02 -5.67303691e-03]\n",
      " [-1.02724716e-01  3.46251167e-02 -1.70186516e-02 -1.84735041e-02\n",
      "  -3.15922722e-02 -6.05959967e-02  1.52650952e-01  2.39062861e-01\n",
      "   1.10935889e-01  2.87530962e-02  3.79048586e-02  8.06653965e-03\n",
      "  -2.11976301e-02  1.01988077e-01 -1.07359700e-02 -2.62119267e-02\n",
      "  -3.19591686e-02 -1.79424938e-02 -2.27321945e-02 -5.07373828e-03]\n",
      " [ 4.26450595e-02  1.40240282e-01  3.99102829e-02 -5.52569740e-02\n",
      "  -3.93609554e-02 -4.36725058e-02  6.05752096e-02  1.04081715e-02\n",
      "   1.16438128e-01 -1.53353244e-01 -1.24148883e-01  9.29906592e-02\n",
      "   9.96642113e-02  7.00553805e-02 -8.95793270e-03  2.73149349e-02\n",
      "  -6.66171359e-03 -1.19107543e-02  7.17860311e-02  1.51871070e-02]\n",
      " [ 2.03857481e-01 -2.24598702e-02 -4.48121466e-02  1.09047191e-02\n",
      "   3.80413211e-03  6.57788441e-02 -1.72654819e-02 -1.95044745e-02\n",
      "  -1.08469851e-01  6.92035779e-02 -6.18196465e-02  1.02750905e-01\n",
      "  -1.11963138e-01  1.20809022e-02  1.09269470e-02  1.33617744e-01\n",
      "   3.97689007e-02  5.37997000e-02  1.15813101e-02  1.16341363e-03]\n",
      " [ 2.80028611e-01 -1.06954239e-01 -7.36024529e-02  4.16563675e-02\n",
      "   5.81543148e-02  2.27714591e-02  1.07325926e-01  3.11647207e-02\n",
      "  -6.99094385e-02 -1.10830188e-01 -7.71169830e-03  9.07041132e-03\n",
      "  -5.24070747e-02  5.69653511e-03  2.03294516e-01  4.79884297e-02\n",
      "   1.42102614e-01 -1.10457174e-01 -1.89830810e-02  2.79783104e-02]\n",
      " [-3.88687663e-02 -1.52738485e-02  3.28940973e-02 -5.27308322e-02\n",
      "   7.98030943e-03  9.76478681e-02 -7.18822181e-02 -4.40432914e-02\n",
      "  -2.36145081e-03 -1.69526543e-02 -7.39167854e-02 -1.13325734e-02\n",
      "  -4.43065427e-02 -5.54488115e-02  1.22512272e-02  3.66932936e-02\n",
      "  -1.25239015e-01  7.54967630e-02 -2.08737150e-01  4.14617695e-02]\n",
      " [ 6.73264116e-02  3.44296336e-01 -2.89189033e-02  8.75524729e-02\n",
      "  -1.39419651e-02 -6.49462044e-02  1.17840525e-03  8.50386024e-02\n",
      "  -4.59132018e-03  8.64979997e-03  2.03434080e-01 -5.98882958e-02\n",
      "   1.37327939e-01 -5.27200587e-02 -3.41809951e-02  2.51639783e-02\n",
      "   2.11677719e-02 -6.36110723e-04  4.66478150e-03  9.38742235e-02]\n",
      " [ 3.08429841e-02  1.93606630e-01  8.95777531e-03 -5.12922406e-02\n",
      "  -1.60152111e-02  9.97743234e-02 -1.32050037e-01 -1.22052014e-01\n",
      "  -3.47909406e-02 -4.26095352e-03 -3.20374630e-02  4.38728817e-02\n",
      "  -3.55444439e-02  3.58396284e-02 -5.65169528e-02  5.05216047e-02\n",
      "   2.15896312e-02 -2.33511254e-01 -8.07775259e-02  3.83974835e-02]\n",
      " [ 1.57369196e-01  5.19061610e-02  9.15098563e-03  9.49262157e-02\n",
      "  -6.76737959e-03 -6.98605701e-02  2.03567892e-02  1.17495405e-02\n",
      "   1.67241823e-02 -1.31615931e-02  3.40648517e-02 -3.43458615e-02\n",
      "  -9.89142880e-02  3.76462452e-02 -1.91050470e-02  1.55655459e-01\n",
      "  -4.79953289e-02 -3.86377536e-02  1.42859876e-01  8.17636121e-03]\n",
      " [-5.46043396e-01  2.00053930e-01 -8.71924683e-02 -5.03681041e-02\n",
      "  -3.29635702e-02  1.35114640e-02  6.14824966e-02 -5.86731583e-02\n",
      "  -5.48472479e-02 -7.00289966e-04 -4.63025942e-02 -1.01953767e-01\n",
      "  -3.23835500e-02  1.70780364e-02  8.59538931e-03  9.35138315e-02\n",
      "  -7.24147186e-02 -3.63990888e-02  3.59648541e-02 -6.94258651e-03]\n",
      " [ 2.21247762e-01 -5.30099347e-02 -4.62470017e-03 -3.77981290e-02\n",
      "  -1.09069655e-02 -3.41173671e-02  1.00628108e-01  3.76633480e-02\n",
      "   3.25349122e-02 -8.17630813e-02  4.86665731e-03 -7.57335499e-02\n",
      "  -2.83910297e-02 -1.68991799e-03  8.75276455e-04  9.27334558e-03\n",
      "  -1.75105006e-01 -2.01413929e-02  5.09177484e-02 -1.48252249e-02]]\n",
      "Bias Vector: [ 1.8820462e-04  5.9225964e-05  9.7733267e-05 -5.6317171e-05\n",
      " -2.1194074e-04  2.8467749e-04  2.6016583e-04  1.5323162e-04\n",
      " -1.8283994e-04  5.8372352e-05 -2.3144053e-04  3.6953665e-05\n",
      "  2.6547202e-04  5.7693198e-04 -4.1544885e-05  8.7858105e-05\n",
      " -3.0491647e-04  3.3223660e-05  7.1404252e-04  9.4771436e-05]\n",
      "RMS Error: 0.014276246540248394\n"
     ]
    }
   ],
   "source": [
    "_, t_re = fit_linear(diff_pca[:,:], noise_pca[:,:])\n",
    "transformation_matrix, bias_vector = t_re"
   ]
  },
  {
   "cell_type": "code",
   "execution_count": 16,
   "id": "7030cdd8",
   "metadata": {},
   "outputs": [
    {
     "data": {
      "image/png": "[encoded data removed]",
      "text/plain": [
       "<Figure size 640x480 with 2 Axes>"
      ]
     },
     "metadata": {},
     "output_type": "display_data"
    }
   ],
   "source": [
    "# Visualize the matrix\n",
    "# plt.imshow(transformation_matrix.T, cmap='seismic')\n",
    "trasn_mat = transformation_matrix.T\n",
    "plt.imshow(np.abs(trasn_mat), cmap='OrRd', vmin=0.0, vmax=0.3)\n",
    "plt.xlabel(\"Layer 9 indexes\",size=12)\n",
    "plt.ylabel(\"Layer 4 indexes\",size=12)\n",
    "plt.colorbar()\n",
    "plt.show()"
   ]
  },
  {
   "cell_type": "code",
   "execution_count": 24,
   "id": "71c41e8b",
   "metadata": {},
   "outputs": [],
   "source": [
    "thred = np.median(np.abs(trasn_mat))\n",
    "cause_mat = np.zeros((20,20))\n",
    "for ii in range(20):\n",
    "    for jj in range(20):\n",
    "        if np.abs(trasn_mat)[ii,jj]>thred:\n",
    "            cause_mat[ii,jj]=1"
   ]
  },
  {
   "cell_type": "code",
   "execution_count": 25,
   "id": "7df3672f",
   "metadata": {},
   "outputs": [
    {
     "data": {
      "image/png": "[encoded data removed]",
      "text/plain": [
       "<Figure size 640x480 with 2 Axes>"
      ]
     },
     "metadata": {},
     "output_type": "display_data"
    }
   ],
   "source": [
    "# Visualize the matrix\n",
    "plt.imshow(cause_mat, cmap='seismic', vmin=-1.5, vmax=1.5)\n",
    "plt.colorbar()\n",
    "plt.show()"
   ]
  },
  {
   "cell_type": "code",
   "execution_count": 23,
   "id": "deb4845d",
   "metadata": {},
   "outputs": [],
   "source": [
    "sinkdeg = np.sum(cause_mat, axis=0)\n",
    "sorted_indices = np.argsort(sinkdeg)"
   ]
  },
  {
   "cell_type": "code",
   "execution_count": 27,
   "id": "581b23d1",
   "metadata": {},
   "outputs": [],
   "source": [
    "### The bottom 10 indexes of sorted_indices should go to bottom_index\n",
    "### The top 10 indexes of sorted_indices should go to top_index\n",
    "### Below is the result used in our paper\n",
    "bottom_index = [0,  2,  1,  6,  7,  3, 17, 10,  4,  8]\n",
    "top_index = [15, 12, 19,  5, 14, 18, 16, 9, 11, 13]"
   ]
  },
  {
   "cell_type": "code",
   "execution_count": 28,
   "id": "c81b1667",
   "metadata": {},
   "outputs": [
    {
     "name": "stdout",
     "output_type": "stream",
     "text": [
      "Data load from  ../../dataset/opts/21styear/opt_no_case_alignmat.pickle\n",
      "Data load from  ../../dataset/opts/21styear/opt_encode_opt-125m_no_case_w128.data\n"
     ]
    },
    {
     "ename": "FileNotFoundError",
     "evalue": "[Errno 2] No such file or directory: '../../dataset/opts/%s/multilayer_4c9_opt_top'",
     "output_type": "error",
     "traceback": [
      "\u001b[0;31m---------------------------------------------------------------------------\u001b[0m",
      "\u001b[0;31mFileNotFoundError\u001b[0m                         Traceback (most recent call last)",
      "Cell \u001b[0;32mIn[28], line 25\u001b[0m\n\u001b[1;32m     23\u001b[0m feature_alg_zero \u001b[38;5;241m=\u001b[39m np\u001b[38;5;241m.\u001b[39mconcatenate([zero_feature, feature_alg], axis\u001b[38;5;241m=\u001b[39m\u001b[38;5;241m-\u001b[39m\u001b[38;5;241m1\u001b[39m)\n\u001b[1;32m     24\u001b[0m feature_alg_zero \u001b[38;5;241m=\u001b[39m scipy\u001b[38;5;241m.\u001b[39mstats\u001b[38;5;241m.\u001b[39mzscore(feature_alg_zero)  \u001b[38;5;66;03m# mat_pca_zscoresep # not big deal\u001b[39;00m\n\u001b[0;32m---> 25\u001b[0m \u001b[43mos\u001b[49m\u001b[38;5;241;43m.\u001b[39;49m\u001b[43mmkdir\u001b[49m\u001b[43m(\u001b[49m\u001b[43mos\u001b[49m\u001b[38;5;241;43m.\u001b[39;49m\u001b[43mpath\u001b[49m\u001b[38;5;241;43m.\u001b[39;49m\u001b[43mjoin\u001b[49m\u001b[43m(\u001b[49m\u001b[43mdata_home\u001b[49m\u001b[43m,\u001b[49m\u001b[43m \u001b[49m\u001b[38;5;124;43m\"\u001b[39;49m\u001b[38;5;132;43;01m%s\u001b[39;49;00m\u001b[38;5;124;43m/multilayer_4c9_opt_top\u001b[39;49m\u001b[38;5;124;43m\"\u001b[39;49m\u001b[43m)\u001b[49m\u001b[43m)\u001b[49m\n\u001b[1;32m     26\u001b[0m save_data((feature_alg_zero, zero_mask), \n\u001b[1;32m     27\u001b[0m           os\u001b[38;5;241m.\u001b[39mpath\u001b[38;5;241m.\u001b[39mjoin(data_home, \u001b[38;5;124m\"\u001b[39m\u001b[38;5;132;01m%s\u001b[39;00m\u001b[38;5;124m/multilayer_4c9_opt_top/opt_encode_\u001b[39m\u001b[38;5;132;01m%s\u001b[39;00m\u001b[38;5;124m_l\u001b[39m\u001b[38;5;132;01m%s\u001b[39;00m\u001b[38;5;124m.data\u001b[39m\u001b[38;5;124m\"\u001b[39m \u001b[38;5;241m%\u001b[39m (task, opt_model, layer)))\n",
      "\u001b[0;31mFileNotFoundError\u001b[0m: [Errno 2] No such file or directory: '../../dataset/opts/%s/multilayer_4c9_opt_top'"
     ]
    }
   ],
   "source": [
    "layer=check_layer\n",
    "\n",
    "for task in ndp.tasks:\n",
    "    mat = load_data(os.path.join(data_home, \"%s/opt_no_case_alignmat.pickle\" % task))\n",
    "    feature_all = load_data(\n",
    "        os.path.join(data_home, \"%s/opt_encode_%s_w%s.data\" % (task, opt_model, window)))\n",
    "#     mat = load_data(os.path.join(data_home, \"%s/opt_alignmat.pickle\" % task))\n",
    "#     mat = load_data(os.path.join(data_home, \"%s/gpt2_alignmat.pickle\" % task))\n",
    "#     feature_all = load_data(\n",
    "#         os.path.join(data_home, \"%s/opt_encode_%s_w%s.data\" % (task, opt_model, window)))\n",
    "    feature= feature_all[layer, :, :].type(torch.FloatTensor).numpy()\n",
    "    \n",
    "    feature_pca = feature.dot(pM8.T)\n",
    "    feature_pick = feature_pca[:,top_index]\n",
    "    \n",
    "    feature_alg = mat.T.dot(feature_pick)\n",
    "\n",
    "    zero_mask = (feature_alg != 0)[:, 0]\n",
    "    zero_feature = ((feature_alg == 0)[:, 0]).astype(int).reshape(-1, 1)\n",
    "    zero_feature = scipy.stats.zscore(zero_feature)\n",
    "    \n",
    "    feature_alg[zero_mask, :] = scipy.stats.zscore(feature_alg[zero_mask, :])\n",
    "    feature_alg_zero = np.concatenate([zero_feature, feature_alg], axis=-1)\n",
    "    feature_alg_zero = scipy.stats.zscore(feature_alg_zero)  # mat_pca_zscoresep # not big deal\n",
    "    os.mkdir(os.path.join(data_home, \"%s/multilayer_4c9_opt_top\")%task)\n",
    "    save_data((feature_alg_zero, zero_mask), \n",
    "              os.path.join(data_home, \"%s/multilayer_4c9_opt_top/opt_encode_%s_l%s.data\" % (task, opt_model, layer)))"
   ]
  },
  {
   "cell_type": "code",
   "execution_count": null,
   "id": "fd4bc21c",
   "metadata": {},
   "outputs": [],
   "source": [
    "layer=check_layer\n",
    "\n",
    "for task in ndp.tasks:\n",
    "    mat = load_data(os.path.join(data_home, \"%s/opt_no_case_alignmat.pickle\" % task))\n",
    "    feature_all = load_data(\n",
    "        os.path.join(data_home, \"%s/opt_encode_%s_w%s.data\" % (task, opt_model, window)))\n",
    "#     mat = load_data(os.path.join(data_home, \"%s/opt_alignmat.pickle\" % task))\n",
    "#     mat = load_data(os.path.join(data_home, \"%s/gpt2_alignmat.pickle\" % task))\n",
    "#     feature_all = load_data(\n",
    "#         os.path.join(data_home, \"%s/opt_encode_%s_w%s.data\" % (task, opt_model, window)))\n",
    "    feature= feature_all[layer, :, :].type(torch.FloatTensor).numpy()\n",
    "    \n",
    "    feature_pca = feature.dot(pM8.T)\n",
    "    feature_pick = feature_pca[:,bottom_index]\n",
    "    \n",
    "    feature_alg = mat.T.dot(feature_pick)\n",
    "\n",
    "    zero_mask = (feature_alg != 0)[:, 0]\n",
    "    zero_feature = ((feature_alg == 0)[:, 0]).astype(int).reshape(-1, 1)\n",
    "    zero_feature = scipy.stats.zscore(zero_feature)\n",
    "    \n",
    "    feature_alg[zero_mask, :] = scipy.stats.zscore(feature_alg[zero_mask, :])\n",
    "    feature_alg_zero = np.concatenate([zero_feature, feature_alg], axis=-1)\n",
    "    feature_alg_zero = scipy.stats.zscore(feature_alg_zero)  # mat_pca_zscoresep # not big deal\n",
    "    os.mkdir(os.path.join(data_home, \"%s/multilayer_4c9_opt_bottom\"))\n",
    "    save_data((feature_alg_zero, zero_mask), \n",
    "              os.path.join(data_home, \"%s/multilayer_4c9_opt_bottom/opt_encode_%s_l%s.data\" % (task, opt_model, layer)))"
   ]
  }
 ],
 "metadata": {
  "kernelspec": {
   "display_name": "Python [conda env:causal] *",
   "language": "python",
   "name": "conda-env-causal-py"
  },
  "language_info": {
   "codemirror_mode": {
    "name": "ipython",
    "version": 3
   },
   "file_extension": ".py",
   "mimetype": "text/x-python",
   "name": "python",
   "nbconvert_exporter": "python",
   "pygments_lexer": "ipython3",
   "version": "3.8.18"
  }
 },
 "nbformat": 4,
 "nbformat_minor": 5
}

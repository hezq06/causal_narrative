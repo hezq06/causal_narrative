{
 "cells": [
  {
   "cell_type": "code",
   "execution_count": 1,
   "id": "558a2345",
   "metadata": {},
   "outputs": [],
   "source": [
    "%reload_ext autoreload\n",
    "%autoreload 2\n",
    "import matplotlib\n",
    "# matplotlib.use('TkAgg')\n",
    "# %matplotlib\n",
    "%config Completer.use_jedi = False"
   ]
  },
  {
   "cell_type": "code",
   "execution_count": 2,
   "id": "2b43a006",
   "metadata": {},
   "outputs": [],
   "source": [
    "from causal_narrative.fmriutil import *\n",
    "from causal_narrative.datautil import *"
   ]
  },
  {
   "cell_type": "markdown",
   "id": "127b4ebe",
   "metadata": {},
   "source": [
    "## Prepare Tokenization for each story"
   ]
  },
  {
   "cell_type": "code",
   "execution_count": 3,
   "id": "487e7dc8",
   "metadata": {},
   "outputs": [
    {
     "name": "stdout",
     "output_type": "stream",
     "text": [
      "Data load from  /work1/hezq17/causal_narrative/workspace/notebook/../../dataset/narratives/code/task_meta.json\n",
      "['21styear', 'black', 'bronx', 'forgot', 'lucy', 'merlin', 'milkyway', 'notthefallintact', 'notthefalllongscram', 'notthefallshortscram', 'pieman', 'piemanpni', 'prettymouth', 'schema', 'shapesphysical', 'shapessocial', 'sherlock', 'slumlordreach', 'tunnel']\n",
      "['notthefalllongscram', 'notthefallshortscram', 'schema']\n",
      "Task notthefalllongscram removed\n",
      "Task notthefallshortscram removed\n",
      "Task schema removed\n",
      "Data load from  /work1/hezq17/causal_narrative/workspace/notebook/../../dataset/narratives/code/scan_exclude.json\n"
     ]
    }
   ],
   "source": [
    "ndp = NarrativeDataPreprocess({\"opt_model\":\"opt_no_case\"})"
   ]
  },
  {
   "cell_type": "code",
   "execution_count": 4,
   "id": "95495224",
   "metadata": {
    "scrolled": true
   },
   "outputs": [
    {
     "name": "stdout",
     "output_type": "stream",
     "text": [
      "Data load from  /work1/hezq17/causal_narrative/workspace/notebook/../../dataset/narratives/stimuli/gentle/21styear/align.json\n",
      "Data saved to  /work1/hezq17/causal_narrative/workspace/notebook/../../dataset/opts/21styear/opt_no_case_tokenization.pickle\n",
      "Data load from  /work1/hezq17/causal_narrative/workspace/notebook/../../dataset/narratives/stimuli/gentle/black/align.json\n",
      "Data saved to  /work1/hezq17/causal_narrative/workspace/notebook/../../dataset/opts/black/opt_no_case_tokenization.pickle\n",
      "Data load from  /work1/hezq17/causal_narrative/workspace/notebook/../../dataset/narratives/stimuli/gentle/bronx/align.json\n",
      "Data saved to  /work1/hezq17/causal_narrative/workspace/notebook/../../dataset/opts/bronx/opt_no_case_tokenization.pickle\n",
      "Data load from  /work1/hezq17/causal_narrative/workspace/notebook/../../dataset/narratives/stimuli/gentle/forgot/align.json\n",
      "Data saved to  /work1/hezq17/causal_narrative/workspace/notebook/../../dataset/opts/forgot/opt_no_case_tokenization.pickle\n",
      "Data load from  /work1/hezq17/causal_narrative/workspace/notebook/../../dataset/narratives/stimuli/gentle/lucy/align.json\n",
      "Data saved to  /work1/hezq17/causal_narrative/workspace/notebook/../../dataset/opts/lucy/opt_no_case_tokenization.pickle\n",
      "Data load from  /work1/hezq17/causal_narrative/workspace/notebook/../../dataset/narratives/stimuli/gentle/merlin/align.json\n",
      "Data saved to  /work1/hezq17/causal_narrative/workspace/notebook/../../dataset/opts/merlin/opt_no_case_tokenization.pickle\n",
      "Data load from  /work1/hezq17/causal_narrative/workspace/notebook/../../dataset/narratives/stimuli/gentle/milkyway/align.json\n",
      "Data saved to  /work1/hezq17/causal_narrative/workspace/notebook/../../dataset/opts/milkyway/opt_no_case_tokenization.pickle\n",
      "Data load from  /work1/hezq17/causal_narrative/workspace/notebook/../../dataset/narratives/stimuli/gentle/notthefallintact/align.json\n",
      "Data saved to  /work1/hezq17/causal_narrative/workspace/notebook/../../dataset/opts/notthefallintact/opt_no_case_tokenization.pickle\n",
      "Data load from  /work1/hezq17/causal_narrative/workspace/notebook/../../dataset/narratives/stimuli/gentle/pieman/align.json\n",
      "Data saved to  /work1/hezq17/causal_narrative/workspace/notebook/../../dataset/opts/pieman/opt_no_case_tokenization.pickle\n",
      "Data load from  /work1/hezq17/causal_narrative/workspace/notebook/../../dataset/narratives/stimuli/gentle/piemanpni/align.json\n",
      "Data saved to  /work1/hezq17/causal_narrative/workspace/notebook/../../dataset/opts/piemanpni/opt_no_case_tokenization.pickle\n",
      "Data load from  /work1/hezq17/causal_narrative/workspace/notebook/../../dataset/narratives/stimuli/gentle/prettymouth/align.json\n",
      "Data saved to  /work1/hezq17/causal_narrative/workspace/notebook/../../dataset/opts/prettymouth/opt_no_case_tokenization.pickle\n",
      "Data load from  /work1/hezq17/causal_narrative/workspace/notebook/../../dataset/narratives/stimuli/gentle/shapesphysical/align.json\n",
      "Data saved to  /work1/hezq17/causal_narrative/workspace/notebook/../../dataset/opts/shapesphysical/opt_no_case_tokenization.pickle\n",
      "Data load from  /work1/hezq17/causal_narrative/workspace/notebook/../../dataset/narratives/stimuli/gentle/shapessocial/align.json\n",
      "Data saved to  /work1/hezq17/causal_narrative/workspace/notebook/../../dataset/opts/shapessocial/opt_no_case_tokenization.pickle\n",
      "Data load from  /work1/hezq17/causal_narrative/workspace/notebook/../../dataset/narratives/stimuli/gentle/sherlock/align.json\n",
      "Data saved to  /work1/hezq17/causal_narrative/workspace/notebook/../../dataset/opts/sherlock/opt_no_case_tokenization.pickle\n",
      "Data load from  /work1/hezq17/causal_narrative/workspace/notebook/../../dataset/narratives/stimuli/gentle/slumlordreach/align.json\n",
      "Data saved to  /work1/hezq17/causal_narrative/workspace/notebook/../../dataset/opts/slumlordreach/opt_no_case_tokenization.pickle\n",
      "Data load from  /work1/hezq17/causal_narrative/workspace/notebook/../../dataset/narratives/stimuli/gentle/tunnel/align.json\n",
      "Data saved to  /work1/hezq17/causal_narrative/workspace/notebook/../../dataset/opts/tunnel/opt_no_case_tokenization.pickle\n"
     ]
    }
   ],
   "source": [
    "ndp.tokenization()"
   ]
  },
  {
   "cell_type": "markdown",
   "id": "05a7647a",
   "metadata": {},
   "source": [
    "## Prepare alignment matrix for each story"
   ]
  },
  {
   "cell_type": "code",
   "execution_count": 6,
   "id": "29df2fce",
   "metadata": {
    "scrolled": true
   },
   "outputs": [
    {
     "name": "stdout",
     "output_type": "stream",
     "text": [
      "Data load from  /work1/hezq17/causal_narrative/workspace/notebook/../../dataset/narratives/derivatives/afni-nosmooth/sub-075/func/sub-075_task-21styear_space-fsaverage6_hemi-L_desc-clean.func.gii\n",
      "Data load from  /work1/hezq17/causal_narrative/workspace/notebook/../../dataset/narratives/stimuli/gentle/21styear/align.json\n",
      "Data load from  /work1/hezq17/causal_narrative/workspace/notebook/../../dataset/opts/21styear/opt_no_case_tokenization.pickle\n"
     ]
    },
    {
     "data": {
      "application/vnd.jupyter.widget-view+json": {
       "model_id": "6544e4031b954f2cafc74213f9ae988d",
       "version_major": 2,
       "version_minor": 0
      },
      "text/plain": [
       "  0%|          | 0/11712 [00:00<?, ?it/s]"
      ]
     },
     "metadata": {},
     "output_type": "display_data"
    },
    {
     "name": "stdout",
     "output_type": "stream",
     "text": [
      "Data saved to  /work1/hezq17/causal_narrative/workspace/notebook/../../dataset/opts/21styear/opt_no_case_alignmat.pickle\n",
      "Data load from  /work1/hezq17/causal_narrative/workspace/notebook/../../dataset/narratives/derivatives/afni-nosmooth/sub-127/func/sub-127_task-black_space-fsaverage6_hemi-L_desc-clean.func.gii\n",
      "Data load from  /work1/hezq17/causal_narrative/workspace/notebook/../../dataset/narratives/stimuli/gentle/black/align.json\n",
      "Data load from  /work1/hezq17/causal_narrative/workspace/notebook/../../dataset/opts/black/opt_no_case_tokenization.pickle\n"
     ]
    },
    {
     "data": {
      "application/vnd.jupyter.widget-view+json": {
       "model_id": "77658f02aa514abd9df928d878d6a452",
       "version_major": 2,
       "version_minor": 0
      },
      "text/plain": [
       "  0%|          | 0/1909 [00:00<?, ?it/s]"
      ]
     },
     "metadata": {},
     "output_type": "display_data"
    },
    {
     "name": "stdout",
     "output_type": "stream",
     "text": [
      "Data saved to  /work1/hezq17/causal_narrative/workspace/notebook/../../dataset/opts/black/opt_no_case_alignmat.pickle\n",
      "Data load from  /work1/hezq17/causal_narrative/workspace/notebook/../../dataset/narratives/derivatives/afni-nosmooth/sub-127/func/sub-127_task-bronx_space-fsaverage6_hemi-L_desc-clean.func.gii\n",
      "Data load from  /work1/hezq17/causal_narrative/workspace/notebook/../../dataset/narratives/stimuli/gentle/bronx/align.json\n",
      "Data load from  /work1/hezq17/causal_narrative/workspace/notebook/../../dataset/opts/bronx/opt_no_case_tokenization.pickle\n"
     ]
    },
    {
     "data": {
      "application/vnd.jupyter.widget-view+json": {
       "model_id": "6157f509251c4e649a7460667f374adb",
       "version_major": 2,
       "version_minor": 0
      },
      "text/plain": [
       "  0%|          | 0/1713 [00:00<?, ?it/s]"
      ]
     },
     "metadata": {},
     "output_type": "display_data"
    },
    {
     "name": "stdout",
     "output_type": "stream",
     "text": [
      "Data saved to  /work1/hezq17/causal_narrative/workspace/notebook/../../dataset/opts/bronx/opt_no_case_alignmat.pickle\n",
      "Data load from  /work1/hezq17/causal_narrative/workspace/notebook/../../dataset/narratives/derivatives/afni-nosmooth/sub-127/func/sub-127_task-forgot_space-fsaverage6_hemi-L_desc-clean.func.gii\n",
      "Data load from  /work1/hezq17/causal_narrative/workspace/notebook/../../dataset/narratives/stimuli/gentle/forgot/align.json\n",
      "Data load from  /work1/hezq17/causal_narrative/workspace/notebook/../../dataset/opts/forgot/opt_no_case_tokenization.pickle\n"
     ]
    },
    {
     "data": {
      "application/vnd.jupyter.widget-view+json": {
       "model_id": "fee05628445041ac9591de80a6f4830a",
       "version_major": 2,
       "version_minor": 0
      },
      "text/plain": [
       "  0%|          | 0/2589 [00:00<?, ?it/s]"
      ]
     },
     "metadata": {},
     "output_type": "display_data"
    },
    {
     "name": "stdout",
     "output_type": "stream",
     "text": [
      "Data saved to  /work1/hezq17/causal_narrative/workspace/notebook/../../dataset/opts/forgot/opt_no_case_alignmat.pickle\n",
      "Data load from  /work1/hezq17/causal_narrative/workspace/notebook/../../dataset/narratives/derivatives/afni-nosmooth/sub-022/func/sub-022_task-lucy_space-fsaverage6_hemi-L_desc-clean.func.gii\n",
      "Data load from  /work1/hezq17/causal_narrative/workspace/notebook/../../dataset/narratives/stimuli/gentle/lucy/align.json\n",
      "Data load from  /work1/hezq17/causal_narrative/workspace/notebook/../../dataset/opts/lucy/opt_no_case_tokenization.pickle\n"
     ]
    },
    {
     "data": {
      "application/vnd.jupyter.widget-view+json": {
       "model_id": "2a7f6922e510480190111d63be051787",
       "version_major": 2,
       "version_minor": 0
      },
      "text/plain": [
       "  0%|          | 0/2118 [00:00<?, ?it/s]"
      ]
     },
     "metadata": {},
     "output_type": "display_data"
    },
    {
     "name": "stdout",
     "output_type": "stream",
     "text": [
      "Data saved to  /work1/hezq17/causal_narrative/workspace/notebook/../../dataset/opts/lucy/opt_no_case_alignmat.pickle\n",
      "Data load from  /work1/hezq17/causal_narrative/workspace/notebook/../../dataset/narratives/derivatives/afni-nosmooth/sub-075/func/sub-075_task-merlin_space-fsaverage6_hemi-L_desc-clean.func.gii\n",
      "Data load from  /work1/hezq17/causal_narrative/workspace/notebook/../../dataset/narratives/stimuli/gentle/merlin/align.json\n",
      "Data load from  /work1/hezq17/causal_narrative/workspace/notebook/../../dataset/opts/merlin/opt_no_case_tokenization.pickle\n"
     ]
    },
    {
     "data": {
      "application/vnd.jupyter.widget-view+json": {
       "model_id": "9c7d75d0d86e4e38995ea0657f9882a7",
       "version_major": 2,
       "version_minor": 0
      },
      "text/plain": [
       "  0%|          | 0/2986 [00:00<?, ?it/s]"
      ]
     },
     "metadata": {},
     "output_type": "display_data"
    },
    {
     "name": "stdout",
     "output_type": "stream",
     "text": [
      "Data saved to  /work1/hezq17/causal_narrative/workspace/notebook/../../dataset/opts/merlin/opt_no_case_alignmat.pickle\n",
      "Data load from  /work1/hezq17/causal_narrative/workspace/notebook/../../dataset/narratives/derivatives/afni-nosmooth/sub-023/func/sub-023_task-milkyway_space-fsaverage6_hemi-L_desc-clean.func.gii\n",
      "Data load from  /work1/hezq17/causal_narrative/workspace/notebook/../../dataset/narratives/stimuli/gentle/milkyway/align.json\n",
      "Data load from  /work1/hezq17/causal_narrative/workspace/notebook/../../dataset/opts/milkyway/opt_no_case_tokenization.pickle\n"
     ]
    },
    {
     "data": {
      "application/vnd.jupyter.widget-view+json": {
       "model_id": "c1a5da9c090d44568e815c9d59f7df7d",
       "version_major": 2,
       "version_minor": 0
      },
      "text/plain": [
       "  0%|          | 0/1468 [00:00<?, ?it/s]"
      ]
     },
     "metadata": {},
     "output_type": "display_data"
    },
    {
     "name": "stdout",
     "output_type": "stream",
     "text": [
      "Data saved to  /work1/hezq17/causal_narrative/workspace/notebook/../../dataset/opts/milkyway/opt_no_case_alignmat.pickle\n",
      "Data load from  /work1/hezq17/causal_narrative/workspace/notebook/../../dataset/narratives/derivatives/afni-nosmooth/sub-016/func/sub-016_task-notthefallintact_space-fsaverage6_hemi-L_desc-clean.func.gii\n",
      "Data load from  /work1/hezq17/causal_narrative/workspace/notebook/../../dataset/narratives/stimuli/gentle/notthefallintact/align.json\n",
      "Data load from  /work1/hezq17/causal_narrative/workspace/notebook/../../dataset/opts/notthefallintact/opt_no_case_tokenization.pickle\n"
     ]
    },
    {
     "data": {
      "application/vnd.jupyter.widget-view+json": {
       "model_id": "168338a5ba384f749ee670fbad6c060d",
       "version_major": 2,
       "version_minor": 0
      },
      "text/plain": [
       "  0%|          | 0/2147 [00:00<?, ?it/s]"
      ]
     },
     "metadata": {},
     "output_type": "display_data"
    },
    {
     "name": "stdout",
     "output_type": "stream",
     "text": [
      "Data saved to  /work1/hezq17/causal_narrative/workspace/notebook/../../dataset/opts/notthefallintact/opt_no_case_alignmat.pickle\n",
      "Data load from  /work1/hezq17/causal_narrative/workspace/notebook/../../dataset/narratives/derivatives/afni-nosmooth/sub-002/func/sub-002_task-pieman_run-1_space-fsaverage6_hemi-L_desc-clean.func.gii\n",
      "Data load from  /work1/hezq17/causal_narrative/workspace/notebook/../../dataset/narratives/stimuli/gentle/pieman/align.json\n",
      "Data load from  /work1/hezq17/causal_narrative/workspace/notebook/../../dataset/opts/pieman/opt_no_case_tokenization.pickle\n"
     ]
    },
    {
     "data": {
      "application/vnd.jupyter.widget-view+json": {
       "model_id": "e54c585c14e44ab7ad18856190458247",
       "version_major": 2,
       "version_minor": 0
      },
      "text/plain": [
       "  0%|          | 0/1223 [00:00<?, ?it/s]"
      ]
     },
     "metadata": {},
     "output_type": "display_data"
    },
    {
     "name": "stdout",
     "output_type": "stream",
     "text": [
      "Data saved to  /work1/hezq17/causal_narrative/workspace/notebook/../../dataset/opts/pieman/opt_no_case_alignmat.pickle\n",
      "Data load from  /work1/hezq17/causal_narrative/workspace/notebook/../../dataset/narratives/derivatives/afni-nosmooth/sub-127/func/sub-127_task-piemanpni_space-fsaverage6_hemi-L_desc-clean.func.gii\n",
      "Data load from  /work1/hezq17/causal_narrative/workspace/notebook/../../dataset/narratives/stimuli/gentle/piemanpni/align.json\n",
      "Data load from  /work1/hezq17/causal_narrative/workspace/notebook/../../dataset/opts/piemanpni/opt_no_case_tokenization.pickle\n"
     ]
    },
    {
     "data": {
      "application/vnd.jupyter.widget-view+json": {
       "model_id": "5d00dae07b6e43df8e07817ebd9803dc",
       "version_major": 2,
       "version_minor": 0
      },
      "text/plain": [
       "  0%|          | 0/1285 [00:00<?, ?it/s]"
      ]
     },
     "metadata": {},
     "output_type": "display_data"
    },
    {
     "name": "stdout",
     "output_type": "stream",
     "text": [
      "Data saved to  /work1/hezq17/causal_narrative/workspace/notebook/../../dataset/opts/piemanpni/opt_no_case_alignmat.pickle\n",
      "Data load from  /work1/hezq17/causal_narrative/workspace/notebook/../../dataset/narratives/derivatives/afni-nosmooth/sub-023/func/sub-023_task-prettymouth_space-fsaverage6_hemi-L_desc-clean.func.gii\n",
      "Data load from  /work1/hezq17/causal_narrative/workspace/notebook/../../dataset/narratives/stimuli/gentle/prettymouth/align.json\n",
      "Data load from  /work1/hezq17/causal_narrative/workspace/notebook/../../dataset/opts/prettymouth/opt_no_case_tokenization.pickle\n"
     ]
    },
    {
     "data": {
      "application/vnd.jupyter.widget-view+json": {
       "model_id": "1e593ca3b32a4fda857096006515610c",
       "version_major": 2,
       "version_minor": 0
      },
      "text/plain": [
       "  0%|          | 0/2823 [00:00<?, ?it/s]"
      ]
     },
     "metadata": {},
     "output_type": "display_data"
    },
    {
     "name": "stdout",
     "output_type": "stream",
     "text": [
      "Data saved to  /work1/hezq17/causal_narrative/workspace/notebook/../../dataset/opts/prettymouth/opt_no_case_alignmat.pickle\n",
      "Data load from  /work1/hezq17/causal_narrative/workspace/notebook/../../dataset/narratives/derivatives/afni-nosmooth/sub-049/func/sub-049_task-shapesphysical_space-fsaverage6_hemi-L_desc-clean.func.gii\n",
      "Data load from  /work1/hezq17/causal_narrative/workspace/notebook/../../dataset/narratives/stimuli/gentle/shapesphysical/align.json\n",
      "Data load from  /work1/hezq17/causal_narrative/workspace/notebook/../../dataset/opts/shapesphysical/opt_no_case_tokenization.pickle\n"
     ]
    },
    {
     "data": {
      "application/vnd.jupyter.widget-view+json": {
       "model_id": "b697da32375e4644a3482a09d3e5735b",
       "version_major": 2,
       "version_minor": 0
      },
      "text/plain": [
       "  0%|          | 0/1142 [00:00<?, ?it/s]"
      ]
     },
     "metadata": {},
     "output_type": "display_data"
    },
    {
     "name": "stdout",
     "output_type": "stream",
     "text": [
      "Data saved to  /work1/hezq17/causal_narrative/workspace/notebook/../../dataset/opts/shapesphysical/opt_no_case_alignmat.pickle\n",
      "Data load from  /work1/hezq17/causal_narrative/workspace/notebook/../../dataset/narratives/derivatives/afni-nosmooth/sub-049/func/sub-049_task-shapessocial_space-fsaverage6_hemi-L_desc-clean.func.gii\n",
      "Data load from  /work1/hezq17/causal_narrative/workspace/notebook/../../dataset/narratives/stimuli/gentle/shapessocial/align.json\n",
      "Data load from  /work1/hezq17/causal_narrative/workspace/notebook/../../dataset/opts/shapessocial/opt_no_case_tokenization.pickle\n"
     ]
    },
    {
     "data": {
      "application/vnd.jupyter.widget-view+json": {
       "model_id": "905b91a9b97f4e728420837dea7c864a",
       "version_major": 2,
       "version_minor": 0
      },
      "text/plain": [
       "  0%|          | 0/1080 [00:00<?, ?it/s]"
      ]
     },
     "metadata": {},
     "output_type": "display_data"
    },
    {
     "name": "stdout",
     "output_type": "stream",
     "text": [
      "Data saved to  /work1/hezq17/causal_narrative/workspace/notebook/../../dataset/opts/shapessocial/opt_no_case_alignmat.pickle\n",
      "Data load from  /work1/hezq17/causal_narrative/workspace/notebook/../../dataset/narratives/derivatives/afni-nosmooth/sub-075/func/sub-075_task-sherlock_space-fsaverage6_hemi-L_desc-clean.func.gii\n",
      "Data load from  /work1/hezq17/causal_narrative/workspace/notebook/../../dataset/narratives/stimuli/gentle/sherlock/align.json\n",
      "Data load from  /work1/hezq17/causal_narrative/workspace/notebook/../../dataset/opts/sherlock/opt_no_case_tokenization.pickle\n"
     ]
    },
    {
     "data": {
      "application/vnd.jupyter.widget-view+json": {
       "model_id": "e27f5277426f4aeaa35d25765f965640",
       "version_major": 2,
       "version_minor": 0
      },
      "text/plain": [
       "  0%|          | 0/3678 [00:00<?, ?it/s]"
      ]
     },
     "metadata": {},
     "output_type": "display_data"
    },
    {
     "name": "stdout",
     "output_type": "stream",
     "text": [
      "Data saved to  /work1/hezq17/causal_narrative/workspace/notebook/../../dataset/opts/sherlock/opt_no_case_alignmat.pickle\n",
      "Data load from  /work1/hezq17/causal_narrative/workspace/notebook/../../dataset/narratives/derivatives/afni-nosmooth/sub-016/func/sub-016_task-slumlordreach_space-fsaverage6_hemi-L_desc-clean.func.gii\n",
      "Data load from  /work1/hezq17/causal_narrative/workspace/notebook/../../dataset/narratives/stimuli/gentle/slumlordreach/align.json\n",
      "Data load from  /work1/hezq17/causal_narrative/workspace/notebook/../../dataset/opts/slumlordreach/opt_no_case_tokenization.pickle\n"
     ]
    },
    {
     "data": {
      "application/vnd.jupyter.widget-view+json": {
       "model_id": "c6f45075217242e7b8e782725463a890",
       "version_major": 2,
       "version_minor": 0
      },
      "text/plain": [
       "  0%|          | 0/6823 [00:00<?, ?it/s]"
      ]
     },
     "metadata": {},
     "output_type": "display_data"
    },
    {
     "name": "stdout",
     "output_type": "stream",
     "text": [
      "Data saved to  /work1/hezq17/causal_narrative/workspace/notebook/../../dataset/opts/slumlordreach/opt_no_case_alignmat.pickle\n",
      "Data load from  /work1/hezq17/causal_narrative/workspace/notebook/../../dataset/narratives/derivatives/afni-nosmooth/sub-001/func/sub-001_task-tunnel_space-fsaverage6_hemi-L_desc-clean.func.gii\n",
      "Data load from  /work1/hezq17/causal_narrative/workspace/notebook/../../dataset/narratives/stimuli/gentle/tunnel/align.json\n",
      "Data load from  /work1/hezq17/causal_narrative/workspace/notebook/../../dataset/opts/tunnel/opt_no_case_tokenization.pickle\n"
     ]
    },
    {
     "data": {
      "application/vnd.jupyter.widget-view+json": {
       "model_id": "92c62f36e0224ba2b30ff87079012ebc",
       "version_major": 2,
       "version_minor": 0
      },
      "text/plain": [
       "  0%|          | 0/4780 [00:00<?, ?it/s]"
      ]
     },
     "metadata": {},
     "output_type": "display_data"
    },
    {
     "name": "stdout",
     "output_type": "stream",
     "text": [
      "Data saved to  /work1/hezq17/causal_narrative/workspace/notebook/../../dataset/opts/tunnel/opt_no_case_alignmat.pickle\n"
     ]
    }
   ],
   "source": [
    "ndp.gen_alignment_mats()"
   ]
  },
  {
   "cell_type": "markdown",
   "id": "a8e9c379",
   "metadata": {},
   "source": [
    "## Do Opt encoding with each opt and each story"
   ]
  },
  {
   "cell_type": "code",
   "execution_count": null,
   "id": "bd0e6946",
   "metadata": {},
   "outputs": [],
   "source": [
    "# opt_ls = [\"opt-125m\", \"opt-350m\",\"opt-1.3b\",\"opt-2.7b\",\"opt-6.7b\"]\n",
    "opt_ls = [\"opt-125m_no_case\",\"opt-350m\"]\n",
    "# opt_ls = [\"opt-6.7b\"]\n",
    "# opt_ls = [\"t5\"]\n",
    "ndp = NarrativeDataPreprocess()"
   ]
  },
  {
   "cell_type": "code",
   "execution_count": null,
   "id": "7795ec75",
   "metadata": {},
   "outputs": [],
   "source": [
    "for opt_model in opt_ls:\n",
    "    print(\"Current opt model,\",opt_model)\n",
    "    for task in ndp.tasks:\n",
    "        if task not in ndp.tasks_exclude:\n",
    "            futil = FmriUtil({\"opt_model\": opt_model})\n",
    "            gptcodeall = futil.opt_encode(window=128, task=task, cuda_device=\"cuda:0\") #<6.7b\n",
    "#             gptcodeall = futil.opt_encode_batch(window=256, task=task, chuck_size=64, cuda_device=\"cuda:0\") #<6.7b\n",
    "#             gptcodeall = futil.clip_encode_att(window=75, task=task, cuda_device=\"cuda:0\")\n",
    "#             gptcodeall = futil.t5_encode_block(window=76, task=task, cuda_device=\"cuda:0\") #<6.7b"
   ]
  }
 ],
 "metadata": {
  "kernelspec": {
   "display_name": "Python [conda env:causal] *",
   "language": "python",
   "name": "conda-env-causal-py"
  },
  "language_info": {
   "codemirror_mode": {
    "name": "ipython",
    "version": 3
   },
   "file_extension": ".py",
   "mimetype": "text/x-python",
   "name": "python",
   "nbconvert_exporter": "python",
   "pygments_lexer": "ipython3",
   "version": "3.8.18"
  }
 },
 "nbformat": 4,
 "nbformat_minor": 5
}

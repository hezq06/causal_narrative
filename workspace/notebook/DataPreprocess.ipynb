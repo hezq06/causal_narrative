{
 "cells": [
  {
   "cell_type": "code",
   "execution_count": 1,
   "id": "558a2345",
   "metadata": {},
   "outputs": [],
   "source": [
    "%reload_ext autoreload\n",
    "%autoreload 2\n",
    "import matplotlib\n",
    "# matplotlib.use('TkAgg')\n",
    "# %matplotlib\n",
    "%config Completer.use_jedi = False"
   ]
  },
  {
   "cell_type": "code",
   "execution_count": 2,
   "id": "2b43a006",
   "metadata": {},
   "outputs": [],
   "source": [
    "from causal_narrative.fmriutil import *\n",
    "from causal_narrative.datautil import *"
   ]
  },
  {
   "cell_type": "markdown",
   "id": "127b4ebe",
   "metadata": {},
   "source": [
    "## Prepare Tokenization for each story"
   ]
  },
  {
   "cell_type": "code",
   "execution_count": 3,
   "id": "487e7dc8",
   "metadata": {},
   "outputs": [
    {
     "name": "stdout",
     "output_type": "stream",
     "text": [
      "Data load from  /work1/hezq17/causal_narrative/workspace/notebook/../../dataset/narratives/code/task_meta.json\n",
      "['21styear', 'black', 'bronx', 'forgot', 'lucy', 'merlin', 'milkyway', 'notthefallintact', 'notthefalllongscram', 'notthefallshortscram', 'pieman', 'piemanpni', 'prettymouth', 'schema', 'shapesphysical', 'shapessocial', 'sherlock', 'slumlordreach', 'tunnel']\n",
      "['notthefalllongscram', 'notthefallshortscram', 'schema']\n",
      "Task notthefalllongscram removed\n",
      "Task notthefallshortscram removed\n",
      "Task schema removed\n",
      "Data load from  /work1/hezq17/causal_narrative/workspace/notebook/../../dataset/narratives/code/scan_exclude.json\n"
     ]
    }
   ],
   "source": [
    "ndp = NarrativeDataPreprocess({\"opt_model\":\"opt_no_case\"})"
   ]
  },
  {
   "cell_type": "code",
   "execution_count": 4,
   "id": "95495224",
   "metadata": {
    "scrolled": true
   },
   "outputs": [
    {
     "name": "stdout",
     "output_type": "stream",
     "text": [
      "Data load from  /work1/hezq17/causal_narrative/workspace/notebook/../../dataset/narratives/stimuli/gentle/21styear/align.json\n",
      "Data saved to  /work1/hezq17/causal_narrative/workspace/notebook/../../dataset/opts/21styear/opt_no_case_tokenization.pickle\n",
      "Data load from  /work1/hezq17/causal_narrative/workspace/notebook/../../dataset/narratives/stimuli/gentle/black/align.json\n",
      "Data saved to  /work1/hezq17/causal_narrative/workspace/notebook/../../dataset/opts/black/opt_no_case_tokenization.pickle\n",
      "Data load from  /work1/hezq17/causal_narrative/workspace/notebook/../../dataset/narratives/stimuli/gentle/bronx/align.json\n",
      "Data saved to  /work1/hezq17/causal_narrative/workspace/notebook/../../dataset/opts/bronx/opt_no_case_tokenization.pickle\n",
      "Data load from  /work1/hezq17/causal_narrative/workspace/notebook/../../dataset/narratives/stimuli/gentle/forgot/align.json\n",
      "Data saved to  /work1/hezq17/causal_narrative/workspace/notebook/../../dataset/opts/forgot/opt_no_case_tokenization.pickle\n",
      "Data load from  /work1/hezq17/causal_narrative/workspace/notebook/../../dataset/narratives/stimuli/gentle/lucy/align.json\n",
      "Data saved to  /work1/hezq17/causal_narrative/workspace/notebook/../../dataset/opts/lucy/opt_no_case_tokenization.pickle\n",
      "Data load from  /work1/hezq17/causal_narrative/workspace/notebook/../../dataset/narratives/stimuli/gentle/merlin/align.json\n",
      "Data saved to  /work1/hezq17/causal_narrative/workspace/notebook/../../dataset/opts/merlin/opt_no_case_tokenization.pickle\n",
      "Data load from  /work1/hezq17/causal_narrative/workspace/notebook/../../dataset/narratives/stimuli/gentle/milkyway/align.json\n",
      "Data saved to  /work1/hezq17/causal_narrative/workspace/notebook/../../dataset/opts/milkyway/opt_no_case_tokenization.pickle\n",
      "Data load from  /work1/hezq17/causal_narrative/workspace/notebook/../../dataset/narratives/stimuli/gentle/notthefallintact/align.json\n",
      "Data saved to  /work1/hezq17/causal_narrative/workspace/notebook/../../dataset/opts/notthefallintact/opt_no_case_tokenization.pickle\n",
      "Data load from  /work1/hezq17/causal_narrative/workspace/notebook/../../dataset/narratives/stimuli/gentle/pieman/align.json\n",
      "Data saved to  /work1/hezq17/causal_narrative/workspace/notebook/../../dataset/opts/pieman/opt_no_case_tokenization.pickle\n",
      "Data load from  /work1/hezq17/causal_narrative/workspace/notebook/../../dataset/narratives/stimuli/gentle/piemanpni/align.json\n",
      "Data saved to  /work1/hezq17/causal_narrative/workspace/notebook/../../dataset/opts/piemanpni/opt_no_case_tokenization.pickle\n",
      "Data load from  /work1/hezq17/causal_narrative/workspace/notebook/../../dataset/narratives/stimuli/gentle/prettymouth/align.json\n",
      "Data saved to  /work1/hezq17/causal_narrative/workspace/notebook/../../dataset/opts/prettymouth/opt_no_case_tokenization.pickle\n",
      "Data load from  /work1/hezq17/causal_narrative/workspace/notebook/../../dataset/narratives/stimuli/gentle/shapesphysical/align.json\n",
      "Data saved to  /work1/hezq17/causal_narrative/workspace/notebook/../../dataset/opts/shapesphysical/opt_no_case_tokenization.pickle\n",
      "Data load from  /work1/hezq17/causal_narrative/workspace/notebook/../../dataset/narratives/stimuli/gentle/shapessocial/align.json\n",
      "Data saved to  /work1/hezq17/causal_narrative/workspace/notebook/../../dataset/opts/shapessocial/opt_no_case_tokenization.pickle\n",
      "Data load from  /work1/hezq17/causal_narrative/workspace/notebook/../../dataset/narratives/stimuli/gentle/sherlock/align.json\n",
      "Data saved to  /work1/hezq17/causal_narrative/workspace/notebook/../../dataset/opts/sherlock/opt_no_case_tokenization.pickle\n",
      "Data load from  /work1/hezq17/causal_narrative/workspace/notebook/../../dataset/narratives/stimuli/gentle/slumlordreach/align.json\n",
      "Data saved to  /work1/hezq17/causal_narrative/workspace/notebook/../../dataset/opts/slumlordreach/opt_no_case_tokenization.pickle\n",
      "Data load from  /work1/hezq17/causal_narrative/workspace/notebook/../../dataset/narratives/stimuli/gentle/tunnel/align.json\n",
      "Data saved to  /work1/hezq17/causal_narrative/workspace/notebook/../../dataset/opts/tunnel/opt_no_case_tokenization.pickle\n"
     ]
    }
   ],
   "source": [
    "ndp.tokenization()"
   ]
  },
  {
   "cell_type": "markdown",
   "id": "05a7647a",
   "metadata": {},
   "source": [
    "## Prepare alignment matrix for each story"
   ]
  },
  {
   "cell_type": "code",
   "execution_count": 5,
   "id": "29df2fce",
   "metadata": {
    "scrolled": true
   },
   "outputs": [
    {
     "name": "stdout",
     "output_type": "stream",
     "text": [
      "Data load from  /work1/hezq17/causal_narrative/workspace/notebook/../../dataset/narratives/derivatives/afni-nosmooth/sub-075/func/sub-075_task-21styear_space-fsaverage6_hemi-L_desc-clean.func.gii\n",
      "Data load from  /work1/hezq17/causal_narrative/workspace/notebook/../../dataset/narratives/stimuli/gentle/21styear/align.json\n",
      "Data load from  /work1/hezq17/causal_narrative/workspace/notebook/../../dataset/opts/21styear/opt_no_case_tokenization.pickle\n"
     ]
    },
    {
     "data": {
      "application/vnd.jupyter.widget-view+json": {
       "model_id": "43db6a7273e640c2b0faeba4ae4470fc",
       "version_major": 2,
       "version_minor": 0
      },
      "text/plain": [
       "  0%|          | 0/11712 [00:00<?, ?it/s]"
      ]
     },
     "metadata": {},
     "output_type": "display_data"
    },
    {
     "name": "stdout",
     "output_type": "stream",
     "text": [
      "Data saved to  /work1/hezq17/causal_narrative/workspace/notebook/../../dataset/opts/21styear/opt_no_case_alignmat.pickle\n",
      "Data load from  /work1/hezq17/causal_narrative/workspace/notebook/../../dataset/narratives/derivatives/afni-nosmooth/sub-127/func/sub-127_task-black_space-fsaverage6_hemi-L_desc-clean.func.gii\n",
      "Data load from  /work1/hezq17/causal_narrative/workspace/notebook/../../dataset/narratives/stimuli/gentle/black/align.json\n",
      "Data load from  /work1/hezq17/causal_narrative/workspace/notebook/../../dataset/opts/black/opt_no_case_tokenization.pickle\n"
     ]
    },
    {
     "data": {
      "application/vnd.jupyter.widget-view+json": {
       "model_id": "4db064b7ddfc4b7180a3e4285e48c0ad",
       "version_major": 2,
       "version_minor": 0
      },
      "text/plain": [
       "  0%|          | 0/1909 [00:00<?, ?it/s]"
      ]
     },
     "metadata": {},
     "output_type": "display_data"
    },
    {
     "name": "stdout",
     "output_type": "stream",
     "text": [
      "Data saved to  /work1/hezq17/causal_narrative/workspace/notebook/../../dataset/opts/black/opt_no_case_alignmat.pickle\n",
      "Data load from  /work1/hezq17/causal_narrative/workspace/notebook/../../dataset/narratives/derivatives/afni-nosmooth/sub-127/func/sub-127_task-bronx_space-fsaverage6_hemi-L_desc-clean.func.gii\n",
      "Data load from  /work1/hezq17/causal_narrative/workspace/notebook/../../dataset/narratives/stimuli/gentle/bronx/align.json\n",
      "Data load from  /work1/hezq17/causal_narrative/workspace/notebook/../../dataset/opts/bronx/opt_no_case_tokenization.pickle\n"
     ]
    },
    {
     "data": {
      "application/vnd.jupyter.widget-view+json": {
       "model_id": "2cfb4fd9718f4e8da7fedb24d09a0ec3",
       "version_major": 2,
       "version_minor": 0
      },
      "text/plain": [
       "  0%|          | 0/1713 [00:00<?, ?it/s]"
      ]
     },
     "metadata": {},
     "output_type": "display_data"
    },
    {
     "name": "stdout",
     "output_type": "stream",
     "text": [
      "Data saved to  /work1/hezq17/causal_narrative/workspace/notebook/../../dataset/opts/bronx/opt_no_case_alignmat.pickle\n",
      "Data load from  /work1/hezq17/causal_narrative/workspace/notebook/../../dataset/narratives/derivatives/afni-nosmooth/sub-127/func/sub-127_task-forgot_space-fsaverage6_hemi-L_desc-clean.func.gii\n",
      "Data load from  /work1/hezq17/causal_narrative/workspace/notebook/../../dataset/narratives/stimuli/gentle/forgot/align.json\n",
      "Data load from  /work1/hezq17/causal_narrative/workspace/notebook/../../dataset/opts/forgot/opt_no_case_tokenization.pickle\n"
     ]
    },
    {
     "data": {
      "application/vnd.jupyter.widget-view+json": {
       "model_id": "8aba925ba72042ea85c4ecaaa97a7187",
       "version_major": 2,
       "version_minor": 0
      },
      "text/plain": [
       "  0%|          | 0/2589 [00:00<?, ?it/s]"
      ]
     },
     "metadata": {},
     "output_type": "display_data"
    },
    {
     "name": "stdout",
     "output_type": "stream",
     "text": [
      "Data saved to  /work1/hezq17/causal_narrative/workspace/notebook/../../dataset/opts/forgot/opt_no_case_alignmat.pickle\n",
      "Data load from  /work1/hezq17/causal_narrative/workspace/notebook/../../dataset/narratives/derivatives/afni-nosmooth/sub-022/func/sub-022_task-lucy_space-fsaverage6_hemi-L_desc-clean.func.gii\n",
      "Data load from  /work1/hezq17/causal_narrative/workspace/notebook/../../dataset/narratives/stimuli/gentle/lucy/align.json\n",
      "Data load from  /work1/hezq17/causal_narrative/workspace/notebook/../../dataset/opts/lucy/opt_no_case_tokenization.pickle\n"
     ]
    },
    {
     "data": {
      "application/vnd.jupyter.widget-view+json": {
       "model_id": "fd6a7eefd1014452882bcdecb7dca363",
       "version_major": 2,
       "version_minor": 0
      },
      "text/plain": [
       "  0%|          | 0/2118 [00:00<?, ?it/s]"
      ]
     },
     "metadata": {},
     "output_type": "display_data"
    },
    {
     "name": "stdout",
     "output_type": "stream",
     "text": [
      "Data saved to  /work1/hezq17/causal_narrative/workspace/notebook/../../dataset/opts/lucy/opt_no_case_alignmat.pickle\n",
      "Data load from  /work1/hezq17/causal_narrative/workspace/notebook/../../dataset/narratives/derivatives/afni-nosmooth/sub-075/func/sub-075_task-merlin_space-fsaverage6_hemi-L_desc-clean.func.gii\n",
      "Data load from  /work1/hezq17/causal_narrative/workspace/notebook/../../dataset/narratives/stimuli/gentle/merlin/align.json\n",
      "Data load from  /work1/hezq17/causal_narrative/workspace/notebook/../../dataset/opts/merlin/opt_no_case_tokenization.pickle\n"
     ]
    },
    {
     "data": {
      "application/vnd.jupyter.widget-view+json": {
       "model_id": "24ee9f45d3324fb597ec094e1f3ad3cf",
       "version_major": 2,
       "version_minor": 0
      },
      "text/plain": [
       "  0%|          | 0/2986 [00:00<?, ?it/s]"
      ]
     },
     "metadata": {},
     "output_type": "display_data"
    },
    {
     "name": "stdout",
     "output_type": "stream",
     "text": [
      "Data saved to  /work1/hezq17/causal_narrative/workspace/notebook/../../dataset/opts/merlin/opt_no_case_alignmat.pickle\n",
      "Data load from  /work1/hezq17/causal_narrative/workspace/notebook/../../dataset/narratives/derivatives/afni-nosmooth/sub-023/func/sub-023_task-milkyway_space-fsaverage6_hemi-L_desc-clean.func.gii\n",
      "Data load from  /work1/hezq17/causal_narrative/workspace/notebook/../../dataset/narratives/stimuli/gentle/milkyway/align.json\n",
      "Data load from  /work1/hezq17/causal_narrative/workspace/notebook/../../dataset/opts/milkyway/opt_no_case_tokenization.pickle\n"
     ]
    },
    {
     "data": {
      "application/vnd.jupyter.widget-view+json": {
       "model_id": "574a228a500e4ca1bb2a91b9c22ee378",
       "version_major": 2,
       "version_minor": 0
      },
      "text/plain": [
       "  0%|          | 0/1468 [00:00<?, ?it/s]"
      ]
     },
     "metadata": {},
     "output_type": "display_data"
    },
    {
     "name": "stdout",
     "output_type": "stream",
     "text": [
      "Data saved to  /work1/hezq17/causal_narrative/workspace/notebook/../../dataset/opts/milkyway/opt_no_case_alignmat.pickle\n",
      "Data load from  /work1/hezq17/causal_narrative/workspace/notebook/../../dataset/narratives/derivatives/afni-nosmooth/sub-016/func/sub-016_task-notthefallintact_space-fsaverage6_hemi-L_desc-clean.func.gii\n",
      "Data load from  /work1/hezq17/causal_narrative/workspace/notebook/../../dataset/narratives/stimuli/gentle/notthefallintact/align.json\n",
      "Data load from  /work1/hezq17/causal_narrative/workspace/notebook/../../dataset/opts/notthefallintact/opt_no_case_tokenization.pickle\n"
     ]
    },
    {
     "data": {
      "application/vnd.jupyter.widget-view+json": {
       "model_id": "b6d85ca958b14c358d8a5d2418a0c9b1",
       "version_major": 2,
       "version_minor": 0
      },
      "text/plain": [
       "  0%|          | 0/2147 [00:00<?, ?it/s]"
      ]
     },
     "metadata": {},
     "output_type": "display_data"
    },
    {
     "name": "stdout",
     "output_type": "stream",
     "text": [
      "Data saved to  /work1/hezq17/causal_narrative/workspace/notebook/../../dataset/opts/notthefallintact/opt_no_case_alignmat.pickle\n",
      "Data load from  /work1/hezq17/causal_narrative/workspace/notebook/../../dataset/narratives/derivatives/afni-nosmooth/sub-002/func/sub-002_task-pieman_run-1_space-fsaverage6_hemi-L_desc-clean.func.gii\n",
      "Data load from  /work1/hezq17/causal_narrative/workspace/notebook/../../dataset/narratives/stimuli/gentle/pieman/align.json\n",
      "Data load from  /work1/hezq17/causal_narrative/workspace/notebook/../../dataset/opts/pieman/opt_no_case_tokenization.pickle\n"
     ]
    },
    {
     "data": {
      "application/vnd.jupyter.widget-view+json": {
       "model_id": "4915ede662a34862a19d9e440f4b3c21",
       "version_major": 2,
       "version_minor": 0
      },
      "text/plain": [
       "  0%|          | 0/1223 [00:00<?, ?it/s]"
      ]
     },
     "metadata": {},
     "output_type": "display_data"
    },
    {
     "name": "stdout",
     "output_type": "stream",
     "text": [
      "Data saved to  /work1/hezq17/causal_narrative/workspace/notebook/../../dataset/opts/pieman/opt_no_case_alignmat.pickle\n",
      "Data load from  /work1/hezq17/causal_narrative/workspace/notebook/../../dataset/narratives/derivatives/afni-nosmooth/sub-127/func/sub-127_task-piemanpni_space-fsaverage6_hemi-L_desc-clean.func.gii\n",
      "Data load from  /work1/hezq17/causal_narrative/workspace/notebook/../../dataset/narratives/stimuli/gentle/piemanpni/align.json\n",
      "Data load from  /work1/hezq17/causal_narrative/workspace/notebook/../../dataset/opts/piemanpni/opt_no_case_tokenization.pickle\n"
     ]
    },
    {
     "data": {
      "application/vnd.jupyter.widget-view+json": {
       "model_id": "2d15f134066c4ce0a93241bec95ba32e",
       "version_major": 2,
       "version_minor": 0
      },
      "text/plain": [
       "  0%|          | 0/1285 [00:00<?, ?it/s]"
      ]
     },
     "metadata": {},
     "output_type": "display_data"
    },
    {
     "name": "stdout",
     "output_type": "stream",
     "text": [
      "Data saved to  /work1/hezq17/causal_narrative/workspace/notebook/../../dataset/opts/piemanpni/opt_no_case_alignmat.pickle\n",
      "Data load from  /work1/hezq17/causal_narrative/workspace/notebook/../../dataset/narratives/derivatives/afni-nosmooth/sub-023/func/sub-023_task-prettymouth_space-fsaverage6_hemi-L_desc-clean.func.gii\n",
      "Data load from  /work1/hezq17/causal_narrative/workspace/notebook/../../dataset/narratives/stimuli/gentle/prettymouth/align.json\n",
      "Data load from  /work1/hezq17/causal_narrative/workspace/notebook/../../dataset/opts/prettymouth/opt_no_case_tokenization.pickle\n"
     ]
    },
    {
     "data": {
      "application/vnd.jupyter.widget-view+json": {
       "model_id": "e90ec1d447ad4cccb344f28fa68f8294",
       "version_major": 2,
       "version_minor": 0
      },
      "text/plain": [
       "  0%|          | 0/2823 [00:00<?, ?it/s]"
      ]
     },
     "metadata": {},
     "output_type": "display_data"
    },
    {
     "name": "stdout",
     "output_type": "stream",
     "text": [
      "Data saved to  /work1/hezq17/causal_narrative/workspace/notebook/../../dataset/opts/prettymouth/opt_no_case_alignmat.pickle\n",
      "Data load from  /work1/hezq17/causal_narrative/workspace/notebook/../../dataset/narratives/derivatives/afni-nosmooth/sub-049/func/sub-049_task-shapesphysical_space-fsaverage6_hemi-L_desc-clean.func.gii\n",
      "Data load from  /work1/hezq17/causal_narrative/workspace/notebook/../../dataset/narratives/stimuli/gentle/shapesphysical/align.json\n",
      "Data load from  /work1/hezq17/causal_narrative/workspace/notebook/../../dataset/opts/shapesphysical/opt_no_case_tokenization.pickle\n"
     ]
    },
    {
     "data": {
      "application/vnd.jupyter.widget-view+json": {
       "model_id": "2ae9204326db4ee2a08a8c79c53c1918",
       "version_major": 2,
       "version_minor": 0
      },
      "text/plain": [
       "  0%|          | 0/1142 [00:00<?, ?it/s]"
      ]
     },
     "metadata": {},
     "output_type": "display_data"
    },
    {
     "name": "stdout",
     "output_type": "stream",
     "text": [
      "Data saved to  /work1/hezq17/causal_narrative/workspace/notebook/../../dataset/opts/shapesphysical/opt_no_case_alignmat.pickle\n",
      "Data load from  /work1/hezq17/causal_narrative/workspace/notebook/../../dataset/narratives/derivatives/afni-nosmooth/sub-049/func/sub-049_task-shapessocial_space-fsaverage6_hemi-L_desc-clean.func.gii\n",
      "Data load from  /work1/hezq17/causal_narrative/workspace/notebook/../../dataset/narratives/stimuli/gentle/shapessocial/align.json\n",
      "Data load from  /work1/hezq17/causal_narrative/workspace/notebook/../../dataset/opts/shapessocial/opt_no_case_tokenization.pickle\n"
     ]
    },
    {
     "data": {
      "application/vnd.jupyter.widget-view+json": {
       "model_id": "0c0f3d546aad47a09cfdf597eed74077",
       "version_major": 2,
       "version_minor": 0
      },
      "text/plain": [
       "  0%|          | 0/1080 [00:00<?, ?it/s]"
      ]
     },
     "metadata": {},
     "output_type": "display_data"
    },
    {
     "name": "stdout",
     "output_type": "stream",
     "text": [
      "Data saved to  /work1/hezq17/causal_narrative/workspace/notebook/../../dataset/opts/shapessocial/opt_no_case_alignmat.pickle\n",
      "Data load from  /work1/hezq17/causal_narrative/workspace/notebook/../../dataset/narratives/derivatives/afni-nosmooth/sub-075/func/sub-075_task-sherlock_space-fsaverage6_hemi-L_desc-clean.func.gii\n",
      "Data load from  /work1/hezq17/causal_narrative/workspace/notebook/../../dataset/narratives/stimuli/gentle/sherlock/align.json\n",
      "Data load from  /work1/hezq17/causal_narrative/workspace/notebook/../../dataset/opts/sherlock/opt_no_case_tokenization.pickle\n"
     ]
    },
    {
     "data": {
      "application/vnd.jupyter.widget-view+json": {
       "model_id": "9ce20ce889e441e1bd6edacdba2927dd",
       "version_major": 2,
       "version_minor": 0
      },
      "text/plain": [
       "  0%|          | 0/3678 [00:00<?, ?it/s]"
      ]
     },
     "metadata": {},
     "output_type": "display_data"
    },
    {
     "name": "stdout",
     "output_type": "stream",
     "text": [
      "Data saved to  /work1/hezq17/causal_narrative/workspace/notebook/../../dataset/opts/sherlock/opt_no_case_alignmat.pickle\n",
      "Data load from  /work1/hezq17/causal_narrative/workspace/notebook/../../dataset/narratives/derivatives/afni-nosmooth/sub-016/func/sub-016_task-slumlordreach_space-fsaverage6_hemi-L_desc-clean.func.gii\n",
      "Data load from  /work1/hezq17/causal_narrative/workspace/notebook/../../dataset/narratives/stimuli/gentle/slumlordreach/align.json\n",
      "Data load from  /work1/hezq17/causal_narrative/workspace/notebook/../../dataset/opts/slumlordreach/opt_no_case_tokenization.pickle\n"
     ]
    },
    {
     "data": {
      "application/vnd.jupyter.widget-view+json": {
       "model_id": "af127be0b31f4bab81799e18602bdbe0",
       "version_major": 2,
       "version_minor": 0
      },
      "text/plain": [
       "  0%|          | 0/6823 [00:00<?, ?it/s]"
      ]
     },
     "metadata": {},
     "output_type": "display_data"
    },
    {
     "name": "stdout",
     "output_type": "stream",
     "text": [
      "Data saved to  /work1/hezq17/causal_narrative/workspace/notebook/../../dataset/opts/slumlordreach/opt_no_case_alignmat.pickle\n",
      "Data load from  /work1/hezq17/causal_narrative/workspace/notebook/../../dataset/narratives/derivatives/afni-nosmooth/sub-001/func/sub-001_task-tunnel_space-fsaverage6_hemi-L_desc-clean.func.gii\n",
      "Data load from  /work1/hezq17/causal_narrative/workspace/notebook/../../dataset/narratives/stimuli/gentle/tunnel/align.json\n",
      "Data load from  /work1/hezq17/causal_narrative/workspace/notebook/../../dataset/opts/tunnel/opt_no_case_tokenization.pickle\n"
     ]
    },
    {
     "data": {
      "application/vnd.jupyter.widget-view+json": {
       "model_id": "63a0d1df884c4b75b708d32bce5ac310",
       "version_major": 2,
       "version_minor": 0
      },
      "text/plain": [
       "  0%|          | 0/4780 [00:00<?, ?it/s]"
      ]
     },
     "metadata": {},
     "output_type": "display_data"
    },
    {
     "name": "stdout",
     "output_type": "stream",
     "text": [
      "Data saved to  /work1/hezq17/causal_narrative/workspace/notebook/../../dataset/opts/tunnel/opt_no_case_alignmat.pickle\n"
     ]
    }
   ],
   "source": [
    "ndp.gen_alignment_mats()"
   ]
  },
  {
   "cell_type": "markdown",
   "id": "a8e9c379",
   "metadata": {},
   "source": [
    "## Do Opt encoding with each opt and each story"
   ]
  },
  {
   "cell_type": "code",
   "execution_count": 6,
   "id": "bd0e6946",
   "metadata": {},
   "outputs": [
    {
     "name": "stdout",
     "output_type": "stream",
     "text": [
      "Data load from  /work1/hezq17/causal_narrative/workspace/notebook/../../dataset/narratives/code/task_meta.json\n",
      "['21styear', 'black', 'bronx', 'forgot', 'lucy', 'merlin', 'milkyway', 'notthefallintact', 'notthefalllongscram', 'notthefallshortscram', 'pieman', 'piemanpni', 'prettymouth', 'schema', 'shapesphysical', 'shapessocial', 'sherlock', 'slumlordreach', 'tunnel']\n",
      "['notthefalllongscram', 'notthefallshortscram', 'schema']\n",
      "Task notthefalllongscram removed\n",
      "Task notthefallshortscram removed\n",
      "Task schema removed\n",
      "Data load from  /work1/hezq17/causal_narrative/workspace/notebook/../../dataset/narratives/code/scan_exclude.json\n"
     ]
    }
   ],
   "source": [
    "# opt_ls = [\"opt-125m\", \"opt-350m\",\"opt-1.3b\",\"opt-2.7b\",\"opt-6.7b\"]\n",
    "opt_ls = [\"opt-125m_no_case\"]\n",
    "# opt_ls = [\"opt-6.7b\"]\n",
    "# opt_ls = [\"t5\"]\n",
    "ndp = NarrativeDataPreprocess()"
   ]
  },
  {
   "cell_type": "code",
   "execution_count": 7,
   "id": "7795ec75",
   "metadata": {},
   "outputs": [
    {
     "name": "stdout",
     "output_type": "stream",
     "text": [
      "Current opt model, opt-125m_no_case\n"
     ]
    },
    {
     "name": "stderr",
     "output_type": "stream",
     "text": [
      "/home/hezq17/anaconda3/envs/causal/lib/python3.8/site-packages/torch/_utils.py:831: UserWarning: TypedStorage is deprecated. It will be removed in the future and UntypedStorage will be the only storage class. This should only matter to you if you are using storages directly.  To access UntypedStorage directly, use tensor.untyped_storage() instead of tensor.storage()\n",
      "  return self.fget.__get__(instance, owner)()\n"
     ]
    },
    {
     "name": "stdout",
     "output_type": "stream",
     "text": [
      "Data load from  /work1/hezq17/causal_narrative/workspace/notebook/../../dataset/opts/21styear/opt_no_case_tokenization.pickle\n"
     ]
    },
    {
     "name": "stderr",
     "output_type": "stream",
     "text": [
      "100%|██████████████████████████████████████████████████████████████████| 11712/11712 [01:25<00:00, 137.66it/s]\n"
     ]
    },
    {
     "name": "stdout",
     "output_type": "stream",
     "text": [
      "Data saved to  /work1/hezq17/causal_narrative/workspace/notebook/../../dataset/opts/21styear/opt_encode_opt-125m_no_case_w128.data\n",
      "Data load from  /work1/hezq17/causal_narrative/workspace/notebook/../../dataset/opts/black/opt_no_case_tokenization.pickle\n"
     ]
    },
    {
     "name": "stderr",
     "output_type": "stream",
     "text": [
      "100%|████████████████████████████████████████████████████████████████████| 1909/1909 [00:13<00:00, 139.46it/s]\n"
     ]
    },
    {
     "name": "stdout",
     "output_type": "stream",
     "text": [
      "Data saved to  /work1/hezq17/causal_narrative/workspace/notebook/../../dataset/opts/black/opt_encode_opt-125m_no_case_w128.data\n",
      "Data load from  /work1/hezq17/causal_narrative/workspace/notebook/../../dataset/opts/bronx/opt_no_case_tokenization.pickle\n"
     ]
    },
    {
     "name": "stderr",
     "output_type": "stream",
     "text": [
      "100%|████████████████████████████████████████████████████████████████████| 1713/1713 [00:12<00:00, 139.57it/s]\n"
     ]
    },
    {
     "name": "stdout",
     "output_type": "stream",
     "text": [
      "Data saved to  /work1/hezq17/causal_narrative/workspace/notebook/../../dataset/opts/bronx/opt_encode_opt-125m_no_case_w128.data\n",
      "Data load from  /work1/hezq17/causal_narrative/workspace/notebook/../../dataset/opts/forgot/opt_no_case_tokenization.pickle\n"
     ]
    },
    {
     "name": "stderr",
     "output_type": "stream",
     "text": [
      "100%|████████████████████████████████████████████████████████████████████| 2589/2589 [00:18<00:00, 139.38it/s]\n"
     ]
    },
    {
     "name": "stdout",
     "output_type": "stream",
     "text": [
      "Data saved to  /work1/hezq17/causal_narrative/workspace/notebook/../../dataset/opts/forgot/opt_encode_opt-125m_no_case_w128.data\n",
      "Data load from  /work1/hezq17/causal_narrative/workspace/notebook/../../dataset/opts/lucy/opt_no_case_tokenization.pickle\n"
     ]
    },
    {
     "name": "stderr",
     "output_type": "stream",
     "text": [
      "100%|████████████████████████████████████████████████████████████████████| 2118/2118 [00:15<00:00, 139.50it/s]\n"
     ]
    },
    {
     "name": "stdout",
     "output_type": "stream",
     "text": [
      "Data saved to  /work1/hezq17/causal_narrative/workspace/notebook/../../dataset/opts/lucy/opt_encode_opt-125m_no_case_w128.data\n",
      "Data load from  /work1/hezq17/causal_narrative/workspace/notebook/../../dataset/opts/merlin/opt_no_case_tokenization.pickle\n"
     ]
    },
    {
     "name": "stderr",
     "output_type": "stream",
     "text": [
      "100%|████████████████████████████████████████████████████████████████████| 2986/2986 [00:21<00:00, 139.18it/s]\n"
     ]
    },
    {
     "name": "stdout",
     "output_type": "stream",
     "text": [
      "Data saved to  /work1/hezq17/causal_narrative/workspace/notebook/../../dataset/opts/merlin/opt_encode_opt-125m_no_case_w128.data\n",
      "Data load from  /work1/hezq17/causal_narrative/workspace/notebook/../../dataset/opts/milkyway/opt_no_case_tokenization.pickle\n"
     ]
    },
    {
     "name": "stderr",
     "output_type": "stream",
     "text": [
      "100%|████████████████████████████████████████████████████████████████████| 1468/1468 [00:10<00:00, 139.79it/s]\n"
     ]
    },
    {
     "name": "stdout",
     "output_type": "stream",
     "text": [
      "Data saved to  /work1/hezq17/causal_narrative/workspace/notebook/../../dataset/opts/milkyway/opt_encode_opt-125m_no_case_w128.data\n",
      "Data load from  /work1/hezq17/causal_narrative/workspace/notebook/../../dataset/opts/notthefallintact/opt_no_case_tokenization.pickle\n"
     ]
    },
    {
     "name": "stderr",
     "output_type": "stream",
     "text": [
      "100%|████████████████████████████████████████████████████████████████████| 2147/2147 [00:15<00:00, 139.44it/s]\n"
     ]
    },
    {
     "name": "stdout",
     "output_type": "stream",
     "text": [
      "Data saved to  /work1/hezq17/causal_narrative/workspace/notebook/../../dataset/opts/notthefallintact/opt_encode_opt-125m_no_case_w128.data\n",
      "Data load from  /work1/hezq17/causal_narrative/workspace/notebook/../../dataset/opts/pieman/opt_no_case_tokenization.pickle\n"
     ]
    },
    {
     "name": "stderr",
     "output_type": "stream",
     "text": [
      "100%|████████████████████████████████████████████████████████████████████| 1223/1223 [00:08<00:00, 140.00it/s]\n"
     ]
    },
    {
     "name": "stdout",
     "output_type": "stream",
     "text": [
      "Data saved to  /work1/hezq17/causal_narrative/workspace/notebook/../../dataset/opts/pieman/opt_encode_opt-125m_no_case_w128.data\n",
      "Data load from  /work1/hezq17/causal_narrative/workspace/notebook/../../dataset/opts/piemanpni/opt_no_case_tokenization.pickle\n"
     ]
    },
    {
     "name": "stderr",
     "output_type": "stream",
     "text": [
      "100%|████████████████████████████████████████████████████████████████████| 1285/1285 [00:09<00:00, 139.84it/s]\n"
     ]
    },
    {
     "name": "stdout",
     "output_type": "stream",
     "text": [
      "Data saved to  /work1/hezq17/causal_narrative/workspace/notebook/../../dataset/opts/piemanpni/opt_encode_opt-125m_no_case_w128.data\n",
      "Data load from  /work1/hezq17/causal_narrative/workspace/notebook/../../dataset/opts/prettymouth/opt_no_case_tokenization.pickle\n"
     ]
    },
    {
     "name": "stderr",
     "output_type": "stream",
     "text": [
      "100%|████████████████████████████████████████████████████████████████████| 2823/2823 [00:20<00:00, 139.18it/s]\n"
     ]
    },
    {
     "name": "stdout",
     "output_type": "stream",
     "text": [
      "Data saved to  /work1/hezq17/causal_narrative/workspace/notebook/../../dataset/opts/prettymouth/opt_encode_opt-125m_no_case_w128.data\n",
      "Data load from  /work1/hezq17/causal_narrative/workspace/notebook/../../dataset/opts/shapesphysical/opt_no_case_tokenization.pickle\n"
     ]
    },
    {
     "name": "stderr",
     "output_type": "stream",
     "text": [
      "100%|████████████████████████████████████████████████████████████████████| 1142/1142 [00:08<00:00, 139.89it/s]\n"
     ]
    },
    {
     "name": "stdout",
     "output_type": "stream",
     "text": [
      "Data saved to  /work1/hezq17/causal_narrative/workspace/notebook/../../dataset/opts/shapesphysical/opt_encode_opt-125m_no_case_w128.data\n",
      "Data load from  /work1/hezq17/causal_narrative/workspace/notebook/../../dataset/opts/shapessocial/opt_no_case_tokenization.pickle\n"
     ]
    },
    {
     "name": "stderr",
     "output_type": "stream",
     "text": [
      "100%|████████████████████████████████████████████████████████████████████| 1080/1080 [00:07<00:00, 140.04it/s]\n"
     ]
    },
    {
     "name": "stdout",
     "output_type": "stream",
     "text": [
      "Data saved to  /work1/hezq17/causal_narrative/workspace/notebook/../../dataset/opts/shapessocial/opt_encode_opt-125m_no_case_w128.data\n",
      "Data load from  /work1/hezq17/causal_narrative/workspace/notebook/../../dataset/opts/sherlock/opt_no_case_tokenization.pickle\n"
     ]
    },
    {
     "name": "stderr",
     "output_type": "stream",
     "text": [
      "100%|████████████████████████████████████████████████████████████████████| 3678/3678 [00:26<00:00, 139.06it/s]\n"
     ]
    },
    {
     "name": "stdout",
     "output_type": "stream",
     "text": [
      "Data saved to  /work1/hezq17/causal_narrative/workspace/notebook/../../dataset/opts/sherlock/opt_encode_opt-125m_no_case_w128.data\n",
      "Data load from  /work1/hezq17/causal_narrative/workspace/notebook/../../dataset/opts/slumlordreach/opt_no_case_tokenization.pickle\n"
     ]
    },
    {
     "name": "stderr",
     "output_type": "stream",
     "text": [
      "100%|████████████████████████████████████████████████████████████████████| 6823/6823 [00:49<00:00, 138.36it/s]\n"
     ]
    },
    {
     "name": "stdout",
     "output_type": "stream",
     "text": [
      "Data saved to  /work1/hezq17/causal_narrative/workspace/notebook/../../dataset/opts/slumlordreach/opt_encode_opt-125m_no_case_w128.data\n",
      "Data load from  /work1/hezq17/causal_narrative/workspace/notebook/../../dataset/opts/tunnel/opt_no_case_tokenization.pickle\n"
     ]
    },
    {
     "name": "stderr",
     "output_type": "stream",
     "text": [
      "100%|████████████████████████████████████████████████████████████████████| 4780/4780 [00:34<00:00, 138.77it/s]\n"
     ]
    },
    {
     "name": "stdout",
     "output_type": "stream",
     "text": [
      "Data saved to  /work1/hezq17/causal_narrative/workspace/notebook/../../dataset/opts/tunnel/opt_encode_opt-125m_no_case_w128.data\n"
     ]
    }
   ],
   "source": [
    "for opt_model in opt_ls:\n",
    "    print(\"Current opt model,\",opt_model)\n",
    "    for task in ndp.tasks:\n",
    "        if task not in ndp.tasks_exclude:\n",
    "            futil = FmriUtil({\"opt_model\": opt_model})\n",
    "            gptcodeall = futil.opt_encode(window=128, task=task, cuda_device=\"cuda:0\") #<6.7b\n",
    "#             gptcodeall = futil.opt_encode_batch(window=256, task=task, chuck_size=64, cuda_device=\"cuda:0\") #<6.7b\n",
    "#             gptcodeall = futil.clip_encode_att(window=75, task=task, cuda_device=\"cuda:0\")\n",
    "#             gptcodeall = futil.t5_encode_block(window=76, task=task, cuda_device=\"cuda:0\") #<6.7b"
   ]
  },
  {
   "cell_type": "code",
   "execution_count": null,
   "id": "27fdd9d3",
   "metadata": {},
   "outputs": [],
   "source": []
  }
 ],
 "metadata": {
  "kernelspec": {
   "display_name": "Python [conda env:causal] *",
   "language": "python",
   "name": "conda-env-causal-py"
  },
  "language_info": {
   "codemirror_mode": {
    "name": "ipython",
    "version": 3
   },
   "file_extension": ".py",
   "mimetype": "text/x-python",
   "name": "python",
   "nbconvert_exporter": "python",
   "pygments_lexer": "ipython3",
   "version": "3.8.18"
  }
 },
 "nbformat": 4,
 "nbformat_minor": 5
}
